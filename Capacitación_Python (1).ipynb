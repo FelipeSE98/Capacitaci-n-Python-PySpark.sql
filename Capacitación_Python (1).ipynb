{
 "cells": [
  {
   "cell_type": "markdown",
   "id": "d577456d-5e7a-4a80-b716-6bd89613a881",
   "metadata": {},
   "source": [
    "# Python y gráficos "
   ]
  },
  {
   "cell_type": "code",
   "execution_count": 1,
   "id": "5e7f8748-4965-4ec5-bb25-8e51da234b3d",
   "metadata": {},
   "outputs": [],
   "source": [
    "import pyspark\n",
    "from pyspark.sql import *\n",
    "from pyspark.sql.types import *\n",
    "from pyspark.sql.functions import *\n",
    "import pyspark.sql.functions as f\n",
    "from pyspark.sql import SparkSession\n",
    "\n",
    "from pyspark.sql.functions import (max as ps_max, min as ps_min, count as ps_count, when, desc, col, lit, countDistinct, sqrt as ps_sqrt, ceil, row_number,\n",
    "                                   monotonically_increasing_id, lead, sum as ps_sum, log as ps_log, abs as ps_abs, round as ps_round, rank, \n",
    "                                   stddev as ps_stddev, mean as ps_mean)"
   ]
  },
  {
   "cell_type": "code",
   "execution_count": 2,
   "id": "858bd1ed-ae1c-4cd4-bdcd-878d8966024e",
   "metadata": {},
   "outputs": [
    {
     "name": "stderr",
     "output_type": "stream",
     "text": [
      "Setting default log level to \"WARN\".\n",
      "To adjust logging level use sc.setLogLevel(newLevel). For SparkR, use setLogLevel(newLevel).\n",
      "22/03/30 09:26:03 WARN util.Utils: Service 'SparkUI' could not bind on port 4040. Attempting port 4041.\n",
      "22/03/30 09:26:03 WARN util.Utils: Service 'SparkUI' could not bind on port 4041. Attempting port 4042.\n"
     ]
    },
    {
     "data": {
      "text/html": [
       "\n",
       "            <div>\n",
       "                <p><b>SparkSession - hive</b></p>\n",
       "                \n",
       "        <div>\n",
       "            <p><b>SparkContext</b></p>\n",
       "\n",
       "            <p><a href=\"http://schlccclofp0012.intranetcl.corp:4042\">Spark UI</a></p>\n",
       "\n",
       "            <dl>\n",
       "              <dt>Version</dt>\n",
       "                <dd><code>v2.3.0.cloudera4</code></dd>\n",
       "              <dt>Master</dt>\n",
       "                <dd><code>yarn</code></dd>\n",
       "              <dt>AppName</dt>\n",
       "                <dd><code>Capacitación Python</code></dd>\n",
       "            </dl>\n",
       "        </div>\n",
       "        \n",
       "            </div>\n",
       "        "
      ],
      "text/plain": [
       "<pyspark.sql.session.SparkSession at 0x7f9d6f56e990>"
      ]
     },
     "execution_count": 2,
     "metadata": {},
     "output_type": "execute_result"
    }
   ],
   "source": [
    "from pyspark.sql import SparkSession\n",
    "\n",
    "app_name = \"Capacitación Python\"\n",
    "\n",
    "spark = SparkSession.builder \\\n",
    "        .appName(app_name) \\\n",
    "        .master(\"yarn\") \\\n",
    "        .config(\"spark.driver.memory\",\"16g\")\\\n",
    "        .config(\"spark.executor.memory\",\"10g\")\\\n",
    "        .config(\"spark.sql.autoBroadcastJoinThreshold\", -1)\\\n",
    "        .config('spark.executor.memoryOverhead','6gb')\\\n",
    "        .config(\"spark.sql.crossJoin.enabled\", \"true\")\\\n",
    "        .config(\"spark.yarn.queue\", \"root.g_ey_metyprov_val\")\\\n",
    "        .getOrCreate()\n",
    "\n",
    "spark"
   ]
  },
  {
   "cell_type": "code",
   "execution_count": 3,
   "id": "00964105-7b0a-417f-9099-6ab2efb75b73",
   "metadata": {},
   "outputs": [],
   "source": [
    "spark.sparkContext.setLogLevel(\"off\")"
   ]
  },
  {
   "cell_type": "markdown",
   "id": "baa65c1b-e7b0-4e66-b975-d6ae5509e146",
   "metadata": {},
   "source": [
    "## 1.- Estructuras de datos"
   ]
  },
  {
   "cell_type": "markdown",
   "id": "4c78fc39-72b6-413a-9788-dcf6f71d3e9e",
   "metadata": {},
   "source": [
    "### 1.1 Datos no iterables / tipos de números"
   ]
  },
  {
   "cell_type": "markdown",
   "id": "87ebd375-744b-4c60-9a03-14458d57acaa",
   "metadata": {},
   "source": [
    "En esta sección nos encontramos con los siguientes tipos de datos\n",
    "\n",
    "* Integers - int()\n",
    "* Floating point - float()\n",
    "* Boolean - bool()\n",
    "* Complex - complex()\n",
    "\n",
    "Estudiamos su estructura con algunos ejemplos"
   ]
  },
  {
   "cell_type": "markdown",
   "id": "287834fe-e78c-4e54-9282-98d97c99f581",
   "metadata": {},
   "source": [
    "#### Enteros"
   ]
  },
  {
   "cell_type": "code",
   "execution_count": 90,
   "id": "91bf76c0-300d-48ff-9005-6bef9ca1b22a",
   "metadata": {},
   "outputs": [
    {
     "data": {
      "text/plain": [
       "int"
      ]
     },
     "execution_count": 90,
     "metadata": {},
     "output_type": "execute_result"
    }
   ],
   "source": [
    "# Tipo de dato Entero\n",
    "Interger = 3\n",
    "type(Interger)"
   ]
  },
  {
   "cell_type": "markdown",
   "id": "c26aa3d2-290a-4c3c-ad2d-a3fba6f39843",
   "metadata": {},
   "source": [
    "#### Flotante (\"real\")"
   ]
  },
  {
   "cell_type": "code",
   "execution_count": 91,
   "id": "b09a9aee-7ab6-4c6c-88b5-048452d7e8d7",
   "metadata": {},
   "outputs": [
    {
     "data": {
      "text/plain": [
       "float"
      ]
     },
     "execution_count": 91,
     "metadata": {},
     "output_type": "execute_result"
    }
   ],
   "source": [
    "# Tipo de dato flotante\n",
    "floating_point = 3.\n",
    "type(floating_point)"
   ]
  },
  {
   "cell_type": "markdown",
   "id": "fb3264e0-d475-446b-a4cf-b7946d1fa5e9",
   "metadata": {},
   "source": [
    "#### Booleano (True,False)"
   ]
  },
  {
   "cell_type": "code",
   "execution_count": 92,
   "id": "4e18bc29-7f79-415a-a4c7-0083d763afc7",
   "metadata": {},
   "outputs": [
    {
     "data": {
      "text/plain": [
       "(bool, bool)"
      ]
     },
     "execution_count": 92,
     "metadata": {},
     "output_type": "execute_result"
    }
   ],
   "source": [
    "# Tipo de dato Booleano\n",
    "\n",
    "# Para este caso, nos encontramos tan solo con 2 tipos\n",
    "type(True),type(False)"
   ]
  },
  {
   "cell_type": "code",
   "execution_count": 93,
   "id": "dcbf4cf9-9507-4388-b731-bb1914b76803",
   "metadata": {},
   "outputs": [
    {
     "data": {
      "text/plain": [
       "False"
      ]
     },
     "execution_count": 93,
     "metadata": {},
     "output_type": "execute_result"
    }
   ],
   "source": [
    "booleano = True\n",
    "booleano == False"
   ]
  },
  {
   "cell_type": "code",
   "execution_count": 94,
   "id": "bb9fc585-3a7c-4f09-b21b-b66ed0c1e270",
   "metadata": {},
   "outputs": [
    {
     "data": {
      "text/plain": [
       "True"
      ]
     },
     "execution_count": 94,
     "metadata": {},
     "output_type": "execute_result"
    }
   ],
   "source": [
    "type(5) == int"
   ]
  },
  {
   "cell_type": "markdown",
   "id": "387e78bf-4f9a-474f-a557-30cac1e993e6",
   "metadata": {},
   "source": [
    "#### Complejos"
   ]
  },
  {
   "cell_type": "code",
   "execution_count": 95,
   "id": "dc4a143a-48bb-4e41-8d65-e4c766d6dcef",
   "metadata": {},
   "outputs": [
    {
     "data": {
      "text/plain": [
       "complex"
      ]
     },
     "execution_count": 95,
     "metadata": {},
     "output_type": "execute_result"
    }
   ],
   "source": [
    "# Tipo de dato complejo\n",
    "complejo = 1+2j\n",
    "type(complejo)\n",
    "\n",
    "# otra manera de crear un número coplejo es utilizando la función complex\n",
    "complejo_1 = complex(2,3)\n",
    "type(complejo_1)"
   ]
  },
  {
   "cell_type": "markdown",
   "id": "075ac7e1-cd6e-4246-b239-3139e89595a6",
   "metadata": {},
   "source": [
    "### 1.2 Datos iterables"
   ]
  },
  {
   "cell_type": "markdown",
   "id": "24fe9229-1995-4a0a-ac31-1b8b899abeda",
   "metadata": {},
   "source": [
    "#### 1.2.1 String (str) : Tipo de dato utilizado para almacenar textos."
   ]
  },
  {
   "cell_type": "code",
   "execution_count": 96,
   "id": "3317ae3b-40ed-49bb-adb4-212302b5dd92",
   "metadata": {},
   "outputs": [
    {
     "data": {
      "text/plain": [
       "str"
      ]
     },
     "execution_count": 96,
     "metadata": {},
     "output_type": "execute_result"
    }
   ],
   "source": [
    "String = \"ProviCap\"\n",
    "type(String)"
   ]
  },
  {
   "cell_type": "code",
   "execution_count": 97,
   "id": "26837f0f-47cd-4cd6-a042-bb3fa5a2fab1",
   "metadata": {},
   "outputs": [
    {
     "data": {
      "text/plain": [
       "'v'"
      ]
     },
     "execution_count": 97,
     "metadata": {},
     "output_type": "execute_result"
    }
   ],
   "source": [
    "# Acceder a posiciones del texto\n",
    "String[3]"
   ]
  },
  {
   "cell_type": "code",
   "execution_count": 98,
   "id": "e1587547-e785-4220-b050-531443139d5d",
   "metadata": {},
   "outputs": [
    {
     "data": {
      "text/plain": [
       "('Provi', 'Cap')"
      ]
     },
     "execution_count": 98,
     "metadata": {},
     "output_type": "execute_result"
    }
   ],
   "source": [
    "String[0:5], String[5:]"
   ]
  },
  {
   "cell_type": "markdown",
   "id": "35fa1666-5094-4f2c-874a-e4bf759a5039",
   "metadata": {},
   "source": [
    "El ciclo for tiene la estructura:\n",
    "\n",
    "```python\n",
    "for elemento in iterable:\n",
    "    #ejecución del progama\n",
    "```"
   ]
  },
  {
   "cell_type": "code",
   "execution_count": 99,
   "id": "ecab7ce0-b40e-4465-812f-af2311ee18ea",
   "metadata": {},
   "outputs": [
    {
     "name": "stdout",
     "output_type": "stream",
     "text": [
      "P\n",
      "r\n",
      "o\n",
      "v\n",
      "i\n",
      "C\n",
      "a\n",
      "p\n"
     ]
    }
   ],
   "source": [
    "for letra in String:\n",
    "    print(letra)"
   ]
  },
  {
   "cell_type": "code",
   "execution_count": 100,
   "id": "54ba56b4-2904-4e48-9b40-8f253b46eaf2",
   "metadata": {},
   "outputs": [
    {
     "data": {
      "text/plain": [
       "'Equipo ProviCap'"
      ]
     },
     "execution_count": 100,
     "metadata": {},
     "output_type": "execute_result"
    }
   ],
   "source": [
    "# Es posible concatener texto con otros datos de tipo string (+)\n",
    "\"Equipo \"+String"
   ]
  },
  {
   "cell_type": "code",
   "execution_count": 101,
   "id": "0eb6d881-f96f-47ae-970a-eed58af740c0",
   "metadata": {},
   "outputs": [
    {
     "data": {
      "text/plain": [
       "'SantanderSantanderSantander'"
      ]
     },
     "execution_count": 101,
     "metadata": {},
     "output_type": "execute_result"
    }
   ],
   "source": [
    "\"Santander\"*3"
   ]
  },
  {
   "cell_type": "code",
   "execution_count": 102,
   "id": "7a245eb0-b095-4516-801d-148cb0165647",
   "metadata": {},
   "outputs": [
    {
     "data": {
      "text/plain": [
       "'-------------------- ¡ProviCap! --------------------'"
      ]
     },
     "execution_count": 102,
     "metadata": {},
     "output_type": "execute_result"
    }
   ],
   "source": [
    "# Podemos repetir n veces su contenido \n",
    "20*\"-\"+\" ¡\"+String+\"! \"+(20*\"-\")"
   ]
  },
  {
   "cell_type": "markdown",
   "id": "f4b81653-4f36-4fcd-bd8d-23b95b597a86",
   "metadata": {},
   "source": [
    "##### Obs : En algunas ocasiones valores numéricos en tablas vienen almacenados como string. Podemos transformar esos datos a valores numéricos, siempre que tengan la estructura correcta, de la siguiente forma:\n"
   ]
  },
  {
   "cell_type": "code",
   "execution_count": 103,
   "id": "69083311-95f0-404b-87c9-adc265a31086",
   "metadata": {},
   "outputs": [
    {
     "data": {
      "text/plain": [
       "(str, int, float)"
      ]
     },
     "execution_count": 103,
     "metadata": {},
     "output_type": "execute_result"
    }
   ],
   "source": [
    "type(\"32\"), type(int(\"32\")), type(float(\"32\"))"
   ]
  },
  {
   "cell_type": "code",
   "execution_count": 104,
   "id": "b458176b-ab70-4192-951f-f02caad89c23",
   "metadata": {},
   "outputs": [
    {
     "data": {
      "text/plain": [
       "float"
      ]
     },
     "execution_count": 104,
     "metadata": {},
     "output_type": "execute_result"
    }
   ],
   "source": [
    "variable = \"32\"\n",
    "type(float(variable))"
   ]
  },
  {
   "cell_type": "code",
   "execution_count": 105,
   "id": "77c0a946-fa4c-4939-b366-086cc5f45938",
   "metadata": {},
   "outputs": [
    {
     "data": {
      "text/plain": [
       "32.4"
      ]
     },
     "execution_count": 105,
     "metadata": {},
     "output_type": "execute_result"
    }
   ],
   "source": [
    "float(\"32.4\")"
   ]
  },
  {
   "cell_type": "code",
   "execution_count": 106,
   "id": "12aeef6a-74d9-4a34-aed9-100a679062b6",
   "metadata": {},
   "outputs": [
    {
     "data": {
      "text/plain": [
       "float"
      ]
     },
     "execution_count": 106,
     "metadata": {},
     "output_type": "execute_result"
    }
   ],
   "source": [
    "type(float(\"32,4\".replace(\",\",\".\")))"
   ]
  },
  {
   "cell_type": "code",
   "execution_count": 108,
   "id": "ef4605ba-e106-4e6c-ad8f-ea68afc17119",
   "metadata": {},
   "outputs": [
    {
     "ename": "ValueError",
     "evalue": "invalid literal for int() with base 10: '32.4'",
     "output_type": "error",
     "traceback": [
      "\u001b[0;31m---------------------------------------------------------------------------\u001b[0m",
      "\u001b[0;31mValueError\u001b[0m                                Traceback (most recent call last)",
      "\u001b[0;32m/tmp/ipykernel_54588/1267419631.py\u001b[0m in \u001b[0;36m<module>\u001b[0;34m\u001b[0m\n\u001b[0;32m----> 1\u001b[0;31m \u001b[0mint\u001b[0m\u001b[0;34m(\u001b[0m\u001b[0;34m\"32.4\"\u001b[0m\u001b[0;34m)\u001b[0m \u001b[0;31m# <- Estructura NO compatible con dato Entero\u001b[0m\u001b[0;34m\u001b[0m\u001b[0;34m\u001b[0m\u001b[0m\n\u001b[0m",
      "\u001b[0;31mValueError\u001b[0m: invalid literal for int() with base 10: '32.4'"
     ]
    }
   ],
   "source": [
    "int(\"32.4\") # <- Estructura NO compatible con dato Entero"
   ]
  },
  {
   "cell_type": "markdown",
   "id": "21f0f82b-365f-417c-af9e-ceaff450fb34",
   "metadata": {},
   "source": [
    "### -> Métodos usuales strings <-\n",
    "\n",
    "#### string.replace()\n",
    "\n",
    "```python\n",
    "string.replace(old,new,count)\n",
    "\"\"\"\n",
    "Reemplaza string por otro. El parámetro opcional \"count\", de ser dado, reemplaza la cantidad numérica de strings en orden.\n",
    "\"\"\"\n",
    "```"
   ]
  },
  {
   "cell_type": "code",
   "execution_count": 109,
   "id": "15b28409-f11d-41cb-b521-01624948ede8",
   "metadata": {},
   "outputs": [
    {
     "data": {
      "text/plain": [
       "'Pro%iCAp'"
      ]
     },
     "execution_count": 109,
     "metadata": {},
     "output_type": "execute_result"
    }
   ],
   "source": [
    "String.replace(\"a\",\"A\").replace(\"v\",\"%\")"
   ]
  },
  {
   "cell_type": "markdown",
   "id": "d47dfa1e-1e3b-4c63-bb31-1f3855eeddf6",
   "metadata": {},
   "source": [
    "#### Puede ser útil a la hora de querer transformar variables que vengan porcentuales en tablas guardadas como string a flotante"
   ]
  },
  {
   "cell_type": "code",
   "execution_count": 110,
   "id": "50880bab-1e78-4f2a-af18-ee9052aa8abb",
   "metadata": {},
   "outputs": [],
   "source": [
    "porcentaje = \"93%\"\n",
    "porcentaje_numerico = float(porcentaje.replace(\"%\",\"\"))/100"
   ]
  },
  {
   "cell_type": "code",
   "execution_count": 111,
   "id": "396c607b-3e19-43b1-af02-15538ae64a50",
   "metadata": {},
   "outputs": [
    {
     "data": {
      "text/plain": [
       "0.93"
      ]
     },
     "execution_count": 111,
     "metadata": {},
     "output_type": "execute_result"
    }
   ],
   "source": [
    "porcentaje_numerico"
   ]
  },
  {
   "cell_type": "markdown",
   "id": "08fc0102-8c02-43dd-b1c7-f97cc8059a59",
   "metadata": {},
   "source": [
    "##### string.upper(), string.lower()\n",
    "\n",
    "```python\n",
    "string.upper()\n",
    "\"\"\"\n",
    "String a mayúscula\n",
    "\"\"\"\n",
    "string.lower()\n",
    "\"\"\"\n",
    "String a minúscula\n",
    "\"\"\"\n",
    "```"
   ]
  },
  {
   "cell_type": "code",
   "execution_count": 112,
   "id": "07798d5c-91ed-4deb-aa19-44c8e4c7dd24",
   "metadata": {},
   "outputs": [
    {
     "data": {
      "text/plain": [
       "('provicap', 'PROVICAP')"
      ]
     },
     "execution_count": 112,
     "metadata": {},
     "output_type": "execute_result"
    }
   ],
   "source": [
    "String.lower(),String.upper()"
   ]
  },
  {
   "cell_type": "markdown",
   "id": "b5c86e86-c975-41e4-8789-793186b5ab7c",
   "metadata": {},
   "source": [
    "#### String.split(sep)\n",
    "\n",
    "```python\n",
    "string.split(separador)\n",
    "\"\"\"\n",
    "separador puede ser considerado como otra cadena o valor regular en el string\n",
    "\"\"\"\n",
    "```\n"
   ]
  },
  {
   "cell_type": "code",
   "execution_count": 113,
   "id": "58b88576-b09c-4bca-a716-5d950b5ca990",
   "metadata": {},
   "outputs": [
    {
     "data": {
      "text/plain": [
       "['Equipo', 'ProviCap']"
      ]
     },
     "execution_count": 113,
     "metadata": {},
     "output_type": "execute_result"
    }
   ],
   "source": [
    "variable = \"Equipo ProviCap\"\n",
    "variable.split(\" \")"
   ]
  },
  {
   "cell_type": "code",
   "execution_count": 114,
   "id": "688128de-9c67-4250-866d-b1ecf42c8b37",
   "metadata": {},
   "outputs": [
    {
     "data": {
      "text/plain": [
       "'19.997.082'"
      ]
     },
     "execution_count": 114,
     "metadata": {},
     "output_type": "execute_result"
    }
   ],
   "source": [
    "rut = \"19.997.082-8\"\n",
    "rut.split(\"-\")[0]"
   ]
  },
  {
   "cell_type": "code",
   "execution_count": 115,
   "id": "69c9858c-7cbd-4f93-8164-d9ae012a1150",
   "metadata": {},
   "outputs": [
    {
     "data": {
      "text/plain": [
       "'123'"
      ]
     },
     "execution_count": 115,
     "metadata": {},
     "output_type": "execute_result"
    }
   ],
   "source": [
    "str(123.3)[0:3]"
   ]
  },
  {
   "cell_type": "markdown",
   "id": "52a6c853-6875-4575-af6f-770ab2cb65bf",
   "metadata": {},
   "source": [
    "Para más información puede consultar : https://recursospython.com/guias-y-manuales/30-metodos-de-las-cadenas/"
   ]
  },
  {
   "cell_type": "markdown",
   "id": "3284f39c-86dc-4759-9e76-3176f2bbcf91",
   "metadata": {},
   "source": [
    "#### 1.2.2 Listas : Utilizadas para almacenar múltiples valores en una sola variable. -> mutables <-"
   ]
  },
  {
   "cell_type": "code",
   "execution_count": 116,
   "id": "fc558c9b-b46f-4bfa-9ea7-7d0695ee5ba3",
   "metadata": {},
   "outputs": [],
   "source": [
    "lista = [12,3.14,True,\"ProviCap\"]"
   ]
  },
  {
   "cell_type": "code",
   "execution_count": 117,
   "id": "823ae4ce-0a12-4349-a4fd-3c9447b1cc26",
   "metadata": {},
   "outputs": [
    {
     "data": {
      "text/plain": [
       "'ProviCap'"
      ]
     },
     "execution_count": 117,
     "metadata": {},
     "output_type": "execute_result"
    }
   ],
   "source": [
    "lista[3]"
   ]
  },
  {
   "cell_type": "code",
   "execution_count": 118,
   "id": "fa824f5f-e94d-4dcc-92df-72113ba6c796",
   "metadata": {},
   "outputs": [
    {
     "name": "stdout",
     "output_type": "stream",
     "text": [
      "12 <class 'int'>\n",
      "3.14 <class 'float'>\n",
      "True <class 'bool'>\n",
      "ProviCap <class 'str'>\n"
     ]
    }
   ],
   "source": [
    "for elemento in lista:\n",
    "    print(elemento, type(elemento))"
   ]
  },
  {
   "cell_type": "code",
   "execution_count": 119,
   "id": "e2dfa695-73b9-4877-8dc5-5b095ffe758c",
   "metadata": {},
   "outputs": [],
   "source": [
    "# Incluso podríamos almacenar lista dentro de listas\n",
    "listas = [[\"*\",\"*\",\"*\"],[\"*\",\"*\",\"*\"],[\"*\",\"*\",\"*\"]]"
   ]
  },
  {
   "cell_type": "code",
   "execution_count": 120,
   "id": "6e9cf1f0-27f9-4285-919a-522bb7935c72",
   "metadata": {},
   "outputs": [
    {
     "name": "stdout",
     "output_type": "stream",
     "text": [
      "['*', '*', '*']\n",
      "['*', '*', '*']\n",
      "['*', '*', '*']\n"
     ]
    }
   ],
   "source": [
    "for  lista in listas:\n",
    "    print(lista)"
   ]
  },
  {
   "cell_type": "markdown",
   "id": "5d57fd19-c990-4e4d-a7a2-41a59607402a",
   "metadata": {},
   "source": [
    "En función de lo anterior, veamos algunos ejemplos:\n",
    "\n",
    "```python\n",
    "# Instrucción 1\n",
    "acum = 0\n",
    "count = 0\n",
    "for elemento in [1,2,3]:\n",
    "    print(\"Iteración \"+str(count +1))\n",
    "    print(elemento)\n",
    "    acum += elemento\n",
    "    count += 1\n",
    "print(\"Fin del ciclo\")\n",
    "print(\"Acumulador: \"+str(acum))\n",
    "\n",
    "\n",
    "# Instrucción 2\n",
    "lista = []\n",
    "for elemento in [1,2,3,4,5,6,7,8,9,0]:\n",
    "    if elemento % 2 ==0:\n",
    "        lista.append(elemento)\n",
    "print(\"Fin el ciclo\")\n",
    "\n",
    "\n",
    "# Instrucción 3\n",
    "lista = []\n",
    "for elemento in [1,\"perro\",3,4,5,\"gato\",7,8,9,10]:\n",
    "    if type(elemento) == str:\n",
    "        lista.append(elemento)\n",
    "print(elemento)\n",
    "```"
   ]
  },
  {
   "cell_type": "code",
   "execution_count": 121,
   "id": "f386f8d2-e0e7-4a28-9bfc-abb4ddaea3e6",
   "metadata": {},
   "outputs": [
    {
     "name": "stdout",
     "output_type": "stream",
     "text": [
      "Iteración 1\n",
      "1\n",
      "Iteración 2\n",
      "2\n",
      "Iteración 3\n",
      "3\n",
      "Fin del ciclo\n",
      "Acumulador: 6\n"
     ]
    }
   ],
   "source": [
    "acum = 0\n",
    "count = 0\n",
    "for elemento in [1,2,3]:\n",
    "    print(\"Iteración \"+str(count +1))\n",
    "    print(elemento)\n",
    "    acum += elemento\n",
    "    count += 1\n",
    "print(\"Fin del ciclo\")\n",
    "print(\"Acumulador: \"+str(acum))"
   ]
  },
  {
   "cell_type": "code",
   "execution_count": 122,
   "id": "ade6234b-9f61-4be1-82e4-631150407b2b",
   "metadata": {},
   "outputs": [
    {
     "name": "stdout",
     "output_type": "stream",
     "text": [
      "Fin el ciclo\n"
     ]
    }
   ],
   "source": [
    "lista = []\n",
    "for elemento in [1,2,3,4,5,6,7,8,9,10]:\n",
    "    if elemento % 2 ==0:\n",
    "        lista.append(elemento)\n",
    "print(\"Fin el ciclo\")"
   ]
  },
  {
   "cell_type": "code",
   "execution_count": 123,
   "id": "21140a5a-14ac-4f9f-8d5b-e292dbcd8aab",
   "metadata": {},
   "outputs": [
    {
     "data": {
      "text/plain": [
       "[2, 4, 6, 8, 10]"
      ]
     },
     "execution_count": 123,
     "metadata": {},
     "output_type": "execute_result"
    }
   ],
   "source": [
    "lista"
   ]
  },
  {
   "cell_type": "code",
   "execution_count": 124,
   "id": "563b3c9f-7620-43f0-9374-f532cff7d027",
   "metadata": {},
   "outputs": [
    {
     "name": "stdout",
     "output_type": "stream",
     "text": [
      "10\n"
     ]
    }
   ],
   "source": [
    "lista = []\n",
    "for elemento in [1,\"perro\",3,4,5,\"gato\",7,8,9,10]:\n",
    "    if type(elemento) == str:\n",
    "        lista.append(elemento)\n",
    "print(elemento)"
   ]
  },
  {
   "cell_type": "code",
   "execution_count": 125,
   "id": "ffbb779c-4c4f-45fb-a9e2-77300103c655",
   "metadata": {},
   "outputs": [
    {
     "data": {
      "text/plain": [
       "['perro', 'gato']"
      ]
     },
     "execution_count": 125,
     "metadata": {},
     "output_type": "execute_result"
    }
   ],
   "source": [
    "lista"
   ]
  },
  {
   "cell_type": "markdown",
   "id": "7b1bda22-afdb-4752-ae57-2949761485a6",
   "metadata": {},
   "source": [
    "### -> Métodos usuales Listas <-"
   ]
  },
  {
   "cell_type": "markdown",
   "id": "dd268847-8c24-470e-8fe5-d8ccc70105f1",
   "metadata": {},
   "source": [
    "#### list.append()\n",
    "\n",
    "```python\n",
    "lista.append(elemento)\n",
    "```"
   ]
  },
  {
   "cell_type": "code",
   "execution_count": 126,
   "id": "37d47e04-acae-444e-9b50-dafe3b8cf5b3",
   "metadata": {},
   "outputs": [],
   "source": [
    "lista.append(\"Santander\")"
   ]
  },
  {
   "cell_type": "code",
   "execution_count": 127,
   "id": "4f4ef544-8ca0-418d-8289-3eeb759305aa",
   "metadata": {},
   "outputs": [
    {
     "data": {
      "text/plain": [
       "['perro', 'gato', 'Santander']"
      ]
     },
     "execution_count": 127,
     "metadata": {},
     "output_type": "execute_result"
    }
   ],
   "source": [
    "lista"
   ]
  },
  {
   "cell_type": "code",
   "execution_count": 128,
   "id": "888a056c-8d5c-4a07-8ce1-fd8ab3260d36",
   "metadata": {},
   "outputs": [
    {
     "data": {
      "text/plain": [
       "[0, 2, 4, 6, 8, 10, 12, 14]"
      ]
     },
     "execution_count": 128,
     "metadata": {},
     "output_type": "execute_result"
    }
   ],
   "source": [
    "# Una forma usual para el llenado de listas es anclar la función append con el ciclo for \n",
    "lista_1 = []\n",
    "for i in range(8):\n",
    "    lista_1.append(2*i)\n",
    "lista_1"
   ]
  },
  {
   "cell_type": "code",
   "execution_count": 129,
   "id": "b8347fbc-eb56-48ce-9603-66d73d4a9833",
   "metadata": {},
   "outputs": [
    {
     "name": "stdout",
     "output_type": "stream",
     "text": [
      "5\n",
      "6\n",
      "7\n",
      "8\n",
      "9\n",
      "10\n",
      "11\n",
      "12\n",
      "13\n",
      "14\n"
     ]
    }
   ],
   "source": [
    "for i in range(5,15):\n",
    "    print(i)"
   ]
  },
  {
   "cell_type": "markdown",
   "id": "9a8e0b43-1ae8-4314-89e3-c7282760ea52",
   "metadata": {},
   "source": [
    "#### list.extend()\n",
    "\n",
    "```python\n",
    "lista.extend(otra_lista)\n",
    "\"\"\"\n",
    "Recibe una lista como argumento, y extiende la solicitada\n",
    "\"\"\"\n",
    "```"
   ]
  },
  {
   "cell_type": "code",
   "execution_count": 130,
   "id": "b9b050e7-4203-47b7-9ef1-3cae90e2956b",
   "metadata": {},
   "outputs": [],
   "source": [
    "lista = [12,3.14,True,\"ProviCap\"]"
   ]
  },
  {
   "cell_type": "code",
   "execution_count": 131,
   "id": "c6c6bced-60ac-4f75-8ece-850803a86f2f",
   "metadata": {},
   "outputs": [],
   "source": [
    "lista.extend([1,2,3])"
   ]
  },
  {
   "cell_type": "code",
   "execution_count": 132,
   "id": "96b6eb4f-8f78-4c71-afcf-ca35ffe9b427",
   "metadata": {},
   "outputs": [],
   "source": [
    "lista.append([1,2,3])"
   ]
  },
  {
   "cell_type": "code",
   "execution_count": 133,
   "id": "da198c4b-c4e8-433f-af20-7daf88ba3489",
   "metadata": {},
   "outputs": [
    {
     "data": {
      "text/plain": [
       "[12, 3.14, True, 'ProviCap', 1, 2, 3, [1, 2, 3]]"
      ]
     },
     "execution_count": 133,
     "metadata": {},
     "output_type": "execute_result"
    }
   ],
   "source": [
    "lista"
   ]
  },
  {
   "cell_type": "markdown",
   "id": "b5adae4c-501b-4e2c-ae65-e1915b9aa5e9",
   "metadata": {},
   "source": [
    "¿Cuál es la diferencia entre estos 2 métodos?"
   ]
  },
  {
   "cell_type": "code",
   "execution_count": 134,
   "id": "c407a6e8-62d8-46ed-b1a6-f439a6d75cc5",
   "metadata": {},
   "outputs": [],
   "source": [
    "#################################################"
   ]
  },
  {
   "cell_type": "markdown",
   "id": "b57931f1-bdae-4145-93f5-f74b3e97d738",
   "metadata": {},
   "source": [
    "También podríamos unir elementos sin mutar la lista concatenando por medio de +"
   ]
  },
  {
   "cell_type": "code",
   "execution_count": 135,
   "id": "856cf9d6-677b-4b7b-996b-117020e08f05",
   "metadata": {},
   "outputs": [],
   "source": [
    "lista_2 = [2,3,5]"
   ]
  },
  {
   "cell_type": "code",
   "execution_count": 136,
   "id": "5f395c67-2ac8-4440-afb6-0d0b9d7fc769",
   "metadata": {},
   "outputs": [
    {
     "data": {
      "text/plain": [
       "[2, 3, 5, 1, 4]"
      ]
     },
     "execution_count": 136,
     "metadata": {},
     "output_type": "execute_result"
    }
   ],
   "source": [
    "lista_2+[1,4]"
   ]
  },
  {
   "cell_type": "code",
   "execution_count": 137,
   "id": "747be261-92cd-45d9-a7eb-4664a29b4009",
   "metadata": {},
   "outputs": [
    {
     "data": {
      "text/plain": [
       "[2, 3, 5]"
      ]
     },
     "execution_count": 137,
     "metadata": {},
     "output_type": "execute_result"
    }
   ],
   "source": [
    "lista_2"
   ]
  },
  {
   "cell_type": "markdown",
   "id": "3ddb407a-9d72-40cd-801d-8b7be13c703a",
   "metadata": {},
   "source": [
    "#### list.count()\n",
    "\n",
    "```python\n",
    "lista.count(elemento)\n",
    "\"\"\"\n",
    "Cuenta la cantidad de veces que el elemento se repite en la lista\n",
    "\"\"\"\n",
    "```"
   ]
  },
  {
   "cell_type": "code",
   "execution_count": 138,
   "id": "ea98b33a-ce2c-45b3-81e1-1452d7bc7bdc",
   "metadata": {},
   "outputs": [
    {
     "data": {
      "text/plain": [
       "[2, 3, 5, 2, 2]"
      ]
     },
     "execution_count": 138,
     "metadata": {},
     "output_type": "execute_result"
    }
   ],
   "source": [
    "lista_2.extend([2,2])\n",
    "lista_2"
   ]
  },
  {
   "cell_type": "code",
   "execution_count": 139,
   "id": "aaa12c6a-1552-442e-baf9-4e96c7a92efd",
   "metadata": {},
   "outputs": [
    {
     "data": {
      "text/plain": [
       "3"
      ]
     },
     "execution_count": 139,
     "metadata": {},
     "output_type": "execute_result"
    }
   ],
   "source": [
    "lista_2.count(2)"
   ]
  },
  {
   "cell_type": "markdown",
   "id": "5012ef2a-2fa3-4eb9-9d91-195ffdfdc6aa",
   "metadata": {},
   "source": [
    "#### list.index(elemento)\n",
    "\n",
    "```python\n",
    "lista.index(elemento)\n",
    "\"\"\"\n",
    "Retorna el índice en el cual aparece el elemento (Error si no existe)\n",
    "\"\"\"\n",
    "```"
   ]
  },
  {
   "cell_type": "code",
   "execution_count": 140,
   "id": "cb669f9a-5363-4edc-9918-e1d94ecb455f",
   "metadata": {},
   "outputs": [
    {
     "data": {
      "text/plain": [
       "[12, 3.14, True, 'ProviCap', 1, 2, 3, [1, 2, 3]]"
      ]
     },
     "execution_count": 140,
     "metadata": {},
     "output_type": "execute_result"
    }
   ],
   "source": [
    "lista"
   ]
  },
  {
   "cell_type": "code",
   "execution_count": 141,
   "id": "319540d2-0be6-4b26-9f35-51ca4b23a99d",
   "metadata": {},
   "outputs": [
    {
     "data": {
      "text/plain": [
       "3"
      ]
     },
     "execution_count": 141,
     "metadata": {},
     "output_type": "execute_result"
    }
   ],
   "source": [
    "lista.index(\"ProviCap\")"
   ]
  },
  {
   "cell_type": "markdown",
   "id": "e5163cf4-256b-4ece-b079-003cb5bb2936",
   "metadata": {},
   "source": [
    "#### list.pop()\n",
    "\n",
    "```python\n",
    "lista.pop(posicion)\n",
    "\"\"\"\n",
    "Elimina y RETORNA el elemento en la posición indicada\n",
    "\"\"\"\n",
    "```"
   ]
  },
  {
   "cell_type": "code",
   "execution_count": 142,
   "id": "b3080a6e-ec58-44b2-b646-9679e0a5043c",
   "metadata": {},
   "outputs": [
    {
     "data": {
      "text/plain": [
       "'ProviCap'"
      ]
     },
     "execution_count": 142,
     "metadata": {},
     "output_type": "execute_result"
    }
   ],
   "source": [
    "Equipo = lista.pop(3)\n",
    "Equipo"
   ]
  },
  {
   "cell_type": "code",
   "execution_count": 143,
   "id": "803c9b70-aeb8-42ed-a7c3-299076e823bf",
   "metadata": {},
   "outputs": [
    {
     "data": {
      "text/plain": [
       "[12, 3.14, True, 1, 2, 3, [1, 2, 3]]"
      ]
     },
     "execution_count": 143,
     "metadata": {},
     "output_type": "execute_result"
    }
   ],
   "source": [
    "lista"
   ]
  },
  {
   "cell_type": "markdown",
   "id": "c8c71b44-2b30-49dc-9bc3-53629001f073",
   "metadata": {},
   "source": [
    "#### list.remove()\n",
    "\n",
    "```python\n",
    "lista.remove(elemento)\n",
    "\"\"\"\n",
    "Remueve elemento, pero no lo retorna\n",
    "\"\"\"\n",
    "```"
   ]
  },
  {
   "cell_type": "code",
   "execution_count": 144,
   "id": "6fe2d3f2-cc84-4884-993e-42ecfd3d311c",
   "metadata": {},
   "outputs": [],
   "source": [
    "valor_3 = lista_2.remove(3)"
   ]
  },
  {
   "cell_type": "code",
   "execution_count": 145,
   "id": "97a2b214-3a56-4eb8-a1bd-50fd39e3d6ca",
   "metadata": {},
   "outputs": [
    {
     "name": "stdout",
     "output_type": "stream",
     "text": [
      "None\n"
     ]
    }
   ],
   "source": [
    "print(valor_3)"
   ]
  },
  {
   "cell_type": "markdown",
   "id": "706caf62-eb46-44ba-be8f-1b6528ab9cff",
   "metadata": {},
   "source": [
    "#### list.sort()\n",
    "\n",
    "```python\n",
    "lista.sort(reverse=False)\n",
    "\"\"\"\n",
    "Ordena los elementos de menor a mayor. En caso de tratarse de string, la función sort la ordenará alfabéticamente\n",
    "\"\"\"\n",
    "```"
   ]
  },
  {
   "cell_type": "code",
   "execution_count": 147,
   "id": "fc513e3b-23d1-4028-8060-9cdd7f874e3a",
   "metadata": {},
   "outputs": [
    {
     "data": {
      "text/plain": [
       "[0, 2, 3, 5, 8, 9, 1928]"
      ]
     },
     "execution_count": 147,
     "metadata": {},
     "output_type": "execute_result"
    }
   ],
   "source": [
    "lista_3 = [8,3,9,5,0,1928,2]\n",
    "lista_3.sort()\n",
    "lista_3"
   ]
  },
  {
   "cell_type": "code",
   "execution_count": 148,
   "id": "19fabaf6-87ea-4a79-addc-1cbc7c185bc5",
   "metadata": {},
   "outputs": [
    {
     "data": {
      "text/plain": [
       "[1928, 9, 8, 5, 3, 2, 0]"
      ]
     },
     "execution_count": 148,
     "metadata": {},
     "output_type": "execute_result"
    }
   ],
   "source": [
    "lista_3.sort(reverse=True)\n",
    "lista_3"
   ]
  },
  {
   "cell_type": "code",
   "execution_count": 149,
   "id": "a90ed345-21ae-48f9-b1cf-5a1da6a3aea0",
   "metadata": {},
   "outputs": [
    {
     "data": {
      "text/plain": [
       "[1928, 9, 8, 5, 3, 2, 0]"
      ]
     },
     "execution_count": 149,
     "metadata": {},
     "output_type": "execute_result"
    }
   ],
   "source": [
    "lista_3"
   ]
  },
  {
   "cell_type": "markdown",
   "id": "ca06af09-caba-48ce-ad0b-305a21c3157c",
   "metadata": {},
   "source": [
    "### *Extra!*: Librería numpy\n",
    "\n",
    "Utilizada para el cálculo numérico y análisis de datos. Podríamos pensar que los \"*arrays*\" de numpy son vectores de $\\mathbb{R}^{n}$.\n",
    "\n",
    "```python\n",
    "import numpy as np\n",
    "```"
   ]
  },
  {
   "cell_type": "code",
   "execution_count": 150,
   "id": "4491e01a-2be7-4e4b-bb72-ee2bc9ad20c2",
   "metadata": {},
   "outputs": [],
   "source": [
    "import numpy as np"
   ]
  },
  {
   "cell_type": "code",
   "execution_count": 151,
   "id": "0a65ea7e-2ee0-4072-96dc-2932d26b391e",
   "metadata": {},
   "outputs": [],
   "source": [
    "lista_ejemplo = [1,5,7,98]\n",
    "array_ejemplo = np.array(lista_ejemplo)"
   ]
  },
  {
   "cell_type": "code",
   "execution_count": 152,
   "id": "735ddb40-daaa-4a61-b80e-1f7aa148f8b0",
   "metadata": {},
   "outputs": [
    {
     "data": {
      "text/plain": [
       "array([ 2,  6,  8, 99])"
      ]
     },
     "execution_count": 152,
     "metadata": {},
     "output_type": "execute_result"
    }
   ],
   "source": [
    "array_ejemplo + np.array([1,1,1,1])"
   ]
  },
  {
   "cell_type": "markdown",
   "id": "c20e5f3a-36dd-4e41-95c5-43f2cca95cfa",
   "metadata": {},
   "source": [
    "### 1.2.3 Tuplas : Utilizadas para almacenar múltiples valores en una sola variable. -> inmutables <-"
   ]
  },
  {
   "cell_type": "code",
   "execution_count": 153,
   "id": "d0981a30-f87f-4b2e-a585-979e48c1ae2c",
   "metadata": {},
   "outputs": [
    {
     "data": {
      "text/plain": [
       "tuple"
      ]
     },
     "execution_count": 153,
     "metadata": {},
     "output_type": "execute_result"
    }
   ],
   "source": [
    "tupla = (12,3.14,True,\"ProviCap\")\n",
    "type(tupla)"
   ]
  },
  {
   "cell_type": "code",
   "execution_count": 154,
   "id": "72c271ec-a474-4e43-a16b-e33700f5e808",
   "metadata": {},
   "outputs": [
    {
     "data": {
      "text/plain": [
       "1"
      ]
     },
     "execution_count": 154,
     "metadata": {},
     "output_type": "execute_result"
    }
   ],
   "source": [
    "tupla.count(12)"
   ]
  },
  {
   "cell_type": "code",
   "execution_count": 155,
   "id": "fe0f07e5-3353-4293-a862-d98480819e99",
   "metadata": {},
   "outputs": [
    {
     "data": {
      "text/plain": [
       "0"
      ]
     },
     "execution_count": 155,
     "metadata": {},
     "output_type": "execute_result"
    }
   ],
   "source": [
    "tupla.index(12)"
   ]
  },
  {
   "cell_type": "code",
   "execution_count": 156,
   "id": "2df71e4d-d20b-4446-9f3a-2a29e1890d8a",
   "metadata": {},
   "outputs": [
    {
     "name": "stdout",
     "output_type": "stream",
     "text": [
      "12\n",
      "3.14\n",
      "True\n",
      "ProviCap\n"
     ]
    }
   ],
   "source": [
    "for elemento in tupla:\n",
    "    print(elemento)"
   ]
  },
  {
   "cell_type": "markdown",
   "id": "0007bc32-b22d-4d97-9e43-864c420ec98b",
   "metadata": {},
   "source": [
    "Además, como siempre, podemos transformar elementos tipo tupla a lista y viceversa."
   ]
  },
  {
   "cell_type": "code",
   "execution_count": 157,
   "id": "e1b85799-13b2-4cd1-a23b-782185bffc5d",
   "metadata": {},
   "outputs": [],
   "source": [
    "tupla_a_lista = list(tupla)\n",
    "lista_a_tupla = tuple(lista)"
   ]
  },
  {
   "cell_type": "code",
   "execution_count": 158,
   "id": "a566545b-41e3-4d4d-815d-4462a9547a3c",
   "metadata": {},
   "outputs": [
    {
     "data": {
      "text/plain": [
       "(list, tuple)"
      ]
     },
     "execution_count": 158,
     "metadata": {},
     "output_type": "execute_result"
    }
   ],
   "source": [
    "type(tupla_a_lista), type(lista_a_tupla)"
   ]
  },
  {
   "cell_type": "markdown",
   "id": "0a4d9654-3a81-4539-b6d1-1e9000a239b6",
   "metadata": {},
   "source": [
    "### 1.2.4 Diccionarios : Estructura útil y práctica para la búsqueda de información y almacenamiento."
   ]
  },
  {
   "cell_type": "markdown",
   "id": "b26e8935-c84f-4512-b2e0-bf5f9cd3ccf6",
   "metadata": {},
   "source": [
    "Su estructura sigue un esquema $\\lbrace clave:valor\\rbrace$"
   ]
  },
  {
   "cell_type": "code",
   "execution_count": 159,
   "id": "a4608c84-9147-4160-b052-ce3031c2cd84",
   "metadata": {},
   "outputs": [],
   "source": [
    "diccionario = {\"Nombre\":\"Pablo\", \"Edad\":25, \"Idiomas\":[\"Español\",\"Inglés\",\"Francés\"] }"
   ]
  },
  {
   "cell_type": "code",
   "execution_count": 160,
   "id": "5927e0a4-b241-470e-968c-a58ad51db476",
   "metadata": {},
   "outputs": [
    {
     "name": "stdout",
     "output_type": "stream",
     "text": [
      "Pablo\n",
      "25\n",
      "['Español', 'Inglés', 'Francés']\n"
     ]
    }
   ],
   "source": [
    "print(diccionario[\"Nombre\"])\n",
    "print(diccionario[\"Edad\"])\n",
    "print(diccionario[\"Idiomas\"])"
   ]
  },
  {
   "cell_type": "markdown",
   "id": "98d42a77-9982-40a8-9ac4-dfdcb75cca7f",
   "metadata": {},
   "source": [
    "También podemos agregar elementos al diccionario de la siguiente manera"
   ]
  },
  {
   "cell_type": "code",
   "execution_count": 161,
   "id": "9e6047ef-732b-4990-952c-3eea51110db5",
   "metadata": {},
   "outputs": [],
   "source": [
    "diccionario[\"Perro\"] = \"Gato\""
   ]
  },
  {
   "cell_type": "code",
   "execution_count": 162,
   "id": "4a7610a9-9df9-423f-8772-9d287f6a13c7",
   "metadata": {},
   "outputs": [
    {
     "data": {
      "text/plain": [
       "{'Nombre': 'Pablo',\n",
       " 'Edad': 25,\n",
       " 'Idiomas': ['Español', 'Inglés', 'Francés'],\n",
       " 'Perro': 'Gato'}"
      ]
     },
     "execution_count": 162,
     "metadata": {},
     "output_type": "execute_result"
    }
   ],
   "source": [
    "diccionario"
   ]
  },
  {
   "cell_type": "code",
   "execution_count": 163,
   "id": "2fd641dd-e68c-4f5c-aea8-6ff4f2337582",
   "metadata": {},
   "outputs": [],
   "source": [
    "diccionario[\"Idioma materno\"] = diccionario[\"Idiomas\"][0]"
   ]
  },
  {
   "cell_type": "code",
   "execution_count": 164,
   "id": "e99cd452-7b16-41cb-9420-01f3c30c5bc3",
   "metadata": {},
   "outputs": [
    {
     "data": {
      "text/plain": [
       "{'Nombre': 'Pablo',\n",
       " 'Edad': 25,\n",
       " 'Idiomas': ['Español', 'Inglés', 'Francés'],\n",
       " 'Perro': 'Gato',\n",
       " 'Idioma materno': 'Español'}"
      ]
     },
     "execution_count": 164,
     "metadata": {},
     "output_type": "execute_result"
    }
   ],
   "source": [
    "diccionario"
   ]
  },
  {
   "cell_type": "markdown",
   "id": "868a6728-bdd5-472c-a8ab-aa7f72eac72d",
   "metadata": {},
   "source": [
    "### -> Métodos usuales diccionaros->"
   ]
  },
  {
   "cell_type": "markdown",
   "id": "ee338337-3605-473b-9c0d-ec9fcd049907",
   "metadata": {},
   "source": [
    "#### dict.items()\n",
    "\n",
    "```python\n",
    "diccionario.items()\n",
    "\"\"\"\n",
    "Retorna claves y valores de un diccionario\n",
    "\"\"\"\n",
    "```"
   ]
  },
  {
   "cell_type": "code",
   "execution_count": 165,
   "id": "195bd1b8-22a9-4071-8fa0-b6942efabf08",
   "metadata": {},
   "outputs": [
    {
     "data": {
      "text/plain": [
       "dict_items([('Nombre', 'Pablo'), ('Edad', 25), ('Idiomas', ['Español', 'Inglés', 'Francés']), ('Perro', 'Gato'), ('Idioma materno', 'Español')])"
      ]
     },
     "execution_count": 165,
     "metadata": {},
     "output_type": "execute_result"
    }
   ],
   "source": [
    "diccionario.items()"
   ]
  },
  {
   "cell_type": "markdown",
   "id": "a0d9af6a-124f-434f-8e77-e6c0057ddc32",
   "metadata": {},
   "source": [
    "Usualmente lo podemos utilizar para iterar sobre un diccionario necesitando las claves y valores"
   ]
  },
  {
   "cell_type": "code",
   "execution_count": 166,
   "id": "5dd9dabc-0b35-4560-9591-073c95ec8e4a",
   "metadata": {},
   "outputs": [
    {
     "name": "stdout",
     "output_type": "stream",
     "text": [
      "Clave               Valor\n",
      "\n",
      "Nombre                 Pablo\n",
      "Edad                 25\n",
      "Idiomas                 ['Español', 'Inglés', 'Francés']\n",
      "Perro                 Gato\n",
      "Idioma materno                 Español\n"
     ]
    }
   ],
   "source": [
    "print(\"Clave\"+(\" \"*15)+\"Valor\")\n",
    "print(\"\")\n",
    "for clave,valor in diccionario.items():\n",
    "    print(clave,\" \"*15,valor)"
   ]
  },
  {
   "cell_type": "markdown",
   "id": "a1d6584d-c422-42bb-b9b9-7c7f94f772be",
   "metadata": {},
   "source": [
    "#### dict.keys()\n",
    "\n",
    "```python\n",
    "diccionario.keys()\n",
    "\"\"\"\n",
    "Obtiene claves de un diccionario\n",
    "\"\"\"\n",
    "```"
   ]
  },
  {
   "cell_type": "code",
   "execution_count": 167,
   "id": "83522584-a0c8-47f2-b89a-238c6117d135",
   "metadata": {},
   "outputs": [
    {
     "data": {
      "text/plain": [
       "dict_keys(['Nombre', 'Edad', 'Idiomas', 'Perro', 'Idioma materno'])"
      ]
     },
     "execution_count": 167,
     "metadata": {},
     "output_type": "execute_result"
    }
   ],
   "source": [
    "diccionario.keys()"
   ]
  },
  {
   "cell_type": "code",
   "execution_count": 168,
   "id": "de3f3849-bf94-47bf-9d74-89fb41bb87ff",
   "metadata": {},
   "outputs": [
    {
     "name": "stdout",
     "output_type": "stream",
     "text": [
      "Las claves de nuestro diccionario son:\n",
      "\n",
      "Nombre\n",
      "Edad\n",
      "Idiomas\n",
      "Perro\n",
      "Idioma materno\n"
     ]
    }
   ],
   "source": [
    "print(\"Las claves de nuestro diccionario son:\\n\")\n",
    "for key in diccionario.keys():\n",
    "    print(key)"
   ]
  },
  {
   "cell_type": "markdown",
   "id": "ead84bb3-2b3c-43a5-877a-bfa0ecfb624e",
   "metadata": {},
   "source": [
    "#### dic.values()\n",
    "\n",
    "```python\n",
    "dicionario.values()\n",
    "\"\"\"\n",
    "Retorna valores de un diccionario\n",
    "\"\"\"\n",
    "```"
   ]
  },
  {
   "cell_type": "code",
   "execution_count": 169,
   "id": "aef4b7aa-78e0-481d-bcfc-9bc4159b4ed9",
   "metadata": {},
   "outputs": [
    {
     "data": {
      "text/plain": [
       "dict_values(['Pablo', 25, ['Español', 'Inglés', 'Francés'], 'Gato', 'Español'])"
      ]
     },
     "execution_count": 169,
     "metadata": {},
     "output_type": "execute_result"
    }
   ],
   "source": [
    "diccionario.values()"
   ]
  },
  {
   "cell_type": "code",
   "execution_count": 170,
   "id": "25c43ea1-8b04-4c16-acf9-2418a1b9be35",
   "metadata": {},
   "outputs": [
    {
     "name": "stdout",
     "output_type": "stream",
     "text": [
      "Los valores de nuestro diccionario son:\n",
      "\n",
      "Pablo\n",
      "25\n",
      "['Español', 'Inglés', 'Francés']\n",
      "Gato\n",
      "Español\n"
     ]
    }
   ],
   "source": [
    "print(\"Los valores de nuestro diccionario son:\\n\")\n",
    "for value in diccionario.values():\n",
    "    print(value)"
   ]
  },
  {
   "cell_type": "code",
   "execution_count": 171,
   "id": "5ef57190-7bb5-4eb8-920a-af4ad8590354",
   "metadata": {},
   "outputs": [
    {
     "name": "stdout",
     "output_type": "stream",
     "text": [
      "0\n",
      "2\n",
      "4\n",
      "6\n"
     ]
    }
   ],
   "source": [
    "for i in range(0,8,2):\n",
    "    print(i)"
   ]
  },
  {
   "cell_type": "code",
   "execution_count": 172,
   "id": "c76c7ace-079c-4a3f-a572-c590ba090cbe",
   "metadata": {},
   "outputs": [
    {
     "name": "stdout",
     "output_type": "stream",
     "text": [
      "Help on class range in module builtins:\n",
      "\n",
      "class range(object)\n",
      " |  range(stop) -> range object\n",
      " |  range(start, stop[, step]) -> range object\n",
      " |  \n",
      " |  Return an object that produces a sequence of integers from start (inclusive)\n",
      " |  to stop (exclusive) by step.  range(i, j) produces i, i+1, i+2, ..., j-1.\n",
      " |  start defaults to 0, and stop is omitted!  range(4) produces 0, 1, 2, 3.\n",
      " |  These are exactly the valid indices for a list of 4 elements.\n",
      " |  When step is given, it specifies the increment (or decrement).\n",
      " |  \n",
      " |  Methods defined here:\n",
      " |  \n",
      " |  __bool__(self, /)\n",
      " |      self != 0\n",
      " |  \n",
      " |  __contains__(self, key, /)\n",
      " |      Return key in self.\n",
      " |  \n",
      " |  __eq__(self, value, /)\n",
      " |      Return self==value.\n",
      " |  \n",
      " |  __ge__(self, value, /)\n",
      " |      Return self>=value.\n",
      " |  \n",
      " |  __getattribute__(self, name, /)\n",
      " |      Return getattr(self, name).\n",
      " |  \n",
      " |  __getitem__(self, key, /)\n",
      " |      Return self[key].\n",
      " |  \n",
      " |  __gt__(self, value, /)\n",
      " |      Return self>value.\n",
      " |  \n",
      " |  __hash__(self, /)\n",
      " |      Return hash(self).\n",
      " |  \n",
      " |  __iter__(self, /)\n",
      " |      Implement iter(self).\n",
      " |  \n",
      " |  __le__(self, value, /)\n",
      " |      Return self<=value.\n",
      " |  \n",
      " |  __len__(self, /)\n",
      " |      Return len(self).\n",
      " |  \n",
      " |  __lt__(self, value, /)\n",
      " |      Return self<value.\n",
      " |  \n",
      " |  __ne__(self, value, /)\n",
      " |      Return self!=value.\n",
      " |  \n",
      " |  __reduce__(...)\n",
      " |      Helper for pickle.\n",
      " |  \n",
      " |  __repr__(self, /)\n",
      " |      Return repr(self).\n",
      " |  \n",
      " |  __reversed__(...)\n",
      " |      Return a reverse iterator.\n",
      " |  \n",
      " |  count(...)\n",
      " |      rangeobject.count(value) -> integer -- return number of occurrences of value\n",
      " |  \n",
      " |  index(...)\n",
      " |      rangeobject.index(value) -> integer -- return index of value.\n",
      " |      Raise ValueError if the value is not present.\n",
      " |  \n",
      " |  ----------------------------------------------------------------------\n",
      " |  Static methods defined here:\n",
      " |  \n",
      " |  __new__(*args, **kwargs) from builtins.type\n",
      " |      Create and return a new object.  See help(type) for accurate signature.\n",
      " |  \n",
      " |  ----------------------------------------------------------------------\n",
      " |  Data descriptors defined here:\n",
      " |  \n",
      " |  start\n",
      " |  \n",
      " |  step\n",
      " |  \n",
      " |  stop\n",
      "\n"
     ]
    }
   ],
   "source": [
    "help(range)"
   ]
  },
  {
   "cell_type": "markdown",
   "id": "d2b90471-19cd-4995-bd48-043ce199ec1d",
   "metadata": {},
   "source": [
    "## 2.- Gráficos\n",
    "\n",
    "```python\n",
    "import matplotlib.pyplot as plt\n",
    "import seaborn as sns \n",
    "```"
   ]
  },
  {
   "cell_type": "code",
   "execution_count": 173,
   "id": "45dcc179-fb14-4250-81d6-6b6dd192593f",
   "metadata": {},
   "outputs": [],
   "source": [
    "import matplotlib.pyplot as plt"
   ]
  },
  {
   "cell_type": "markdown",
   "id": "5ad87d9f-3c5e-4153-8cdc-41ccc85800d9",
   "metadata": {},
   "source": [
    "Aunque no existe una estructura única para realizar un gráfico con esta librería, podríamos tomar la siguiente estructura:\n",
    "\n",
    "```python\n",
    "fig = plt.figure(figsize=(x_size,y_size)) # Se define entorno del gráfico\n",
    "plt.title(\"Título\") # Asignación título del gráfico\n",
    "plt.plot(datos_x,datos_y) # Ejecución gráfico\n",
    "plt.xlabel(\"Eje x\") # Nombre eje x\n",
    "plt.ylabel(\"Eje y\") # Nombre eje y\n",
    "plt.grid() # Añade cuadrículas\n",
    "```\n",
    "\n",
    "Colores link : https://matplotlib.org/stable/gallery/color/named_colors.html\n",
    "\n",
    "Veamos un ejemplo:"
   ]
  },
  {
   "cell_type": "code",
   "execution_count": 174,
   "id": "5bb5a3a6-ac13-4525-a086-68afa28eb03f",
   "metadata": {},
   "outputs": [
    {
     "data": {
      "image/png": "[encoded data removed]",
      "text/plain": [
       "<Figure size 1296x288 with 1 Axes>"
      ]
     },
     "metadata": {
      "needs_background": "light"
     },
     "output_type": "display_data"
    }
   ],
   "source": [
    "fig = plt.figure(figsize=(18,4))\n",
    "plt.plot([4,8,13,17,20],[54, 67, 98, 78, 45],color=\"green\",alpha=1,lw=1,marker='^',ls=\"--\")\n",
    "plt.title(\"Gráfico prueba\")\n",
    "plt.xlabel(\"Eje x\")\n",
    "plt.ylabel(\"Eje y\")\n",
    "plt.grid()"
   ]
  },
  {
   "cell_type": "markdown",
   "id": "341d10b5-7659-48eb-a679-e240301c31d5",
   "metadata": {},
   "source": [
    "más información sobre parámetros extra: https://matplotlib.org/3.5.1/api/_as_gen/matplotlib.pyplot.plot.html"
   ]
  },
  {
   "cell_type": "code",
   "execution_count": 175,
   "id": "59614246-50b3-4312-8726-c17119f12814",
   "metadata": {},
   "outputs": [
    {
     "data": {
      "image/png": "[encoded data removed]",
      "text/plain": [
       "<Figure size 1296x288 with 1 Axes>"
      ]
     },
     "execution_count": 175,
     "metadata": {},
     "output_type": "execute_result"
    }
   ],
   "source": [
    "fig"
   ]
  },
  {
   "cell_type": "code",
   "execution_count": 178,
   "id": "1c999dc1-6126-43d1-8c89-857b5f1ee4a9",
   "metadata": {},
   "outputs": [
    {
     "data": {
      "text/plain": [
       "[<matplotlib.lines.Line2D at 0x7f9dc4e41a10>]"
      ]
     },
     "execution_count": 178,
     "metadata": {},
     "output_type": "execute_result"
    },
    {
     "data": {
      "image/png": "[encoded data removed]",
      "text/plain": [
       "<Figure size 1296x288 with 1 Axes>"
      ]
     },
     "metadata": {
      "needs_background": "light"
     },
     "output_type": "display_data"
    }
   ],
   "source": [
    "# Gráfica seno cardinal\n",
    "import numpy as np\n",
    "\n",
    "x = np.linspace(-8*np.pi,8*np.pi,400)\n",
    "y = np.sin(x)/x\n",
    "\n",
    "plt.figure(figsize=(18,4))\n",
    "plt.plot(x,y)\n",
    "plt.plot(x,-y)\n"
   ]
  },
  {
   "cell_type": "code",
   "execution_count": null,
   "id": "72f9486f-ed45-41a3-ac9e-5098f59169af",
   "metadata": {},
   "outputs": [],
   "source": [
    "# Superponer 2 gráficos"
   ]
  },
  {
   "cell_type": "markdown",
   "id": "923c123b-7f84-4aa8-914b-35558716ec74",
   "metadata": {},
   "source": [
    "Para más información sobre el gráfico de línea, consultar el siguiente link :\n",
    "https://matplotlib.org/3.5.1/api/_as_gen/matplotlib.pyplot.plot.html\n",
    "\n",
    "Por otro lado, si quisieramos realizar más de un gráfico en un entorno, podríamos guiarnos de la siguiente estructura (matricial):\n",
    "\n",
    "```python\n",
    "fig, axs = plt.subplots(num_filas,num_columnas)\n",
    "plt.suptitle(\"Título General\")\n",
    "axs[0,0].plot(x_0,y_0)\n",
    "axs[0,0].set_title(\"Título gráfico de la posición [0,0]\")\n",
    "#......................\n",
    "axs[i,j].plot(x_i,y_j)\n",
    "#......................\n",
    "axs[num_filas-1,num_columnas-1].plot(x_fin,y_fin)\n",
    "```\n",
    "\n",
    "Veamos un ejemplo de esto:"
   ]
  },
  {
   "cell_type": "code",
   "execution_count": 179,
   "id": "0bd420a1-8c8a-4337-a558-421ddea11548",
   "metadata": {},
   "outputs": [
    {
     "data": {
      "text/plain": [
       "[<matplotlib.lines.Line2D at 0x7f9dc4cfe190>]"
      ]
     },
     "execution_count": 179,
     "metadata": {},
     "output_type": "execute_result"
    },
    {
     "data": {
      "image/png": "[encoded data removed]",
      "text/plain": [
       "<Figure size 1296x288 with 4 Axes>"
      ]
     },
     "metadata": {
      "needs_background": "light"
     },
     "output_type": "display_data"
    }
   ],
   "source": [
    "fig , axs = plt.subplots(2,2, figsize=(18,4))\n",
    "plt.suptitle(\"Gráficos matriciales\")\n",
    "axs[0,0].plot(x,y)\n",
    "axs[0,0].set_title(\"Gráfico1\")\n",
    "axs[0,1].plot(x,-y)\n",
    "axs[1,1].plot(x,y+np.cos(x))\n",
    "axs[1,0].plot(x,5*y)"
   ]
  },
  {
   "cell_type": "markdown",
   "id": "9accd318-cc3c-4e78-806b-63f93744fd89",
   "metadata": {},
   "source": [
    "Para encontrar otras metodologías para realizar subgráficos revisar link:\n",
    "https://matplotlib.org/stable/gallery/subplots_axes_and_figures/subplots_demo.html"
   ]
  },
  {
   "cell_type": "markdown",
   "id": "41659501-906b-4cb8-91cf-f63b1455bd0e",
   "metadata": {},
   "source": [
    "### 2.1 Ejemplo práctico #1\n",
    "\n",
    "Antes de comenzar este ejemplo práctico, revisemos algunas funciones útilies asociadas a DataFrame de spark \n",
    "\n",
    "```python\n",
    "# Función 1\n",
    "df.select(Nombre_columna_1,...,Nombre_Columna_n)\n",
    "\"\"\"\n",
    "Selecciona y retorna un DataFrame tan solo con la columnas seleccinadas.\n",
    "\"\"\"\n",
    "\n",
    "# Función 2\n",
    "df.printSchema()\n",
    "\"\"\"\n",
    "Devuelve el nombre de todas las columnas junto con el tipo de dato almacenado en cada una de ellas.\n",
    "\"\"\"\n",
    "\n",
    "# Función 3\n",
    "df.columns\n",
    "\"\"\"\n",
    "Retorna una lista con el nombre de todas las columnas del DataFrame.\n",
    "\"\"\"\n",
    "\n",
    "# Función 4\n",
    "df.orderBy(Nombre_columna)\n",
    "\"\"\"\n",
    "Devuelve el DataFrame ordenado en función de alguna columna en particular.\n",
    "\"\"\"\n",
    "\n",
    "# Función 5\n",
    "df.take(n)\n",
    "\"\"\"\n",
    "Retorna una lista cuyos elementos son las primras n filas del DataFrame.\n",
    "\"\"\"\n",
    "\n",
    "# Función 6 \n",
    "df.collect()\n",
    "\"\"\"\n",
    "Recolecta la información en una lista de TODAS las filas del DataFrame.\n",
    "\"\"\"\n",
    "\n",
    "# Función 7\n",
    "df.withColumn(Nombre_Columna,f( col(Nombre_columna_1) ))\n",
    "\"\"\"\n",
    "Esta función toma como primer argumento el nombre de una columna existente o no; En el caso de existir la columna será modificada en función del segundo argunmento. En caso de no existir, se creará una columna nueva con las indicaciones entregadas en el segundo argumento de la función.\n",
    "\n",
    "Observaciones:\n",
    "1) Para obtener un argumento constante dentro de la columna se debe utilizar la función \"lit(argumento)\" en el segundo parámetro.              \n",
    "\n",
    "\n",
    "2) Si se quiere cambiar el tipo de dato que posee una columna, podemos utilizar el método de columnas \".cast(DataType)\" luego de realizar la transformación f(col).\n",
    "\"\"\"\n",
    "\n",
    "# Función 8\n",
    "df.withColumnRenamed(old_col_name,new_col_name)\n",
    "\"\"\"\n",
    "Cambia nombre de alguna columna del DataFrame.\n",
    "\"\"\"\n",
    "\n",
    "# Función 9\n",
    "df.filter(condición)\n",
    "\"\"\"\n",
    "Retorna un DataFrame filtrado con todas las columnas y solo las filas que satisfacen la condición indicada.\n",
    "\"\"\"\n",
    "\n",
    "# Función 10\n",
    "df.where(condición)\n",
    "\"\"\"\n",
    "Idem filter\n",
    "\"\"\"\n",
    "\n",
    "# Función 11\n",
    "when(condición,new_value) (.otherwise(value))\n",
    "\"\"\"\n",
    "Esta no es una función propiamente tal del objeto DataFrame, sin embargo se puede anclar funciones como - withColumn o Select - realizando un filtrado del estilo if-else. Su retorno es un objeto tipo \"col\"\n",
    "\"\"\"\n",
    "```\n",
    "Puede encontrar más información (todo) en https://spark.apache.org/docs/latest/api/python/reference/pyspark.sql.html\n",
    "\n",
    "Conociendo este tipo de herramientas, tomemos el siguiente DataFrame y realicemos algunas pruebas:"
   ]
  },
  {
   "cell_type": "code",
   "execution_count": 180,
   "id": "94dcf60d-f201-46e9-be5a-7be538380266",
   "metadata": {},
   "outputs": [],
   "source": [
    "df = spark.table(\"gmetyprov.\"+\"GRAFICO_\"+\"PYI_NEG\"+\"_\"+\"prod_Driv4\"+\"_12A\")"
   ]
  },
  {
   "cell_type": "code",
   "execution_count": 181,
   "id": "0fcde7c5-b065-4aeb-b697-659f0fd8199c",
   "metadata": {},
   "outputs": [
    {
     "name": "stderr",
     "output_type": "stream",
     "text": [
      "                                                                                \r"
     ]
    },
    {
     "data": {
      "text/plain": [
       "36"
      ]
     },
     "execution_count": 181,
     "metadata": {},
     "output_type": "execute_result"
    }
   ],
   "source": [
    "df.count()"
   ]
  },
  {
   "cell_type": "code",
   "execution_count": 86,
   "id": "9b319922-a78f-4e2b-b360-37ad6a562dd2",
   "metadata": {},
   "outputs": [
    {
     "name": "stderr",
     "output_type": "stream",
     "text": [
      "                                                                                \r"
     ]
    },
    {
     "data": {
      "text/html": [
       "<div>\n",
       "<style scoped>\n",
       "    .dataframe tbody tr th:only-of-type {\n",
       "        vertical-align: middle;\n",
       "    }\n",
       "\n",
       "    .dataframe tbody tr th {\n",
       "        vertical-align: top;\n",
       "    }\n",
       "\n",
       "    .dataframe thead th {\n",
       "        text-align: right;\n",
       "    }\n",
       "</style>\n",
       "<table border=\"1\" class=\"dataframe\">\n",
       "  <thead>\n",
       "    <tr style=\"text-align: right;\">\n",
       "      <th></th>\n",
       "      <th>FEC_AN</th>\n",
       "      <th>prod_Driv4</th>\n",
       "      <th>N</th>\n",
       "      <th>AVG_LGD_T_LR</th>\n",
       "      <th>Animalización</th>\n",
       "    </tr>\n",
       "  </thead>\n",
       "  <tbody>\n",
       "    <tr>\n",
       "      <th>0</th>\n",
       "      <td>2010</td>\n",
       "      <td>113</td>\n",
       "      <td>22</td>\n",
       "      <td>0.341662</td>\n",
       "      <td>Gatito</td>\n",
       "    </tr>\n",
       "    <tr>\n",
       "      <th>1</th>\n",
       "      <td>2009</td>\n",
       "      <td>13</td>\n",
       "      <td>114</td>\n",
       "      <td>0.501932</td>\n",
       "      <td>Perrito</td>\n",
       "    </tr>\n",
       "    <tr>\n",
       "      <th>2</th>\n",
       "      <td>2012</td>\n",
       "      <td>1665</td>\n",
       "      <td>6</td>\n",
       "      <td>0.452282</td>\n",
       "      <td>Castor</td>\n",
       "    </tr>\n",
       "    <tr>\n",
       "      <th>3</th>\n",
       "      <td>2016</td>\n",
       "      <td>1665</td>\n",
       "      <td>4</td>\n",
       "      <td>0.352234</td>\n",
       "      <td>Castor</td>\n",
       "    </tr>\n",
       "    <tr>\n",
       "      <th>4</th>\n",
       "      <td>2014</td>\n",
       "      <td>113</td>\n",
       "      <td>62</td>\n",
       "      <td>0.395670</td>\n",
       "      <td>Gatito</td>\n",
       "    </tr>\n",
       "    <tr>\n",
       "      <th>5</th>\n",
       "      <td>2009</td>\n",
       "      <td>113</td>\n",
       "      <td>31</td>\n",
       "      <td>0.388204</td>\n",
       "      <td>Gatito</td>\n",
       "    </tr>\n",
       "    <tr>\n",
       "      <th>6</th>\n",
       "      <td>2016</td>\n",
       "      <td>13</td>\n",
       "      <td>32</td>\n",
       "      <td>0.546166</td>\n",
       "      <td>Perrito</td>\n",
       "    </tr>\n",
       "    <tr>\n",
       "      <th>7</th>\n",
       "      <td>2015</td>\n",
       "      <td>13</td>\n",
       "      <td>26</td>\n",
       "      <td>0.353867</td>\n",
       "      <td>Perrito</td>\n",
       "    </tr>\n",
       "    <tr>\n",
       "      <th>8</th>\n",
       "      <td>2014</td>\n",
       "      <td>1665</td>\n",
       "      <td>3</td>\n",
       "      <td>0.365236</td>\n",
       "      <td>Castor</td>\n",
       "    </tr>\n",
       "    <tr>\n",
       "      <th>9</th>\n",
       "      <td>2008</td>\n",
       "      <td>1665</td>\n",
       "      <td>3</td>\n",
       "      <td>0.440664</td>\n",
       "      <td>Castor</td>\n",
       "    </tr>\n",
       "    <tr>\n",
       "      <th>10</th>\n",
       "      <td>2012</td>\n",
       "      <td>113</td>\n",
       "      <td>56</td>\n",
       "      <td>0.526107</td>\n",
       "      <td>Gatito</td>\n",
       "    </tr>\n",
       "    <tr>\n",
       "      <th>11</th>\n",
       "      <td>2011</td>\n",
       "      <td>13</td>\n",
       "      <td>50</td>\n",
       "      <td>0.533355</td>\n",
       "      <td>Perrito</td>\n",
       "    </tr>\n",
       "    <tr>\n",
       "      <th>12</th>\n",
       "      <td>2009</td>\n",
       "      <td>665</td>\n",
       "      <td>128</td>\n",
       "      <td>0.689382</td>\n",
       "      <td>Ave</td>\n",
       "    </tr>\n",
       "    <tr>\n",
       "      <th>13</th>\n",
       "      <td>2011</td>\n",
       "      <td>1665</td>\n",
       "      <td>5</td>\n",
       "      <td>0.050100</td>\n",
       "      <td>Castor</td>\n",
       "    </tr>\n",
       "    <tr>\n",
       "      <th>14</th>\n",
       "      <td>2012</td>\n",
       "      <td>665</td>\n",
       "      <td>108</td>\n",
       "      <td>0.575399</td>\n",
       "      <td>Ave</td>\n",
       "    </tr>\n",
       "    <tr>\n",
       "      <th>15</th>\n",
       "      <td>2014</td>\n",
       "      <td>13</td>\n",
       "      <td>37</td>\n",
       "      <td>0.391462</td>\n",
       "      <td>Perrito</td>\n",
       "    </tr>\n",
       "    <tr>\n",
       "      <th>16</th>\n",
       "      <td>2013</td>\n",
       "      <td>665</td>\n",
       "      <td>107</td>\n",
       "      <td>0.653087</td>\n",
       "      <td>Ave</td>\n",
       "    </tr>\n",
       "    <tr>\n",
       "      <th>17</th>\n",
       "      <td>2008</td>\n",
       "      <td>113</td>\n",
       "      <td>21</td>\n",
       "      <td>0.269334</td>\n",
       "      <td>Gatito</td>\n",
       "    </tr>\n",
       "    <tr>\n",
       "      <th>18</th>\n",
       "      <td>2008</td>\n",
       "      <td>13</td>\n",
       "      <td>127</td>\n",
       "      <td>0.651915</td>\n",
       "      <td>Perrito</td>\n",
       "    </tr>\n",
       "    <tr>\n",
       "      <th>19</th>\n",
       "      <td>2010</td>\n",
       "      <td>1665</td>\n",
       "      <td>4</td>\n",
       "      <td>0.300920</td>\n",
       "      <td>Castor</td>\n",
       "    </tr>\n",
       "    <tr>\n",
       "      <th>20</th>\n",
       "      <td>2015</td>\n",
       "      <td>1665</td>\n",
       "      <td>9</td>\n",
       "      <td>0.394264</td>\n",
       "      <td>Castor</td>\n",
       "    </tr>\n",
       "    <tr>\n",
       "      <th>21</th>\n",
       "      <td>2012</td>\n",
       "      <td>13</td>\n",
       "      <td>45</td>\n",
       "      <td>0.481911</td>\n",
       "      <td>Perrito</td>\n",
       "    </tr>\n",
       "    <tr>\n",
       "      <th>22</th>\n",
       "      <td>2016</td>\n",
       "      <td>113</td>\n",
       "      <td>54</td>\n",
       "      <td>0.462018</td>\n",
       "      <td>Gatito</td>\n",
       "    </tr>\n",
       "    <tr>\n",
       "      <th>23</th>\n",
       "      <td>2014</td>\n",
       "      <td>665</td>\n",
       "      <td>97</td>\n",
       "      <td>0.577822</td>\n",
       "      <td>Ave</td>\n",
       "    </tr>\n",
       "    <tr>\n",
       "      <th>24</th>\n",
       "      <td>2008</td>\n",
       "      <td>665</td>\n",
       "      <td>136</td>\n",
       "      <td>0.646631</td>\n",
       "      <td>Ave</td>\n",
       "    </tr>\n",
       "    <tr>\n",
       "      <th>25</th>\n",
       "      <td>2016</td>\n",
       "      <td>665</td>\n",
       "      <td>99</td>\n",
       "      <td>0.560884</td>\n",
       "      <td>Ave</td>\n",
       "    </tr>\n",
       "    <tr>\n",
       "      <th>26</th>\n",
       "      <td>2010</td>\n",
       "      <td>665</td>\n",
       "      <td>82</td>\n",
       "      <td>0.580839</td>\n",
       "      <td>Ave</td>\n",
       "    </tr>\n",
       "    <tr>\n",
       "      <th>27</th>\n",
       "      <td>2015</td>\n",
       "      <td>665</td>\n",
       "      <td>138</td>\n",
       "      <td>0.633423</td>\n",
       "      <td>Ave</td>\n",
       "    </tr>\n",
       "    <tr>\n",
       "      <th>28</th>\n",
       "      <td>2011</td>\n",
       "      <td>665</td>\n",
       "      <td>82</td>\n",
       "      <td>0.635922</td>\n",
       "      <td>Ave</td>\n",
       "    </tr>\n",
       "    <tr>\n",
       "      <th>29</th>\n",
       "      <td>2013</td>\n",
       "      <td>1665</td>\n",
       "      <td>9</td>\n",
       "      <td>0.279278</td>\n",
       "      <td>Castor</td>\n",
       "    </tr>\n",
       "    <tr>\n",
       "      <th>30</th>\n",
       "      <td>2011</td>\n",
       "      <td>113</td>\n",
       "      <td>41</td>\n",
       "      <td>0.478379</td>\n",
       "      <td>Gatito</td>\n",
       "    </tr>\n",
       "    <tr>\n",
       "      <th>31</th>\n",
       "      <td>2009</td>\n",
       "      <td>1665</td>\n",
       "      <td>8</td>\n",
       "      <td>0.423828</td>\n",
       "      <td>Castor</td>\n",
       "    </tr>\n",
       "    <tr>\n",
       "      <th>32</th>\n",
       "      <td>2013</td>\n",
       "      <td>13</td>\n",
       "      <td>45</td>\n",
       "      <td>0.500173</td>\n",
       "      <td>Perrito</td>\n",
       "    </tr>\n",
       "    <tr>\n",
       "      <th>33</th>\n",
       "      <td>2013</td>\n",
       "      <td>113</td>\n",
       "      <td>54</td>\n",
       "      <td>0.480978</td>\n",
       "      <td>Gatito</td>\n",
       "    </tr>\n",
       "    <tr>\n",
       "      <th>34</th>\n",
       "      <td>2010</td>\n",
       "      <td>13</td>\n",
       "      <td>93</td>\n",
       "      <td>0.542478</td>\n",
       "      <td>Perrito</td>\n",
       "    </tr>\n",
       "    <tr>\n",
       "      <th>35</th>\n",
       "      <td>2015</td>\n",
       "      <td>113</td>\n",
       "      <td>67</td>\n",
       "      <td>0.376328</td>\n",
       "      <td>Gatito</td>\n",
       "    </tr>\n",
       "  </tbody>\n",
       "</table>\n",
       "</div>"
      ],
      "text/plain": [
       "    FEC_AN  prod_Driv4    N  AVG_LGD_T_LR Animalización\n",
       "0     2010         113   22      0.341662        Gatito\n",
       "1     2009          13  114      0.501932       Perrito\n",
       "2     2012        1665    6      0.452282        Castor\n",
       "3     2016        1665    4      0.352234        Castor\n",
       "4     2014         113   62      0.395670        Gatito\n",
       "5     2009         113   31      0.388204        Gatito\n",
       "6     2016          13   32      0.546166       Perrito\n",
       "7     2015          13   26      0.353867       Perrito\n",
       "8     2014        1665    3      0.365236        Castor\n",
       "9     2008        1665    3      0.440664        Castor\n",
       "10    2012         113   56      0.526107        Gatito\n",
       "11    2011          13   50      0.533355       Perrito\n",
       "12    2009         665  128      0.689382           Ave\n",
       "13    2011        1665    5      0.050100        Castor\n",
       "14    2012         665  108      0.575399           Ave\n",
       "15    2014          13   37      0.391462       Perrito\n",
       "16    2013         665  107      0.653087           Ave\n",
       "17    2008         113   21      0.269334        Gatito\n",
       "18    2008          13  127      0.651915       Perrito\n",
       "19    2010        1665    4      0.300920        Castor\n",
       "20    2015        1665    9      0.394264        Castor\n",
       "21    2012          13   45      0.481911       Perrito\n",
       "22    2016         113   54      0.462018        Gatito\n",
       "23    2014         665   97      0.577822           Ave\n",
       "24    2008         665  136      0.646631           Ave\n",
       "25    2016         665   99      0.560884           Ave\n",
       "26    2010         665   82      0.580839           Ave\n",
       "27    2015         665  138      0.633423           Ave\n",
       "28    2011         665   82      0.635922           Ave\n",
       "29    2013        1665    9      0.279278        Castor\n",
       "30    2011         113   41      0.478379        Gatito\n",
       "31    2009        1665    8      0.423828        Castor\n",
       "32    2013          13   45      0.500173       Perrito\n",
       "33    2013         113   54      0.480978        Gatito\n",
       "34    2010          13   93      0.542478       Perrito\n",
       "35    2015         113   67      0.376328        Gatito"
      ]
     },
     "execution_count": 86,
     "metadata": {},
     "output_type": "execute_result"
    }
   ],
   "source": [
    "df.withColumn(\"Animalización\", when(col(\"prod_Driv4\")==13,\"Perrito\").when(col(\"prod_Driv4\")==113,\"Gatito\").when(col(\"prod_Driv4\")==665,\"Ave\").otherwise(\"Castor\")).toPandas()"
   ]
  },
  {
   "cell_type": "code",
   "execution_count": 89,
   "id": "4d90946d-e788-40c3-965e-49d4f38c3692",
   "metadata": {},
   "outputs": [],
   "source": [
    "df_aux = df.withColumn(\"prod_Driv4\",col(\"prod_Driv4\").cast(\"string\"))"
   ]
  },
  {
   "cell_type": "code",
   "execution_count": 91,
   "id": "4ff5818e-16b4-42f1-bc18-8d72e6225d37",
   "metadata": {},
   "outputs": [
    {
     "name": "stdout",
     "output_type": "stream",
     "text": [
      "root\n",
      " |-- FEC_AN: integer (nullable = true)\n",
      " |-- prod_Driv4: integer (nullable = true)\n",
      " |-- N: long (nullable = true)\n",
      " |-- AVG_LGD_T_LR: double (nullable = true)\n",
      "\n"
     ]
    }
   ],
   "source": [
    "df.printSchema()"
   ]
  },
  {
   "cell_type": "code",
   "execution_count": 90,
   "id": "d68e2eba-e14a-4600-a384-fd65d7f47d39",
   "metadata": {},
   "outputs": [
    {
     "name": "stdout",
     "output_type": "stream",
     "text": [
      "root\n",
      " |-- FEC_AN: integer (nullable = true)\n",
      " |-- prod_Driv4: string (nullable = true)\n",
      " |-- N: long (nullable = true)\n",
      " |-- AVG_LGD_T_LR: double (nullable = true)\n",
      "\n"
     ]
    }
   ],
   "source": [
    "df_aux.printSchema()"
   ]
  },
  {
   "cell_type": "code",
   "execution_count": 67,
   "id": "af25beec-054c-4c3e-959d-c1f65582908d",
   "metadata": {},
   "outputs": [
    {
     "name": "stderr",
     "output_type": "stream",
     "text": [
      "                                                                                \r"
     ]
    },
    {
     "data": {
      "text/html": [
       "<div>\n",
       "<style scoped>\n",
       "    .dataframe tbody tr th:only-of-type {\n",
       "        vertical-align: middle;\n",
       "    }\n",
       "\n",
       "    .dataframe tbody tr th {\n",
       "        vertical-align: top;\n",
       "    }\n",
       "\n",
       "    .dataframe thead th {\n",
       "        text-align: right;\n",
       "    }\n",
       "</style>\n",
       "<table border=\"1\" class=\"dataframe\">\n",
       "  <thead>\n",
       "    <tr style=\"text-align: right;\">\n",
       "      <th></th>\n",
       "      <th>FEC_AN</th>\n",
       "      <th>prod_Driv4</th>\n",
       "      <th>N</th>\n",
       "      <th>AVG_LGD_T_LR</th>\n",
       "    </tr>\n",
       "  </thead>\n",
       "  <tbody>\n",
       "    <tr>\n",
       "      <th>0</th>\n",
       "      <td>2008</td>\n",
       "      <td>13</td>\n",
       "      <td>127</td>\n",
       "      <td>0.651915</td>\n",
       "    </tr>\n",
       "    <tr>\n",
       "      <th>1</th>\n",
       "      <td>2012</td>\n",
       "      <td>13</td>\n",
       "      <td>45</td>\n",
       "      <td>0.481911</td>\n",
       "    </tr>\n",
       "    <tr>\n",
       "      <th>2</th>\n",
       "      <td>2013</td>\n",
       "      <td>13</td>\n",
       "      <td>45</td>\n",
       "      <td>0.500173</td>\n",
       "    </tr>\n",
       "    <tr>\n",
       "      <th>3</th>\n",
       "      <td>2010</td>\n",
       "      <td>13</td>\n",
       "      <td>93</td>\n",
       "      <td>0.542478</td>\n",
       "    </tr>\n",
       "    <tr>\n",
       "      <th>4</th>\n",
       "      <td>2009</td>\n",
       "      <td>13</td>\n",
       "      <td>114</td>\n",
       "      <td>0.501932</td>\n",
       "    </tr>\n",
       "    <tr>\n",
       "      <th>5</th>\n",
       "      <td>2016</td>\n",
       "      <td>13</td>\n",
       "      <td>32</td>\n",
       "      <td>0.546166</td>\n",
       "    </tr>\n",
       "    <tr>\n",
       "      <th>6</th>\n",
       "      <td>2015</td>\n",
       "      <td>13</td>\n",
       "      <td>26</td>\n",
       "      <td>0.353867</td>\n",
       "    </tr>\n",
       "    <tr>\n",
       "      <th>7</th>\n",
       "      <td>2011</td>\n",
       "      <td>13</td>\n",
       "      <td>50</td>\n",
       "      <td>0.533355</td>\n",
       "    </tr>\n",
       "    <tr>\n",
       "      <th>8</th>\n",
       "      <td>2014</td>\n",
       "      <td>13</td>\n",
       "      <td>37</td>\n",
       "      <td>0.391462</td>\n",
       "    </tr>\n",
       "    <tr>\n",
       "      <th>9</th>\n",
       "      <td>2010</td>\n",
       "      <td>113</td>\n",
       "      <td>22</td>\n",
       "      <td>0.341662</td>\n",
       "    </tr>\n",
       "    <tr>\n",
       "      <th>10</th>\n",
       "      <td>2014</td>\n",
       "      <td>113</td>\n",
       "      <td>62</td>\n",
       "      <td>0.395670</td>\n",
       "    </tr>\n",
       "    <tr>\n",
       "      <th>11</th>\n",
       "      <td>2009</td>\n",
       "      <td>113</td>\n",
       "      <td>31</td>\n",
       "      <td>0.388204</td>\n",
       "    </tr>\n",
       "    <tr>\n",
       "      <th>12</th>\n",
       "      <td>2012</td>\n",
       "      <td>113</td>\n",
       "      <td>56</td>\n",
       "      <td>0.526107</td>\n",
       "    </tr>\n",
       "    <tr>\n",
       "      <th>13</th>\n",
       "      <td>2008</td>\n",
       "      <td>113</td>\n",
       "      <td>21</td>\n",
       "      <td>0.269334</td>\n",
       "    </tr>\n",
       "    <tr>\n",
       "      <th>14</th>\n",
       "      <td>2016</td>\n",
       "      <td>113</td>\n",
       "      <td>54</td>\n",
       "      <td>0.462018</td>\n",
       "    </tr>\n",
       "    <tr>\n",
       "      <th>15</th>\n",
       "      <td>2011</td>\n",
       "      <td>113</td>\n",
       "      <td>41</td>\n",
       "      <td>0.478379</td>\n",
       "    </tr>\n",
       "    <tr>\n",
       "      <th>16</th>\n",
       "      <td>2013</td>\n",
       "      <td>113</td>\n",
       "      <td>54</td>\n",
       "      <td>0.480978</td>\n",
       "    </tr>\n",
       "    <tr>\n",
       "      <th>17</th>\n",
       "      <td>2015</td>\n",
       "      <td>113</td>\n",
       "      <td>67</td>\n",
       "      <td>0.376328</td>\n",
       "    </tr>\n",
       "    <tr>\n",
       "      <th>18</th>\n",
       "      <td>2014</td>\n",
       "      <td>665</td>\n",
       "      <td>97</td>\n",
       "      <td>0.577822</td>\n",
       "    </tr>\n",
       "    <tr>\n",
       "      <th>19</th>\n",
       "      <td>2008</td>\n",
       "      <td>665</td>\n",
       "      <td>136</td>\n",
       "      <td>0.646631</td>\n",
       "    </tr>\n",
       "    <tr>\n",
       "      <th>20</th>\n",
       "      <td>2016</td>\n",
       "      <td>665</td>\n",
       "      <td>99</td>\n",
       "      <td>0.560884</td>\n",
       "    </tr>\n",
       "    <tr>\n",
       "      <th>21</th>\n",
       "      <td>2010</td>\n",
       "      <td>665</td>\n",
       "      <td>82</td>\n",
       "      <td>0.580839</td>\n",
       "    </tr>\n",
       "    <tr>\n",
       "      <th>22</th>\n",
       "      <td>2015</td>\n",
       "      <td>665</td>\n",
       "      <td>138</td>\n",
       "      <td>0.633423</td>\n",
       "    </tr>\n",
       "    <tr>\n",
       "      <th>23</th>\n",
       "      <td>2011</td>\n",
       "      <td>665</td>\n",
       "      <td>82</td>\n",
       "      <td>0.635922</td>\n",
       "    </tr>\n",
       "    <tr>\n",
       "      <th>24</th>\n",
       "      <td>2009</td>\n",
       "      <td>665</td>\n",
       "      <td>128</td>\n",
       "      <td>0.689382</td>\n",
       "    </tr>\n",
       "    <tr>\n",
       "      <th>25</th>\n",
       "      <td>2012</td>\n",
       "      <td>665</td>\n",
       "      <td>108</td>\n",
       "      <td>0.575399</td>\n",
       "    </tr>\n",
       "    <tr>\n",
       "      <th>26</th>\n",
       "      <td>2013</td>\n",
       "      <td>665</td>\n",
       "      <td>107</td>\n",
       "      <td>0.653087</td>\n",
       "    </tr>\n",
       "    <tr>\n",
       "      <th>27</th>\n",
       "      <td>2010</td>\n",
       "      <td>1665</td>\n",
       "      <td>4</td>\n",
       "      <td>0.300920</td>\n",
       "    </tr>\n",
       "    <tr>\n",
       "      <th>28</th>\n",
       "      <td>2015</td>\n",
       "      <td>1665</td>\n",
       "      <td>9</td>\n",
       "      <td>0.394264</td>\n",
       "    </tr>\n",
       "    <tr>\n",
       "      <th>29</th>\n",
       "      <td>2013</td>\n",
       "      <td>1665</td>\n",
       "      <td>9</td>\n",
       "      <td>0.279278</td>\n",
       "    </tr>\n",
       "    <tr>\n",
       "      <th>30</th>\n",
       "      <td>2009</td>\n",
       "      <td>1665</td>\n",
       "      <td>8</td>\n",
       "      <td>0.423828</td>\n",
       "    </tr>\n",
       "    <tr>\n",
       "      <th>31</th>\n",
       "      <td>2012</td>\n",
       "      <td>1665</td>\n",
       "      <td>6</td>\n",
       "      <td>0.452282</td>\n",
       "    </tr>\n",
       "    <tr>\n",
       "      <th>32</th>\n",
       "      <td>2016</td>\n",
       "      <td>1665</td>\n",
       "      <td>4</td>\n",
       "      <td>0.352234</td>\n",
       "    </tr>\n",
       "    <tr>\n",
       "      <th>33</th>\n",
       "      <td>2014</td>\n",
       "      <td>1665</td>\n",
       "      <td>3</td>\n",
       "      <td>0.365236</td>\n",
       "    </tr>\n",
       "    <tr>\n",
       "      <th>34</th>\n",
       "      <td>2008</td>\n",
       "      <td>1665</td>\n",
       "      <td>3</td>\n",
       "      <td>0.440664</td>\n",
       "    </tr>\n",
       "    <tr>\n",
       "      <th>35</th>\n",
       "      <td>2011</td>\n",
       "      <td>1665</td>\n",
       "      <td>5</td>\n",
       "      <td>0.050100</td>\n",
       "    </tr>\n",
       "  </tbody>\n",
       "</table>\n",
       "</div>"
      ],
      "text/plain": [
       "    FEC_AN  prod_Driv4    N  AVG_LGD_T_LR\n",
       "0     2008          13  127      0.651915\n",
       "1     2012          13   45      0.481911\n",
       "2     2013          13   45      0.500173\n",
       "3     2010          13   93      0.542478\n",
       "4     2009          13  114      0.501932\n",
       "5     2016          13   32      0.546166\n",
       "6     2015          13   26      0.353867\n",
       "7     2011          13   50      0.533355\n",
       "8     2014          13   37      0.391462\n",
       "9     2010         113   22      0.341662\n",
       "10    2014         113   62      0.395670\n",
       "11    2009         113   31      0.388204\n",
       "12    2012         113   56      0.526107\n",
       "13    2008         113   21      0.269334\n",
       "14    2016         113   54      0.462018\n",
       "15    2011         113   41      0.478379\n",
       "16    2013         113   54      0.480978\n",
       "17    2015         113   67      0.376328\n",
       "18    2014         665   97      0.577822\n",
       "19    2008         665  136      0.646631\n",
       "20    2016         665   99      0.560884\n",
       "21    2010         665   82      0.580839\n",
       "22    2015         665  138      0.633423\n",
       "23    2011         665   82      0.635922\n",
       "24    2009         665  128      0.689382\n",
       "25    2012         665  108      0.575399\n",
       "26    2013         665  107      0.653087\n",
       "27    2010        1665    4      0.300920\n",
       "28    2015        1665    9      0.394264\n",
       "29    2013        1665    9      0.279278\n",
       "30    2009        1665    8      0.423828\n",
       "31    2012        1665    6      0.452282\n",
       "32    2016        1665    4      0.352234\n",
       "33    2014        1665    3      0.365236\n",
       "34    2008        1665    3      0.440664\n",
       "35    2011        1665    5      0.050100"
      ]
     },
     "execution_count": 67,
     "metadata": {},
     "output_type": "execute_result"
    }
   ],
   "source": [
    "df.orderBy(\"prod_Driv4\").toPandas()"
   ]
  },
  {
   "cell_type": "markdown",
   "id": "e67e09d9-5f04-4bb9-b14a-d475e1000d88",
   "metadata": {},
   "source": [
    "Ahora sí, volviendo al ejemplo práctico consideramos el siguiente DataFrame"
   ]
  },
  {
   "cell_type": "code",
   "execution_count": 12,
   "id": "47ece072-a964-423e-89fe-08dad7b13691",
   "metadata": {},
   "outputs": [
    {
     "name": "stderr",
     "output_type": "stream",
     "text": [
      "                                                                                \r"
     ]
    },
    {
     "data": {
      "text/html": [
       "<div>\n",
       "<style scoped>\n",
       "    .dataframe tbody tr th:only-of-type {\n",
       "        vertical-align: middle;\n",
       "    }\n",
       "\n",
       "    .dataframe tbody tr th {\n",
       "        vertical-align: top;\n",
       "    }\n",
       "\n",
       "    .dataframe thead th {\n",
       "        text-align: right;\n",
       "    }\n",
       "</style>\n",
       "<table border=\"1\" class=\"dataframe\">\n",
       "  <thead>\n",
       "    <tr style=\"text-align: right;\">\n",
       "      <th></th>\n",
       "      <th>escala</th>\n",
       "      <th>N_Oper</th>\n",
       "      <th>deuda_total</th>\n",
       "      <th>porc_gastos_medio_fd_lr</th>\n",
       "      <th>porc_cobros_medio_fd_lr</th>\n",
       "      <th>porc_recobro_medio_fd_lr</th>\n",
       "      <th>porc_gastos_ac_fd_lr</th>\n",
       "      <th>porc_cobros_ac_fd_lr</th>\n",
       "      <th>escala1</th>\n",
       "      <th>recobro_sc_fd_lr_0816</th>\n",
       "      <th>recobro_sc_fd_lr_1016</th>\n",
       "      <th>escala3</th>\n",
       "      <th>recobro_cc_1016</th>\n",
       "    </tr>\n",
       "  </thead>\n",
       "  <tbody>\n",
       "    <tr>\n",
       "      <th>0</th>\n",
       "      <td>0</td>\n",
       "      <td>1054</td>\n",
       "      <td>1956547768</td>\n",
       "      <td>-0.000321</td>\n",
       "      <td>0.000009</td>\n",
       "      <td>-0.000312</td>\n",
       "      <td>-0.000321</td>\n",
       "      <td>0.000009</td>\n",
       "      <td>0</td>\n",
       "      <td>-0.000312</td>\n",
       "      <td>-0.000419</td>\n",
       "      <td>0.0</td>\n",
       "      <td>-0.000419</td>\n",
       "    </tr>\n",
       "    <tr>\n",
       "      <th>1</th>\n",
       "      <td>1</td>\n",
       "      <td>1054</td>\n",
       "      <td>1956547768</td>\n",
       "      <td>-0.000803</td>\n",
       "      <td>0.074191</td>\n",
       "      <td>0.073388</td>\n",
       "      <td>-0.001124</td>\n",
       "      <td>0.074200</td>\n",
       "      <td>1</td>\n",
       "      <td>0.073076</td>\n",
       "      <td>0.085945</td>\n",
       "      <td>1.0</td>\n",
       "      <td>0.083416</td>\n",
       "    </tr>\n",
       "    <tr>\n",
       "      <th>2</th>\n",
       "      <td>2</td>\n",
       "      <td>1054</td>\n",
       "      <td>1956547768</td>\n",
       "      <td>-0.000371</td>\n",
       "      <td>0.040659</td>\n",
       "      <td>0.040288</td>\n",
       "      <td>-0.001496</td>\n",
       "      <td>0.114859</td>\n",
       "      <td>2</td>\n",
       "      <td>0.113364</td>\n",
       "      <td>0.121463</td>\n",
       "      <td>2.0</td>\n",
       "      <td>0.118934</td>\n",
       "    </tr>\n",
       "    <tr>\n",
       "      <th>3</th>\n",
       "      <td>3</td>\n",
       "      <td>1054</td>\n",
       "      <td>1956547768</td>\n",
       "      <td>-0.000806</td>\n",
       "      <td>0.033573</td>\n",
       "      <td>0.032768</td>\n",
       "      <td>-0.002301</td>\n",
       "      <td>0.148433</td>\n",
       "      <td>3</td>\n",
       "      <td>0.146132</td>\n",
       "      <td>0.148383</td>\n",
       "      <td>3.0</td>\n",
       "      <td>0.145853</td>\n",
       "    </tr>\n",
       "    <tr>\n",
       "      <th>4</th>\n",
       "      <td>4</td>\n",
       "      <td>1054</td>\n",
       "      <td>1956547768</td>\n",
       "      <td>-0.000552</td>\n",
       "      <td>0.032194</td>\n",
       "      <td>0.031642</td>\n",
       "      <td>-0.002854</td>\n",
       "      <td>0.180627</td>\n",
       "      <td>4</td>\n",
       "      <td>0.177773</td>\n",
       "      <td>0.175071</td>\n",
       "      <td>4.0</td>\n",
       "      <td>0.171420</td>\n",
       "    </tr>\n",
       "    <tr>\n",
       "      <th>...</th>\n",
       "      <td>...</td>\n",
       "      <td>...</td>\n",
       "      <td>...</td>\n",
       "      <td>...</td>\n",
       "      <td>...</td>\n",
       "      <td>...</td>\n",
       "      <td>...</td>\n",
       "      <td>...</td>\n",
       "      <td>...</td>\n",
       "      <td>...</td>\n",
       "      <td>...</td>\n",
       "      <td>...</td>\n",
       "      <td>...</td>\n",
       "    </tr>\n",
       "    <tr>\n",
       "      <th>139</th>\n",
       "      <td>139</td>\n",
       "      <td>54</td>\n",
       "      <td>50969861</td>\n",
       "      <td>0.000000</td>\n",
       "      <td>0.000000</td>\n",
       "      <td>0.000000</td>\n",
       "      <td>-0.015184</td>\n",
       "      <td>0.418798</td>\n",
       "      <td>139</td>\n",
       "      <td>0.403614</td>\n",
       "      <td>NaN</td>\n",
       "      <td>NaN</td>\n",
       "      <td>NaN</td>\n",
       "    </tr>\n",
       "    <tr>\n",
       "      <th>140</th>\n",
       "      <td>140</td>\n",
       "      <td>45</td>\n",
       "      <td>43148224</td>\n",
       "      <td>0.000000</td>\n",
       "      <td>0.000000</td>\n",
       "      <td>0.000000</td>\n",
       "      <td>-0.015184</td>\n",
       "      <td>0.418798</td>\n",
       "      <td>140</td>\n",
       "      <td>0.403614</td>\n",
       "      <td>NaN</td>\n",
       "      <td>NaN</td>\n",
       "      <td>NaN</td>\n",
       "    </tr>\n",
       "    <tr>\n",
       "      <th>141</th>\n",
       "      <td>141</td>\n",
       "      <td>31</td>\n",
       "      <td>25825005</td>\n",
       "      <td>0.000000</td>\n",
       "      <td>0.000000</td>\n",
       "      <td>0.000000</td>\n",
       "      <td>-0.015184</td>\n",
       "      <td>0.418798</td>\n",
       "      <td>141</td>\n",
       "      <td>0.403614</td>\n",
       "      <td>NaN</td>\n",
       "      <td>NaN</td>\n",
       "      <td>NaN</td>\n",
       "    </tr>\n",
       "    <tr>\n",
       "      <th>142</th>\n",
       "      <td>142</td>\n",
       "      <td>21</td>\n",
       "      <td>17059689</td>\n",
       "      <td>0.000000</td>\n",
       "      <td>0.000000</td>\n",
       "      <td>0.000000</td>\n",
       "      <td>-0.015184</td>\n",
       "      <td>0.418798</td>\n",
       "      <td>142</td>\n",
       "      <td>0.403614</td>\n",
       "      <td>NaN</td>\n",
       "      <td>NaN</td>\n",
       "      <td>NaN</td>\n",
       "    </tr>\n",
       "    <tr>\n",
       "      <th>143</th>\n",
       "      <td>143</td>\n",
       "      <td>13</td>\n",
       "      <td>9909912</td>\n",
       "      <td>0.000000</td>\n",
       "      <td>0.000000</td>\n",
       "      <td>0.000000</td>\n",
       "      <td>-0.015184</td>\n",
       "      <td>0.418798</td>\n",
       "      <td>143</td>\n",
       "      <td>0.403614</td>\n",
       "      <td>NaN</td>\n",
       "      <td>NaN</td>\n",
       "      <td>NaN</td>\n",
       "    </tr>\n",
       "  </tbody>\n",
       "</table>\n",
       "<p>144 rows × 13 columns</p>\n",
       "</div>"
      ],
      "text/plain": [
       "     escala  N_Oper  deuda_total  porc_gastos_medio_fd_lr  \\\n",
       "0         0    1054   1956547768                -0.000321   \n",
       "1         1    1054   1956547768                -0.000803   \n",
       "2         2    1054   1956547768                -0.000371   \n",
       "3         3    1054   1956547768                -0.000806   \n",
       "4         4    1054   1956547768                -0.000552   \n",
       "..      ...     ...          ...                      ...   \n",
       "139     139      54     50969861                 0.000000   \n",
       "140     140      45     43148224                 0.000000   \n",
       "141     141      31     25825005                 0.000000   \n",
       "142     142      21     17059689                 0.000000   \n",
       "143     143      13      9909912                 0.000000   \n",
       "\n",
       "     porc_cobros_medio_fd_lr  porc_recobro_medio_fd_lr  porc_gastos_ac_fd_lr  \\\n",
       "0                   0.000009                 -0.000312             -0.000321   \n",
       "1                   0.074191                  0.073388             -0.001124   \n",
       "2                   0.040659                  0.040288             -0.001496   \n",
       "3                   0.033573                  0.032768             -0.002301   \n",
       "4                   0.032194                  0.031642             -0.002854   \n",
       "..                       ...                       ...                   ...   \n",
       "139                 0.000000                  0.000000             -0.015184   \n",
       "140                 0.000000                  0.000000             -0.015184   \n",
       "141                 0.000000                  0.000000             -0.015184   \n",
       "142                 0.000000                  0.000000             -0.015184   \n",
       "143                 0.000000                  0.000000             -0.015184   \n",
       "\n",
       "     porc_cobros_ac_fd_lr  escala1  recobro_sc_fd_lr_0816  \\\n",
       "0                0.000009        0              -0.000312   \n",
       "1                0.074200        1               0.073076   \n",
       "2                0.114859        2               0.113364   \n",
       "3                0.148433        3               0.146132   \n",
       "4                0.180627        4               0.177773   \n",
       "..                    ...      ...                    ...   \n",
       "139              0.418798      139               0.403614   \n",
       "140              0.418798      140               0.403614   \n",
       "141              0.418798      141               0.403614   \n",
       "142              0.418798      142               0.403614   \n",
       "143              0.418798      143               0.403614   \n",
       "\n",
       "     recobro_sc_fd_lr_1016  escala3  recobro_cc_1016  \n",
       "0                -0.000419      0.0        -0.000419  \n",
       "1                 0.085945      1.0         0.083416  \n",
       "2                 0.121463      2.0         0.118934  \n",
       "3                 0.148383      3.0         0.145853  \n",
       "4                 0.175071      4.0         0.171420  \n",
       "..                     ...      ...              ...  \n",
       "139                    NaN      NaN              NaN  \n",
       "140                    NaN      NaN              NaN  \n",
       "141                    NaN      NaN              NaN  \n",
       "142                    NaN      NaN              NaN  \n",
       "143                    NaN      NaN              NaN  \n",
       "\n",
       "[144 rows x 13 columns]"
      ]
     },
     "execution_count": 12,
     "metadata": {},
     "output_type": "execute_result"
    }
   ],
   "source": [
    "df = spark.table(\"gmetyprov.\"+\"CURVA_\"+\"PYI_NEG\"+\"_\"+str(665)+\"\")\n",
    "df.toPandas()"
   ]
  },
  {
   "cell_type": "markdown",
   "id": "7e221a78-aed2-44fa-8d9d-1f122f31c463",
   "metadata": {},
   "source": [
    "Se pide graficar columna \"escala\" versus \"recobro_sc_fd_lr_0816\""
   ]
  },
  {
   "cell_type": "code",
   "execution_count": 8,
   "id": "106df72f-6084-4952-bc5f-e64c26aa7e9e",
   "metadata": {},
   "outputs": [
    {
     "data": {
      "text/html": [
       "<div>\n",
       "<style scoped>\n",
       "    .dataframe tbody tr th:only-of-type {\n",
       "        vertical-align: middle;\n",
       "    }\n",
       "\n",
       "    .dataframe tbody tr th {\n",
       "        vertical-align: top;\n",
       "    }\n",
       "\n",
       "    .dataframe thead th {\n",
       "        text-align: right;\n",
       "    }\n",
       "</style>\n",
       "<table border=\"1\" class=\"dataframe\">\n",
       "  <thead>\n",
       "    <tr style=\"text-align: right;\">\n",
       "      <th></th>\n",
       "      <th>escala</th>\n",
       "      <th>N_Oper</th>\n",
       "      <th>deuda_total</th>\n",
       "      <th>porc_gastos_medio_fd_lr</th>\n",
       "      <th>porc_cobros_medio_fd_lr</th>\n",
       "      <th>porc_recobro_medio_fd_lr</th>\n",
       "      <th>porc_gastos_ac_fd_lr</th>\n",
       "      <th>porc_cobros_ac_fd_lr</th>\n",
       "      <th>escala1</th>\n",
       "      <th>recobro_sc_fd_lr_0816</th>\n",
       "      <th>recobro_sc_fd_lr_1016</th>\n",
       "      <th>escala3</th>\n",
       "      <th>recobro_cc_1016</th>\n",
       "    </tr>\n",
       "  </thead>\n",
       "  <tbody>\n",
       "    <tr>\n",
       "      <th>0</th>\n",
       "      <td>0</td>\n",
       "      <td>0</td>\n",
       "      <td>0</td>\n",
       "      <td>0</td>\n",
       "      <td>0</td>\n",
       "      <td>0</td>\n",
       "      <td>0</td>\n",
       "      <td>0</td>\n",
       "      <td>0</td>\n",
       "      <td>0</td>\n",
       "      <td>24</td>\n",
       "      <td>24</td>\n",
       "      <td>24</td>\n",
       "    </tr>\n",
       "  </tbody>\n",
       "</table>\n",
       "</div>"
      ],
      "text/plain": [
       "   escala  N_Oper  deuda_total  porc_gastos_medio_fd_lr  \\\n",
       "0       0       0            0                        0   \n",
       "\n",
       "   porc_cobros_medio_fd_lr  porc_recobro_medio_fd_lr  porc_gastos_ac_fd_lr  \\\n",
       "0                        0                         0                     0   \n",
       "\n",
       "   porc_cobros_ac_fd_lr  escala1  recobro_sc_fd_lr_0816  \\\n",
       "0                     0        0                      0   \n",
       "\n",
       "   recobro_sc_fd_lr_1016  escala3  recobro_cc_1016  \n",
       "0                     24       24               24  "
      ]
     },
     "execution_count": 8,
     "metadata": {},
     "output_type": "execute_result"
    }
   ],
   "source": [
    "# Revisamos si alguna de las dos columnas posee valores nulos\n",
    "df.select([count(when(isnan(c) | col(c).isNull(), c)).alias(c) for c in df.columns]).toPandas() # Código genérico de utiliddd"
   ]
  },
  {
   "cell_type": "markdown",
   "id": "b4626aa7-5ee9-4c1e-9c3e-8c1559d97131",
   "metadata": {},
   "source": [
    "Notando que en ambas columnas que nos interesan no existen nulos, procedemos a recolectar los datos sin problema. En general nos encontramos con dos métodos para la recolección de datos:\n",
    "\n",
    "```python\n",
    "# Forma 1\n",
    "df.rdd.map(lambda x: x.nombre_columna).collect()\n",
    "\"\"\"\n",
    "Utilizada para capturar los elementos de una sola columna por filas\n",
    "\"\"\"\n",
    "\n",
    "# Forma 2\n",
    "df[\"columna_1\",...,\"columna_n\"].rdd.map(lambda x: x).collect()\n",
    "\"\"\"\n",
    "Utilizada para capturar los elementos de una columna o más por filas (Además podemos hacer operaciones para cada elemento)\n",
    "\"\"\"\n",
    "# Forma 3\n",
    "df.select(\"columna_1\",...,\"columna_n\").rdd.flatMap(lambda x: x).collect()\n",
    "\"\"\"\n",
    "Utilizada para capturar elementos de una columna o más por filas\n",
    "\"\"\"\n",
    "```"
   ]
  },
  {
   "cell_type": "code",
   "execution_count": 15,
   "id": "41abf139-3aba-43f1-9877-f332fb3f5fcb",
   "metadata": {
    "collapsed": true,
    "jupyter": {
     "outputs_hidden": true
    },
    "tags": []
   },
   "outputs": [
    {
     "name": "stderr",
     "output_type": "stream",
     "text": [
      "                                                                                \r"
     ]
    },
    {
     "data": {
      "text/plain": [
       "[0,\n",
       " 1,\n",
       " 2,\n",
       " 3,\n",
       " 4,\n",
       " 5,\n",
       " 6,\n",
       " 7,\n",
       " 8,\n",
       " 9,\n",
       " 10,\n",
       " 11,\n",
       " 12,\n",
       " 13,\n",
       " 14,\n",
       " 15,\n",
       " 16,\n",
       " 17,\n",
       " 18,\n",
       " 19,\n",
       " 20,\n",
       " 21,\n",
       " 22,\n",
       " 23,\n",
       " 24,\n",
       " 25,\n",
       " 26,\n",
       " 27,\n",
       " 28,\n",
       " 29,\n",
       " 30,\n",
       " 31,\n",
       " 32,\n",
       " 33,\n",
       " 34,\n",
       " 35,\n",
       " 36,\n",
       " 37,\n",
       " 38,\n",
       " 39,\n",
       " 40,\n",
       " 41,\n",
       " 42,\n",
       " 43,\n",
       " 44,\n",
       " 45,\n",
       " 46,\n",
       " 47,\n",
       " 48,\n",
       " 49,\n",
       " 50,\n",
       " 51,\n",
       " 52,\n",
       " 53,\n",
       " 54,\n",
       " 55,\n",
       " 56,\n",
       " 57,\n",
       " 58,\n",
       " 59,\n",
       " 60,\n",
       " 61,\n",
       " 62,\n",
       " 63,\n",
       " 64,\n",
       " 65,\n",
       " 66,\n",
       " 67,\n",
       " 68,\n",
       " 69,\n",
       " 70,\n",
       " 71,\n",
       " 72,\n",
       " 73,\n",
       " 74,\n",
       " 75,\n",
       " 76,\n",
       " 77,\n",
       " 78,\n",
       " 79,\n",
       " 80,\n",
       " 81,\n",
       " 82,\n",
       " 83,\n",
       " 84,\n",
       " 85,\n",
       " 86,\n",
       " 87,\n",
       " 88,\n",
       " 89,\n",
       " 90,\n",
       " 91,\n",
       " 92,\n",
       " 93,\n",
       " 94,\n",
       " 95,\n",
       " 96,\n",
       " 97,\n",
       " 98,\n",
       " 99,\n",
       " 100,\n",
       " 101,\n",
       " 102,\n",
       " 103,\n",
       " 104,\n",
       " 105,\n",
       " 106,\n",
       " 107,\n",
       " 108,\n",
       " 109,\n",
       " 110,\n",
       " 111,\n",
       " 112,\n",
       " 113,\n",
       " 114,\n",
       " 115,\n",
       " 116,\n",
       " 117,\n",
       " 118,\n",
       " 119,\n",
       " 120,\n",
       " 121,\n",
       " 122,\n",
       " 123,\n",
       " 124,\n",
       " 125,\n",
       " 126,\n",
       " 127,\n",
       " 128,\n",
       " 129,\n",
       " 130,\n",
       " 131,\n",
       " 132,\n",
       " 133,\n",
       " 134,\n",
       " 135,\n",
       " 136,\n",
       " 137,\n",
       " 138,\n",
       " 139,\n",
       " 140,\n",
       " 141,\n",
       " 142,\n",
       " 143]"
      ]
     },
     "execution_count": 15,
     "metadata": {},
     "output_type": "execute_result"
    }
   ],
   "source": [
    "# PRUEBAS\n",
    "forma_1 = df.rdd.map(lambda x: x.escala).collect()\n"
   ]
  },
  {
   "cell_type": "code",
   "execution_count": 22,
   "id": "c50b52a0-3a41-48aa-861f-1d9bcd16695d",
   "metadata": {},
   "outputs": [
    {
     "data": {
      "text/plain": [
       "0.19063940143300784"
      ]
     },
     "execution_count": 22,
     "metadata": {},
     "output_type": "execute_result"
    }
   ],
   "source": [
    "df[\"escala\",\"recobro_sc_fd_lr_0816\",\"porc_gastos_medio_fd_lr\"].rdd.map(lambda x: x).collect()[5][\"recobro_sc_fd_lr_0816\"]"
   ]
  },
  {
   "cell_type": "code",
   "execution_count": 23,
   "id": "1cd1a390-9be7-4ed3-8f5d-af0629906324",
   "metadata": {},
   "outputs": [
    {
     "name": "stderr",
     "output_type": "stream",
     "text": [
      "                                                                                \r"
     ]
    }
   ],
   "source": [
    "# Capturamos los datos para ejecutar la gráfica\n",
    "escala = df.rdd.map(lambda x: x.escala).collect()\n",
    "recobro = df.rdd.map(lambda x: x.recobro_sc_fd_lr_0816).collect()"
   ]
  },
  {
   "cell_type": "code",
   "execution_count": 25,
   "id": "b6c8fa25-f1b3-4387-8dd0-388239bec3a3",
   "metadata": {},
   "outputs": [
    {
     "name": "stderr",
     "output_type": "stream",
     "text": [
      "                                                                                \r"
     ]
    }
   ],
   "source": [
    "recobro_porcentual = df.rdd.map(lambda x: x.recobro_sc_fd_lr_0816*100).collect()"
   ]
  },
  {
   "cell_type": "code",
   "execution_count": 26,
   "id": "ae67de5f-979c-4d9e-8457-8bd31e6696fd",
   "metadata": {
    "collapsed": true,
    "jupyter": {
     "outputs_hidden": true
    },
    "tags": []
   },
   "outputs": [
    {
     "data": {
      "text/plain": [
       "[-0.031193602308554075,\n",
       " 7.307586573332446,\n",
       " 11.336388300347492,\n",
       " 14.613158366467783,\n",
       " 17.77732396748237,\n",
       " 19.063940143300783,\n",
       " 20.628570059216436,\n",
       " 21.33628789277741,\n",
       " 22.554591363705974,\n",
       " 23.700253888753792,\n",
       " 24.37895178797823,\n",
       " 25.43196609319665,\n",
       " 26.273045086725595,\n",
       " 27.285337269801502,\n",
       " 28.058239117033036,\n",
       " 28.735253903556863,\n",
       " 29.32595780301326,\n",
       " 29.89306754918904,\n",
       " 30.34201876228737,\n",
       " 30.71330543388503,\n",
       " 31.475470515993102,\n",
       " 33.04563958970919,\n",
       " 33.39264797930219,\n",
       " 34.296239516927926,\n",
       " 34.540831581640525,\n",
       " 35.04538835955124,\n",
       " 35.22084692616691,\n",
       " 35.432320946188916,\n",
       " 35.692679196743086,\n",
       " 35.77944817588573,\n",
       " 36.25132915670279,\n",
       " 36.6109141298257,\n",
       " 36.85691308551368,\n",
       " 37.04684188414847,\n",
       " 37.32501927743208,\n",
       " 37.72760949116552,\n",
       " 37.90089842061917,\n",
       " 38.084575343965696,\n",
       " 38.16195166735486,\n",
       " 38.36877705910979,\n",
       " 38.52566811810244,\n",
       " 38.72543822945807,\n",
       " 38.928932474392646,\n",
       " 39.05261783476381,\n",
       " 39.23588161774798,\n",
       " 39.25388288520581,\n",
       " 39.28343092683275,\n",
       " 39.361095506817996,\n",
       " 39.528730142983534,\n",
       " 39.649960726935205,\n",
       " 39.66385835035405,\n",
       " 39.67266670843087,\n",
       " 39.68825995977067,\n",
       " 39.70200586905148,\n",
       " 39.82479642882494,\n",
       " 39.83477619594114,\n",
       " 39.84640070642269,\n",
       " 39.885649155354216,\n",
       " 39.890229972300794,\n",
       " 39.894144945419306,\n",
       " 39.901246067458914,\n",
       " 39.90667643438509,\n",
       " 39.91152148971517,\n",
       " 39.911422611646934,\n",
       " 39.91383449353118,\n",
       " 40.01828208456462,\n",
       " 40.038639478973174,\n",
       " 40.03981834464806,\n",
       " 40.04099629301491,\n",
       " 40.11810684586206,\n",
       " 40.11810684586206,\n",
       " 40.12239944812395,\n",
       " 40.12355856215561,\n",
       " 40.1248383859022,\n",
       " 40.12608512743728,\n",
       " 40.12734838418537,\n",
       " 40.129388110123806,\n",
       " 40.13072386529089,\n",
       " 40.13451750243386,\n",
       " 40.13590128130211,\n",
       " 40.139709582268075,\n",
       " 40.141123375024975,\n",
       " 40.14263354053406,\n",
       " 40.14420185663018,\n",
       " 40.1407834624744,\n",
       " 40.1423863275398,\n",
       " 40.144307855018745,\n",
       " 40.14600750880363,\n",
       " 40.14771148831074,\n",
       " 40.111504264367035,\n",
       " 40.111504264367035,\n",
       " 40.111504264367035,\n",
       " 40.09388711371069,\n",
       " 40.09388711371069,\n",
       " 40.12353011248945,\n",
       " 40.13535547526516,\n",
       " 40.13535547526516,\n",
       " 40.30532586408887,\n",
       " 40.30677751307401,\n",
       " 40.30677751307401,\n",
       " 40.30677751307401,\n",
       " 40.30677751307401,\n",
       " 40.36144851135268,\n",
       " 40.36144851135268,\n",
       " 40.36144851135268,\n",
       " 40.36144851135268,\n",
       " 40.36144851135268,\n",
       " 40.36144851135268,\n",
       " 40.36144851135268,\n",
       " 40.36144851135268,\n",
       " 40.36144851135268,\n",
       " 40.36144851135268,\n",
       " 40.36144851135268,\n",
       " 40.36144851135268,\n",
       " 40.36144851135268,\n",
       " 40.36144851135268,\n",
       " 40.36144851135268,\n",
       " 40.36144851135268,\n",
       " 40.36144851135268,\n",
       " 40.36144851135268,\n",
       " 40.36144851135268,\n",
       " 40.36144851135268,\n",
       " 40.36144851135268,\n",
       " 40.36144851135268,\n",
       " 40.36144851135268,\n",
       " 40.36144851135268,\n",
       " 40.36144851135268,\n",
       " 40.36144851135268,\n",
       " 40.36144851135268,\n",
       " 40.36144851135268,\n",
       " 40.36144851135268,\n",
       " 40.36144851135268,\n",
       " 40.36144851135268,\n",
       " 40.36144851135268,\n",
       " 40.36144851135268,\n",
       " 40.36144851135268,\n",
       " 40.36144851135268,\n",
       " 40.36144851135268,\n",
       " 40.36144851135268,\n",
       " 40.36144851135268,\n",
       " 40.36144851135268,\n",
       " 40.36144851135268,\n",
       " 40.36144851135268,\n",
       " 40.36144851135268]"
      ]
     },
     "execution_count": 26,
     "metadata": {},
     "output_type": "execute_result"
    }
   ],
   "source": [
    "recobro_porcentual"
   ]
  },
  {
   "cell_type": "markdown",
   "id": "a679f27e-1d81-41a2-9dfb-ff15c803ca8e",
   "metadata": {},
   "source": [
    "Podemos realizar transformación de los datos recolectados utilizando la siguiente herramienta : *for in line*. Por su estructura compacta, se suele reemplazar la utilización de el método append() para el llenado de listas.\n",
    "\n",
    "```python\n",
    "# Sin condiciones\n",
    "lista = [f(c) for c in iterable]\n",
    "\"\"\"\n",
    "lista conformada por la transformación f de elementos en un iterable.\n",
    "\"\"\"\n",
    "\n",
    "# Con condiciones\n",
    "lista = [f(c) for c in iterable if condicion(c)]\n",
    "\"\"\"\n",
    "Se realizará el llenado e la lista con el elemento transformado f(c) siempre que \"c\" cumpla la condición\n",
    "\"\"\"\n",
    "```"
   ]
  },
  {
   "cell_type": "code",
   "execution_count": 28,
   "id": "dbb4ed9d-1f13-4d81-931a-857a49ccdba5",
   "metadata": {
    "collapsed": true,
    "jupyter": {
     "outputs_hidden": true
    },
    "tags": []
   },
   "outputs": [
    {
     "data": {
      "text/plain": [
       "[-0.031193602308554075,\n",
       " 7.307586573332446,\n",
       " 11.336388300347492,\n",
       " 14.613158366467783,\n",
       " 17.77732396748237,\n",
       " 19.063940143300783,\n",
       " 20.628570059216436,\n",
       " 21.33628789277741,\n",
       " 22.554591363705974,\n",
       " 23.700253888753792,\n",
       " 24.37895178797823,\n",
       " 25.43196609319665,\n",
       " 26.273045086725595,\n",
       " 27.285337269801502,\n",
       " 28.058239117033036,\n",
       " 28.735253903556863,\n",
       " 29.32595780301326,\n",
       " 29.89306754918904,\n",
       " 30.34201876228737,\n",
       " 30.71330543388503,\n",
       " 31.475470515993102,\n",
       " 33.04563958970919,\n",
       " 33.39264797930219,\n",
       " 34.296239516927926,\n",
       " 34.540831581640525,\n",
       " 35.04538835955124,\n",
       " 35.22084692616691,\n",
       " 35.432320946188916,\n",
       " 35.692679196743086,\n",
       " 35.77944817588573,\n",
       " 36.25132915670279,\n",
       " 36.6109141298257,\n",
       " 36.85691308551368,\n",
       " 37.04684188414847,\n",
       " 37.32501927743208,\n",
       " 37.72760949116552,\n",
       " 37.90089842061917,\n",
       " 38.084575343965696,\n",
       " 38.16195166735486,\n",
       " 38.36877705910979,\n",
       " 38.52566811810244,\n",
       " 38.72543822945807,\n",
       " 38.928932474392646,\n",
       " 39.05261783476381,\n",
       " 39.23588161774798,\n",
       " 39.25388288520581,\n",
       " 39.28343092683275,\n",
       " 39.361095506817996,\n",
       " 39.528730142983534,\n",
       " 39.649960726935205,\n",
       " 39.66385835035405,\n",
       " 39.67266670843087,\n",
       " 39.68825995977067,\n",
       " 39.70200586905148,\n",
       " 39.82479642882494,\n",
       " 39.83477619594114,\n",
       " 39.84640070642269,\n",
       " 39.885649155354216,\n",
       " 39.890229972300794,\n",
       " 39.894144945419306,\n",
       " 39.901246067458914,\n",
       " 39.90667643438509,\n",
       " 39.91152148971517,\n",
       " 39.911422611646934,\n",
       " 39.91383449353118,\n",
       " 40.01828208456462,\n",
       " 40.038639478973174,\n",
       " 40.03981834464806,\n",
       " 40.04099629301491,\n",
       " 40.11810684586206,\n",
       " 40.11810684586206,\n",
       " 40.12239944812395,\n",
       " 40.12355856215561,\n",
       " 40.1248383859022,\n",
       " 40.12608512743728,\n",
       " 40.12734838418537,\n",
       " 40.129388110123806,\n",
       " 40.13072386529089,\n",
       " 40.13451750243386,\n",
       " 40.13590128130211,\n",
       " 40.139709582268075,\n",
       " 40.141123375024975,\n",
       " 40.14263354053406,\n",
       " 40.14420185663018,\n",
       " 40.1407834624744,\n",
       " 40.1423863275398,\n",
       " 40.144307855018745,\n",
       " 40.14600750880363,\n",
       " 40.14771148831074,\n",
       " 40.111504264367035,\n",
       " 40.111504264367035,\n",
       " 40.111504264367035,\n",
       " 40.09388711371069,\n",
       " 40.09388711371069,\n",
       " 40.12353011248945,\n",
       " 40.13535547526516,\n",
       " 40.13535547526516,\n",
       " 40.30532586408887,\n",
       " 40.30677751307401,\n",
       " 40.30677751307401,\n",
       " 40.30677751307401,\n",
       " 40.30677751307401,\n",
       " 40.36144851135268,\n",
       " 40.36144851135268,\n",
       " 40.36144851135268,\n",
       " 40.36144851135268,\n",
       " 40.36144851135268,\n",
       " 40.36144851135268,\n",
       " 40.36144851135268,\n",
       " 40.36144851135268,\n",
       " 40.36144851135268,\n",
       " 40.36144851135268,\n",
       " 40.36144851135268,\n",
       " 40.36144851135268,\n",
       " 40.36144851135268,\n",
       " 40.36144851135268,\n",
       " 40.36144851135268,\n",
       " 40.36144851135268,\n",
       " 40.36144851135268,\n",
       " 40.36144851135268,\n",
       " 40.36144851135268,\n",
       " 40.36144851135268,\n",
       " 40.36144851135268,\n",
       " 40.36144851135268,\n",
       " 40.36144851135268,\n",
       " 40.36144851135268,\n",
       " 40.36144851135268,\n",
       " 40.36144851135268,\n",
       " 40.36144851135268,\n",
       " 40.36144851135268,\n",
       " 40.36144851135268,\n",
       " 40.36144851135268,\n",
       " 40.36144851135268,\n",
       " 40.36144851135268,\n",
       " 40.36144851135268,\n",
       " 40.36144851135268,\n",
       " 40.36144851135268,\n",
       " 40.36144851135268,\n",
       " 40.36144851135268,\n",
       " 40.36144851135268,\n",
       " 40.36144851135268,\n",
       " 40.36144851135268,\n",
       " 40.36144851135268,\n",
       " 40.36144851135268]"
      ]
     },
     "execution_count": 28,
     "metadata": {},
     "output_type": "execute_result"
    }
   ],
   "source": [
    "recobro_by_for = [c*100 for c in recobro if c!=None]\n",
    "recobro_by_for"
   ]
  },
  {
   "cell_type": "code",
   "execution_count": 36,
   "id": "56c834f2-3b92-40a6-ab34-7ab32de2b402",
   "metadata": {
    "tags": []
   },
   "outputs": [
    {
     "data": {
      "image/png": "[encoded data removed]",
      "text/plain": [
       "<Figure size 1296x288 with 1 Axes>"
      ]
     },
     "metadata": {
      "needs_background": "light"
     },
     "output_type": "display_data"
    }
   ],
   "source": [
    "# Graficamos\n",
    "import matplotlib.pyplot as plt\n",
    "\n",
    "fig = plt.figure(figsize=(18,4))\n",
    "plt.title(\"prueba 1\")\n",
    "plt.plot(escala,recobro_by_for,color=\"red\",label=\"recobro\")\n",
    "plt.xlabel(\"Meses\")\n",
    "plt.ylabel(\"Porcentaje\")\n",
    "plt.grid()\n",
    "plt.legend()\n",
    "\n",
    "# Se inicia proceso de guardado\n",
    "directorio = \"./C_python/\"\n",
    "archivo = \"Prueba_1\"\n",
    "fig.savefig(directorio+archivo+\"png\")"
   ]
  },
  {
   "cell_type": "code",
   "execution_count": 35,
   "id": "3aa83104-1d78-4ba9-91ce-335a88a86c4a",
   "metadata": {},
   "outputs": [
    {
     "data": {
      "image/png": "[encoded data removed]",
      "text/plain": [
       "<Figure size 1296x288 with 1 Axes>"
      ]
     },
     "execution_count": 35,
     "metadata": {},
     "output_type": "execute_result"
    }
   ],
   "source": [
    "fig"
   ]
  },
  {
   "cell_type": "markdown",
   "id": "28e45426-c174-438d-b05f-c1488a8d222b",
   "metadata": {},
   "source": [
    "### 2.1.1 Ejercicio práctico #1\n",
    "\n",
    "Grafique ahora en un mismo gráfico las columnas \"escala\" versus \"recobro_sc_fd_lr_1016\" y \"recobro_cc_1016\".\n"
   ]
  },
  {
   "cell_type": "code",
   "execution_count": null,
   "id": "8db8e2a6-e3aa-4184-bdfd-7aa48c8a63bf",
   "metadata": {},
   "outputs": [],
   "source": []
  },
  {
   "cell_type": "code",
   "execution_count": null,
   "id": "eb1b3be3-65af-4d24-83c0-8d29de495068",
   "metadata": {},
   "outputs": [],
   "source": []
  },
  {
   "cell_type": "markdown",
   "id": "6f4c4d0c-ebf2-4cee-a594-5352de3a1ce0",
   "metadata": {},
   "source": [
    "### 2.1.2 Ejercicio práctico #2\n",
    "\n",
    "dada la siguiente tabla "
   ]
  },
  {
   "cell_type": "code",
   "execution_count": 4,
   "id": "e7dd419a-0c49-4e74-9958-85493a5a02c1",
   "metadata": {},
   "outputs": [
    {
     "name": "stderr",
     "output_type": "stream",
     "text": [
      "                                                                                \r"
     ]
    },
    {
     "data": {
      "text/html": [
       "<div>\n",
       "<style scoped>\n",
       "    .dataframe tbody tr th:only-of-type {\n",
       "        vertical-align: middle;\n",
       "    }\n",
       "\n",
       "    .dataframe tbody tr th {\n",
       "        vertical-align: top;\n",
       "    }\n",
       "\n",
       "    .dataframe thead th {\n",
       "        text-align: right;\n",
       "    }\n",
       "</style>\n",
       "<table border=\"1\" class=\"dataframe\">\n",
       "  <thead>\n",
       "    <tr style=\"text-align: right;\">\n",
       "      <th></th>\n",
       "      <th>FEC_AN</th>\n",
       "      <th>prod_Driv4</th>\n",
       "      <th>N</th>\n",
       "      <th>AVG_LGD_T_LR</th>\n",
       "    </tr>\n",
       "  </thead>\n",
       "  <tbody>\n",
       "    <tr>\n",
       "      <th>0</th>\n",
       "      <td>2010</td>\n",
       "      <td>113</td>\n",
       "      <td>22</td>\n",
       "      <td>0.341662</td>\n",
       "    </tr>\n",
       "    <tr>\n",
       "      <th>1</th>\n",
       "      <td>2009</td>\n",
       "      <td>13</td>\n",
       "      <td>114</td>\n",
       "      <td>0.501932</td>\n",
       "    </tr>\n",
       "    <tr>\n",
       "      <th>2</th>\n",
       "      <td>2012</td>\n",
       "      <td>1665</td>\n",
       "      <td>6</td>\n",
       "      <td>0.452282</td>\n",
       "    </tr>\n",
       "    <tr>\n",
       "      <th>3</th>\n",
       "      <td>2016</td>\n",
       "      <td>1665</td>\n",
       "      <td>4</td>\n",
       "      <td>0.352234</td>\n",
       "    </tr>\n",
       "    <tr>\n",
       "      <th>4</th>\n",
       "      <td>2014</td>\n",
       "      <td>113</td>\n",
       "      <td>62</td>\n",
       "      <td>0.395670</td>\n",
       "    </tr>\n",
       "    <tr>\n",
       "      <th>5</th>\n",
       "      <td>2009</td>\n",
       "      <td>113</td>\n",
       "      <td>31</td>\n",
       "      <td>0.388204</td>\n",
       "    </tr>\n",
       "    <tr>\n",
       "      <th>6</th>\n",
       "      <td>2016</td>\n",
       "      <td>13</td>\n",
       "      <td>32</td>\n",
       "      <td>0.546166</td>\n",
       "    </tr>\n",
       "    <tr>\n",
       "      <th>7</th>\n",
       "      <td>2015</td>\n",
       "      <td>13</td>\n",
       "      <td>26</td>\n",
       "      <td>0.353867</td>\n",
       "    </tr>\n",
       "    <tr>\n",
       "      <th>8</th>\n",
       "      <td>2014</td>\n",
       "      <td>1665</td>\n",
       "      <td>3</td>\n",
       "      <td>0.365236</td>\n",
       "    </tr>\n",
       "    <tr>\n",
       "      <th>9</th>\n",
       "      <td>2008</td>\n",
       "      <td>1665</td>\n",
       "      <td>3</td>\n",
       "      <td>0.440664</td>\n",
       "    </tr>\n",
       "    <tr>\n",
       "      <th>10</th>\n",
       "      <td>2012</td>\n",
       "      <td>113</td>\n",
       "      <td>56</td>\n",
       "      <td>0.526107</td>\n",
       "    </tr>\n",
       "    <tr>\n",
       "      <th>11</th>\n",
       "      <td>2011</td>\n",
       "      <td>13</td>\n",
       "      <td>50</td>\n",
       "      <td>0.533355</td>\n",
       "    </tr>\n",
       "    <tr>\n",
       "      <th>12</th>\n",
       "      <td>2009</td>\n",
       "      <td>665</td>\n",
       "      <td>128</td>\n",
       "      <td>0.689382</td>\n",
       "    </tr>\n",
       "    <tr>\n",
       "      <th>13</th>\n",
       "      <td>2011</td>\n",
       "      <td>1665</td>\n",
       "      <td>5</td>\n",
       "      <td>0.050100</td>\n",
       "    </tr>\n",
       "    <tr>\n",
       "      <th>14</th>\n",
       "      <td>2012</td>\n",
       "      <td>665</td>\n",
       "      <td>108</td>\n",
       "      <td>0.575399</td>\n",
       "    </tr>\n",
       "    <tr>\n",
       "      <th>15</th>\n",
       "      <td>2014</td>\n",
       "      <td>13</td>\n",
       "      <td>37</td>\n",
       "      <td>0.391462</td>\n",
       "    </tr>\n",
       "    <tr>\n",
       "      <th>16</th>\n",
       "      <td>2013</td>\n",
       "      <td>665</td>\n",
       "      <td>107</td>\n",
       "      <td>0.653087</td>\n",
       "    </tr>\n",
       "    <tr>\n",
       "      <th>17</th>\n",
       "      <td>2008</td>\n",
       "      <td>113</td>\n",
       "      <td>21</td>\n",
       "      <td>0.269334</td>\n",
       "    </tr>\n",
       "    <tr>\n",
       "      <th>18</th>\n",
       "      <td>2008</td>\n",
       "      <td>13</td>\n",
       "      <td>127</td>\n",
       "      <td>0.651915</td>\n",
       "    </tr>\n",
       "    <tr>\n",
       "      <th>19</th>\n",
       "      <td>2010</td>\n",
       "      <td>1665</td>\n",
       "      <td>4</td>\n",
       "      <td>0.300920</td>\n",
       "    </tr>\n",
       "    <tr>\n",
       "      <th>20</th>\n",
       "      <td>2015</td>\n",
       "      <td>1665</td>\n",
       "      <td>9</td>\n",
       "      <td>0.394264</td>\n",
       "    </tr>\n",
       "    <tr>\n",
       "      <th>21</th>\n",
       "      <td>2012</td>\n",
       "      <td>13</td>\n",
       "      <td>45</td>\n",
       "      <td>0.481911</td>\n",
       "    </tr>\n",
       "    <tr>\n",
       "      <th>22</th>\n",
       "      <td>2016</td>\n",
       "      <td>113</td>\n",
       "      <td>54</td>\n",
       "      <td>0.462018</td>\n",
       "    </tr>\n",
       "    <tr>\n",
       "      <th>23</th>\n",
       "      <td>2014</td>\n",
       "      <td>665</td>\n",
       "      <td>97</td>\n",
       "      <td>0.577822</td>\n",
       "    </tr>\n",
       "    <tr>\n",
       "      <th>24</th>\n",
       "      <td>2008</td>\n",
       "      <td>665</td>\n",
       "      <td>136</td>\n",
       "      <td>0.646631</td>\n",
       "    </tr>\n",
       "    <tr>\n",
       "      <th>25</th>\n",
       "      <td>2016</td>\n",
       "      <td>665</td>\n",
       "      <td>99</td>\n",
       "      <td>0.560884</td>\n",
       "    </tr>\n",
       "    <tr>\n",
       "      <th>26</th>\n",
       "      <td>2010</td>\n",
       "      <td>665</td>\n",
       "      <td>82</td>\n",
       "      <td>0.580839</td>\n",
       "    </tr>\n",
       "    <tr>\n",
       "      <th>27</th>\n",
       "      <td>2015</td>\n",
       "      <td>665</td>\n",
       "      <td>138</td>\n",
       "      <td>0.633423</td>\n",
       "    </tr>\n",
       "    <tr>\n",
       "      <th>28</th>\n",
       "      <td>2011</td>\n",
       "      <td>665</td>\n",
       "      <td>82</td>\n",
       "      <td>0.635922</td>\n",
       "    </tr>\n",
       "    <tr>\n",
       "      <th>29</th>\n",
       "      <td>2013</td>\n",
       "      <td>1665</td>\n",
       "      <td>9</td>\n",
       "      <td>0.279278</td>\n",
       "    </tr>\n",
       "    <tr>\n",
       "      <th>30</th>\n",
       "      <td>2011</td>\n",
       "      <td>113</td>\n",
       "      <td>41</td>\n",
       "      <td>0.478379</td>\n",
       "    </tr>\n",
       "    <tr>\n",
       "      <th>31</th>\n",
       "      <td>2009</td>\n",
       "      <td>1665</td>\n",
       "      <td>8</td>\n",
       "      <td>0.423828</td>\n",
       "    </tr>\n",
       "    <tr>\n",
       "      <th>32</th>\n",
       "      <td>2013</td>\n",
       "      <td>13</td>\n",
       "      <td>45</td>\n",
       "      <td>0.500173</td>\n",
       "    </tr>\n",
       "    <tr>\n",
       "      <th>33</th>\n",
       "      <td>2013</td>\n",
       "      <td>113</td>\n",
       "      <td>54</td>\n",
       "      <td>0.480978</td>\n",
       "    </tr>\n",
       "    <tr>\n",
       "      <th>34</th>\n",
       "      <td>2010</td>\n",
       "      <td>13</td>\n",
       "      <td>93</td>\n",
       "      <td>0.542478</td>\n",
       "    </tr>\n",
       "    <tr>\n",
       "      <th>35</th>\n",
       "      <td>2015</td>\n",
       "      <td>113</td>\n",
       "      <td>67</td>\n",
       "      <td>0.376328</td>\n",
       "    </tr>\n",
       "  </tbody>\n",
       "</table>\n",
       "</div>"
      ],
      "text/plain": [
       "    FEC_AN  prod_Driv4    N  AVG_LGD_T_LR\n",
       "0     2010         113   22      0.341662\n",
       "1     2009          13  114      0.501932\n",
       "2     2012        1665    6      0.452282\n",
       "3     2016        1665    4      0.352234\n",
       "4     2014         113   62      0.395670\n",
       "5     2009         113   31      0.388204\n",
       "6     2016          13   32      0.546166\n",
       "7     2015          13   26      0.353867\n",
       "8     2014        1665    3      0.365236\n",
       "9     2008        1665    3      0.440664\n",
       "10    2012         113   56      0.526107\n",
       "11    2011          13   50      0.533355\n",
       "12    2009         665  128      0.689382\n",
       "13    2011        1665    5      0.050100\n",
       "14    2012         665  108      0.575399\n",
       "15    2014          13   37      0.391462\n",
       "16    2013         665  107      0.653087\n",
       "17    2008         113   21      0.269334\n",
       "18    2008          13  127      0.651915\n",
       "19    2010        1665    4      0.300920\n",
       "20    2015        1665    9      0.394264\n",
       "21    2012          13   45      0.481911\n",
       "22    2016         113   54      0.462018\n",
       "23    2014         665   97      0.577822\n",
       "24    2008         665  136      0.646631\n",
       "25    2016         665   99      0.560884\n",
       "26    2010         665   82      0.580839\n",
       "27    2015         665  138      0.633423\n",
       "28    2011         665   82      0.635922\n",
       "29    2013        1665    9      0.279278\n",
       "30    2011         113   41      0.478379\n",
       "31    2009        1665    8      0.423828\n",
       "32    2013          13   45      0.500173\n",
       "33    2013         113   54      0.480978\n",
       "34    2010          13   93      0.542478\n",
       "35    2015         113   67      0.376328"
      ]
     },
     "execution_count": 4,
     "metadata": {},
     "output_type": "execute_result"
    }
   ],
   "source": [
    "df = spark.table(\"gmetyprov.\"+\"GRAFICO_\"+\"PYI_NEG\"+\"_\"+\"prod_Driv4\"+\"_12A\")\n",
    "df.toPandas()"
   ]
  },
  {
   "cell_type": "markdown",
   "id": "3d6c1fc2-fd42-4267-b8b8-2458ef611d6d",
   "metadata": {},
   "source": [
    "Se pide graficar la columna \"AVG_LGD_T_LR\" para cada categoria de la columna \"prod_Driv4\""
   ]
  },
  {
   "cell_type": "code",
   "execution_count": 5,
   "id": "29d7fe28-31e9-4321-bc69-cbddbfd966c9",
   "metadata": {},
   "outputs": [
    {
     "name": "stderr",
     "output_type": "stream",
     "text": [
      "                                                                                \r"
     ]
    }
   ],
   "source": [
    "# Capturamos las categorias en una lista\n",
    "categorias = list(df.toPandas()[\"prod_Driv4\"].unique())"
   ]
  },
  {
   "cell_type": "code",
   "execution_count": 7,
   "id": "2f692781-b66c-4651-b012-154eb62df008",
   "metadata": {},
   "outputs": [
    {
     "name": "stderr",
     "output_type": "stream",
     "text": [
      "                                                                                \r"
     ]
    },
    {
     "data": {
      "text/html": [
       "<div>\n",
       "<style scoped>\n",
       "    .dataframe tbody tr th:only-of-type {\n",
       "        vertical-align: middle;\n",
       "    }\n",
       "\n",
       "    .dataframe tbody tr th {\n",
       "        vertical-align: top;\n",
       "    }\n",
       "\n",
       "    .dataframe thead th {\n",
       "        text-align: right;\n",
       "    }\n",
       "</style>\n",
       "<table border=\"1\" class=\"dataframe\">\n",
       "  <thead>\n",
       "    <tr style=\"text-align: right;\">\n",
       "      <th></th>\n",
       "      <th>FEC_AN</th>\n",
       "      <th>prod_Driv4</th>\n",
       "      <th>N</th>\n",
       "      <th>AVG_LGD_T_LR</th>\n",
       "    </tr>\n",
       "  </thead>\n",
       "  <tbody>\n",
       "    <tr>\n",
       "      <th>0</th>\n",
       "      <td>2008</td>\n",
       "      <td>13</td>\n",
       "      <td>127</td>\n",
       "      <td>0.651915</td>\n",
       "    </tr>\n",
       "    <tr>\n",
       "      <th>1</th>\n",
       "      <td>2009</td>\n",
       "      <td>13</td>\n",
       "      <td>114</td>\n",
       "      <td>0.501932</td>\n",
       "    </tr>\n",
       "    <tr>\n",
       "      <th>2</th>\n",
       "      <td>2010</td>\n",
       "      <td>13</td>\n",
       "      <td>93</td>\n",
       "      <td>0.542478</td>\n",
       "    </tr>\n",
       "    <tr>\n",
       "      <th>3</th>\n",
       "      <td>2011</td>\n",
       "      <td>13</td>\n",
       "      <td>50</td>\n",
       "      <td>0.533355</td>\n",
       "    </tr>\n",
       "    <tr>\n",
       "      <th>4</th>\n",
       "      <td>2012</td>\n",
       "      <td>13</td>\n",
       "      <td>45</td>\n",
       "      <td>0.481911</td>\n",
       "    </tr>\n",
       "    <tr>\n",
       "      <th>5</th>\n",
       "      <td>2013</td>\n",
       "      <td>13</td>\n",
       "      <td>45</td>\n",
       "      <td>0.500173</td>\n",
       "    </tr>\n",
       "    <tr>\n",
       "      <th>6</th>\n",
       "      <td>2014</td>\n",
       "      <td>13</td>\n",
       "      <td>37</td>\n",
       "      <td>0.391462</td>\n",
       "    </tr>\n",
       "    <tr>\n",
       "      <th>7</th>\n",
       "      <td>2015</td>\n",
       "      <td>13</td>\n",
       "      <td>26</td>\n",
       "      <td>0.353867</td>\n",
       "    </tr>\n",
       "    <tr>\n",
       "      <th>8</th>\n",
       "      <td>2016</td>\n",
       "      <td>13</td>\n",
       "      <td>32</td>\n",
       "      <td>0.546166</td>\n",
       "    </tr>\n",
       "  </tbody>\n",
       "</table>\n",
       "</div>"
      ],
      "text/plain": [
       "   FEC_AN  prod_Driv4    N  AVG_LGD_T_LR\n",
       "0    2008          13  127      0.651915\n",
       "1    2009          13  114      0.501932\n",
       "2    2010          13   93      0.542478\n",
       "3    2011          13   50      0.533355\n",
       "4    2012          13   45      0.481911\n",
       "5    2013          13   45      0.500173\n",
       "6    2014          13   37      0.391462\n",
       "7    2015          13   26      0.353867\n",
       "8    2016          13   32      0.546166"
      ]
     },
     "execution_count": 7,
     "metadata": {},
     "output_type": "execute_result"
    }
   ],
   "source": [
    "# Buscamos en el DataFrame en qué parte tengo cada categoria, para esto usamos la función where\n",
    "df.where(col(\"prod_Driv4\")==13).orderBy(\"FEC_AN\").toPandas()"
   ]
  },
  {
   "cell_type": "code",
   "execution_count": 8,
   "id": "625b195b-c00c-4dae-93cd-a74048a6f13e",
   "metadata": {},
   "outputs": [
    {
     "name": "stderr",
     "output_type": "stream",
     "text": [
      "                                                                                \r"
     ]
    }
   ],
   "source": [
    "LGD =[]\n",
    "Fechas = []\n",
    "\n",
    "for categoria in categorias:\n",
    "    LGD.append([c*100 for c in df.where(col(\"prod_Driv4\")==int(categoria)).orderBy(\"FEC_AN\").rdd.map(lambda x: x.AVG_LGD_T_LR).collect()])\n",
    "    Fechas.append(df.where(col(\"prod_Driv4\")==int(categoria)).orderBy(\"FEC_AN\").rdd.map(lambda x: x.FEC_AN).collect())"
   ]
  },
  {
   "cell_type": "code",
   "execution_count": 9,
   "id": "a26c1826-4ddc-48f9-b946-b2e7889b3736",
   "metadata": {},
   "outputs": [],
   "source": [
    "colors = [\"red\",\"green\",\"blue\",\"yellow\",\"black\"]"
   ]
  },
  {
   "cell_type": "code",
   "execution_count": 28,
   "id": "e6e4b95c-f30a-45bd-89f7-66b57d8db6f6",
   "metadata": {},
   "outputs": [],
   "source": [
    "import numpy as np\n",
    "\n",
    "lista = [1,2]\n",
    "array = np.array(lista)"
   ]
  },
  {
   "cell_type": "code",
   "execution_count": 29,
   "id": "3755c71a-d2f0-45b9-b3f4-a848d981325d",
   "metadata": {},
   "outputs": [
    {
     "data": {
      "text/plain": [
       "2"
      ]
     },
     "execution_count": 29,
     "metadata": {},
     "output_type": "execute_result"
    }
   ],
   "source": [
    "array.max()"
   ]
  },
  {
   "cell_type": "code",
   "execution_count": 33,
   "id": "6f3ba77b-9ffc-4767-8c17-3f317ec7b583",
   "metadata": {},
   "outputs": [
    {
     "data": {
      "text/plain": [
       "<matplotlib.legend.Legend at 0x7f9dd5e11b10>"
      ]
     },
     "execution_count": 33,
     "metadata": {},
     "output_type": "execute_result"
    },
    {
     "data": {
      "image/png": "[encoded data removed]",
      "text/plain": [
       "<Figure size 1296x288 with 1 Axes>"
      ]
     },
     "metadata": {
      "needs_background": "light"
     },
     "output_type": "display_data"
    }
   ],
   "source": [
    "# Graficamos\n",
    "import matplotlib.pyplot as plt\n",
    "# Importar numpy para funcionalidad de máximo\n",
    "maximos = []\n",
    "fig = plt.figure(figsize=(18,4))\n",
    "for i in range(len(categorias)):\n",
    "    plt.plot(Fechas[i],LGD[i],color=colors[i],label=int(categorias[i]))\n",
    "    np.array(maximos.append(np.array(LGD[i]).max()))\n",
    "    \n",
    "plt.ylim(0,np.array(maximos).max() +13)\n",
    "\n",
    "plt.legend()"
   ]
  },
  {
   "cell_type": "code",
   "execution_count": null,
   "id": "232637ff-f084-4c96-98dd-24731139302d",
   "metadata": {},
   "outputs": [],
   "source": []
  },
  {
   "cell_type": "markdown",
   "id": "bcae5fa0-62dc-4d0e-80bf-67026a12d81f",
   "metadata": {},
   "source": [
    "### 2.1.3 Ejercicio práctico #3\n",
    "\n",
    "Dada la siguiente tabla:"
   ]
  },
  {
   "cell_type": "code",
   "execution_count": 34,
   "id": "acd15716-2b4e-47ad-8d54-d3db6a005a5d",
   "metadata": {},
   "outputs": [
    {
     "name": "stdout",
     "output_type": "stream",
     "text": [
      "root\n",
      " |-- Variable: string (nullable = true)\n",
      " |-- BIN: integer (nullable = true)\n",
      " |-- Lb: double (nullable = true)\n",
      " |-- Ub: double (nullable = true)\n",
      " |-- good: long (nullable = true)\n",
      " |-- bad: long (nullable = true)\n",
      " |-- TotalGood: long (nullable = true)\n",
      " |-- TotalBad: long (nullable = true)\n",
      " |-- Count: long (nullable = true)\n",
      " |-- good_distr: double (nullable = true)\n",
      " |-- bad_distr: double (nullable = true)\n",
      " |-- badprob: double (nullable = true)\n",
      " |-- woe: double (nullable = true)\n",
      " |-- iv: double (nullable = true)\n",
      " |-- iv_total: double (nullable = true)\n",
      " |-- Tipo_Categ: string (nullable = true)\n",
      "\n"
     ]
    }
   ],
   "source": [
    "df = spark.table(\"gmetyprov.\"+\"table_iv_output_extrapolacion_\"+\"Consumo\"+\"_\"+\"Pers_ant\"+\"_\"+\"FE\")\n",
    "df.printSchema()"
   ]
  },
  {
   "cell_type": "code",
   "execution_count": 35,
   "id": "b443f536-b8da-4961-a740-fa907153f40e",
   "metadata": {},
   "outputs": [
    {
     "name": "stderr",
     "output_type": "stream",
     "text": [
      "                                                                                \r"
     ]
    },
    {
     "data": {
      "text/html": [
       "<div>\n",
       "<style scoped>\n",
       "    .dataframe tbody tr th:only-of-type {\n",
       "        vertical-align: middle;\n",
       "    }\n",
       "\n",
       "    .dataframe tbody tr th {\n",
       "        vertical-align: top;\n",
       "    }\n",
       "\n",
       "    .dataframe thead th {\n",
       "        text-align: right;\n",
       "    }\n",
       "</style>\n",
       "<table border=\"1\" class=\"dataframe\">\n",
       "  <thead>\n",
       "    <tr style=\"text-align: right;\">\n",
       "      <th></th>\n",
       "      <th>Variable</th>\n",
       "      <th>BIN</th>\n",
       "      <th>Lb</th>\n",
       "      <th>Ub</th>\n",
       "      <th>good</th>\n",
       "      <th>bad</th>\n",
       "      <th>TotalGood</th>\n",
       "      <th>TotalBad</th>\n",
       "      <th>Count</th>\n",
       "      <th>good_distr</th>\n",
       "      <th>bad_distr</th>\n",
       "      <th>badprob</th>\n",
       "      <th>woe</th>\n",
       "      <th>iv</th>\n",
       "      <th>iv_total</th>\n",
       "      <th>Tipo_Categ</th>\n",
       "    </tr>\n",
       "  </thead>\n",
       "  <tbody>\n",
       "    <tr>\n",
       "      <th>0</th>\n",
       "      <td>PRBP1_SBIF_NUM_ACRE_N</td>\n",
       "      <td>1</td>\n",
       "      <td>0.0</td>\n",
       "      <td>0.000000e+00</td>\n",
       "      <td>62</td>\n",
       "      <td>0</td>\n",
       "      <td>313971</td>\n",
       "      <td>19509</td>\n",
       "      <td>62</td>\n",
       "      <td>0.000197</td>\n",
       "      <td>0.000000</td>\n",
       "      <td>0.000000</td>\n",
       "      <td>0.000000</td>\n",
       "      <td>0.000000</td>\n",
       "      <td>0.456525</td>\n",
       "      <td>normal_categ</td>\n",
       "    </tr>\n",
       "    <tr>\n",
       "      <th>1</th>\n",
       "      <td>PRBP1_SBIF_NUM_ACRE_N</td>\n",
       "      <td>3</td>\n",
       "      <td>0.0</td>\n",
       "      <td>1.000000e+00</td>\n",
       "      <td>115913</td>\n",
       "      <td>5589</td>\n",
       "      <td>313971</td>\n",
       "      <td>19509</td>\n",
       "      <td>121502</td>\n",
       "      <td>0.369184</td>\n",
       "      <td>0.286483</td>\n",
       "      <td>0.045999</td>\n",
       "      <td>0.253615</td>\n",
       "      <td>0.020974</td>\n",
       "      <td>0.456525</td>\n",
       "      <td>normal_categ</td>\n",
       "    </tr>\n",
       "    <tr>\n",
       "      <th>2</th>\n",
       "      <td>DSBF_MORA_30_90</td>\n",
       "      <td>1</td>\n",
       "      <td>0.0</td>\n",
       "      <td>0.000000e+00</td>\n",
       "      <td>2989</td>\n",
       "      <td>4</td>\n",
       "      <td>313971</td>\n",
       "      <td>19509</td>\n",
       "      <td>2993</td>\n",
       "      <td>0.009520</td>\n",
       "      <td>0.000205</td>\n",
       "      <td>0.001336</td>\n",
       "      <td>3.837975</td>\n",
       "      <td>0.035751</td>\n",
       "      <td>0.367480</td>\n",
       "      <td>normal_categ</td>\n",
       "    </tr>\n",
       "    <tr>\n",
       "      <th>3</th>\n",
       "      <td>DSBF_MORA_30_90</td>\n",
       "      <td>3</td>\n",
       "      <td>0.0</td>\n",
       "      <td>inf</td>\n",
       "      <td>14809</td>\n",
       "      <td>4534</td>\n",
       "      <td>313971</td>\n",
       "      <td>19509</td>\n",
       "      <td>19343</td>\n",
       "      <td>0.047167</td>\n",
       "      <td>0.232406</td>\n",
       "      <td>0.234400</td>\n",
       "      <td>-1.594794</td>\n",
       "      <td>0.295418</td>\n",
       "      <td>0.367480</td>\n",
       "      <td>normal_categ</td>\n",
       "    </tr>\n",
       "    <tr>\n",
       "      <th>4</th>\n",
       "      <td>media_pasivo_u3</td>\n",
       "      <td>3</td>\n",
       "      <td>0.0</td>\n",
       "      <td>7.825067e+04</td>\n",
       "      <td>58603</td>\n",
       "      <td>5451</td>\n",
       "      <td>313971</td>\n",
       "      <td>19509</td>\n",
       "      <td>64054</td>\n",
       "      <td>0.186651</td>\n",
       "      <td>0.279410</td>\n",
       "      <td>0.085100</td>\n",
       "      <td>-0.403438</td>\n",
       "      <td>0.037422</td>\n",
       "      <td>0.740439</td>\n",
       "      <td>normal_categ</td>\n",
       "    </tr>\n",
       "    <tr>\n",
       "      <th>...</th>\n",
       "      <td>...</td>\n",
       "      <td>...</td>\n",
       "      <td>...</td>\n",
       "      <td>...</td>\n",
       "      <td>...</td>\n",
       "      <td>...</td>\n",
       "      <td>...</td>\n",
       "      <td>...</td>\n",
       "      <td>...</td>\n",
       "      <td>...</td>\n",
       "      <td>...</td>\n",
       "      <td>...</td>\n",
       "      <td>...</td>\n",
       "      <td>...</td>\n",
       "      <td>...</td>\n",
       "      <td>...</td>\n",
       "    </tr>\n",
       "    <tr>\n",
       "      <th>404</th>\n",
       "      <td>subseg</td>\n",
       "      <td>2</td>\n",
       "      <td>155.0</td>\n",
       "      <td>1.600000e+02</td>\n",
       "      <td>53318</td>\n",
       "      <td>2923</td>\n",
       "      <td>313971</td>\n",
       "      <td>19509</td>\n",
       "      <td>56241</td>\n",
       "      <td>0.169818</td>\n",
       "      <td>0.149828</td>\n",
       "      <td>0.051973</td>\n",
       "      <td>0.125239</td>\n",
       "      <td>0.002504</td>\n",
       "      <td>0.110750</td>\n",
       "      <td>normal_categ</td>\n",
       "    </tr>\n",
       "    <tr>\n",
       "      <th>405</th>\n",
       "      <td>subseg</td>\n",
       "      <td>3</td>\n",
       "      <td>160.0</td>\n",
       "      <td>1.610000e+02</td>\n",
       "      <td>53374</td>\n",
       "      <td>5670</td>\n",
       "      <td>313971</td>\n",
       "      <td>19509</td>\n",
       "      <td>59044</td>\n",
       "      <td>0.169997</td>\n",
       "      <td>0.290635</td>\n",
       "      <td>0.096030</td>\n",
       "      <td>-0.536290</td>\n",
       "      <td>0.064697</td>\n",
       "      <td>0.110750</td>\n",
       "      <td>normal_categ</td>\n",
       "    </tr>\n",
       "    <tr>\n",
       "      <th>406</th>\n",
       "      <td>subseg</td>\n",
       "      <td>4</td>\n",
       "      <td>161.0</td>\n",
       "      <td>1.700000e+02</td>\n",
       "      <td>54761</td>\n",
       "      <td>2297</td>\n",
       "      <td>313971</td>\n",
       "      <td>19509</td>\n",
       "      <td>57058</td>\n",
       "      <td>0.174414</td>\n",
       "      <td>0.117741</td>\n",
       "      <td>0.040257</td>\n",
       "      <td>0.392950</td>\n",
       "      <td>0.022270</td>\n",
       "      <td>0.110750</td>\n",
       "      <td>normal_categ</td>\n",
       "    </tr>\n",
       "    <tr>\n",
       "      <th>407</th>\n",
       "      <td>subseg</td>\n",
       "      <td>5</td>\n",
       "      <td>170.0</td>\n",
       "      <td>9.050000e+02</td>\n",
       "      <td>80211</td>\n",
       "      <td>5350</td>\n",
       "      <td>313971</td>\n",
       "      <td>19509</td>\n",
       "      <td>85561</td>\n",
       "      <td>0.255473</td>\n",
       "      <td>0.274232</td>\n",
       "      <td>0.062528</td>\n",
       "      <td>-0.070861</td>\n",
       "      <td>0.001329</td>\n",
       "      <td>0.110750</td>\n",
       "      <td>normal_categ</td>\n",
       "    </tr>\n",
       "    <tr>\n",
       "      <th>408</th>\n",
       "      <td>subseg</td>\n",
       "      <td>6</td>\n",
       "      <td>905.0</td>\n",
       "      <td>inf</td>\n",
       "      <td>29858</td>\n",
       "      <td>1350</td>\n",
       "      <td>313971</td>\n",
       "      <td>19509</td>\n",
       "      <td>31208</td>\n",
       "      <td>0.095098</td>\n",
       "      <td>0.069199</td>\n",
       "      <td>0.043258</td>\n",
       "      <td>0.317923</td>\n",
       "      <td>0.008234</td>\n",
       "      <td>0.110750</td>\n",
       "      <td>normal_categ</td>\n",
       "    </tr>\n",
       "  </tbody>\n",
       "</table>\n",
       "<p>409 rows × 16 columns</p>\n",
       "</div>"
      ],
      "text/plain": [
       "                  Variable  BIN     Lb            Ub    good   bad  TotalGood  \\\n",
       "0    PRBP1_SBIF_NUM_ACRE_N    1    0.0  0.000000e+00      62     0     313971   \n",
       "1    PRBP1_SBIF_NUM_ACRE_N    3    0.0  1.000000e+00  115913  5589     313971   \n",
       "2          DSBF_MORA_30_90    1    0.0  0.000000e+00    2989     4     313971   \n",
       "3          DSBF_MORA_30_90    3    0.0           inf   14809  4534     313971   \n",
       "4          media_pasivo_u3    3    0.0  7.825067e+04   58603  5451     313971   \n",
       "..                     ...  ...    ...           ...     ...   ...        ...   \n",
       "404                 subseg    2  155.0  1.600000e+02   53318  2923     313971   \n",
       "405                 subseg    3  160.0  1.610000e+02   53374  5670     313971   \n",
       "406                 subseg    4  161.0  1.700000e+02   54761  2297     313971   \n",
       "407                 subseg    5  170.0  9.050000e+02   80211  5350     313971   \n",
       "408                 subseg    6  905.0           inf   29858  1350     313971   \n",
       "\n",
       "     TotalBad   Count  good_distr  bad_distr   badprob       woe        iv  \\\n",
       "0       19509      62    0.000197   0.000000  0.000000  0.000000  0.000000   \n",
       "1       19509  121502    0.369184   0.286483  0.045999  0.253615  0.020974   \n",
       "2       19509    2993    0.009520   0.000205  0.001336  3.837975  0.035751   \n",
       "3       19509   19343    0.047167   0.232406  0.234400 -1.594794  0.295418   \n",
       "4       19509   64054    0.186651   0.279410  0.085100 -0.403438  0.037422   \n",
       "..        ...     ...         ...        ...       ...       ...       ...   \n",
       "404     19509   56241    0.169818   0.149828  0.051973  0.125239  0.002504   \n",
       "405     19509   59044    0.169997   0.290635  0.096030 -0.536290  0.064697   \n",
       "406     19509   57058    0.174414   0.117741  0.040257  0.392950  0.022270   \n",
       "407     19509   85561    0.255473   0.274232  0.062528 -0.070861  0.001329   \n",
       "408     19509   31208    0.095098   0.069199  0.043258  0.317923  0.008234   \n",
       "\n",
       "     iv_total    Tipo_Categ  \n",
       "0    0.456525  normal_categ  \n",
       "1    0.456525  normal_categ  \n",
       "2    0.367480  normal_categ  \n",
       "3    0.367480  normal_categ  \n",
       "4    0.740439  normal_categ  \n",
       "..        ...           ...  \n",
       "404  0.110750  normal_categ  \n",
       "405  0.110750  normal_categ  \n",
       "406  0.110750  normal_categ  \n",
       "407  0.110750  normal_categ  \n",
       "408  0.110750  normal_categ  \n",
       "\n",
       "[409 rows x 16 columns]"
      ]
     },
     "execution_count": 35,
     "metadata": {},
     "output_type": "execute_result"
    }
   ],
   "source": [
    "df.toPandas()"
   ]
  },
  {
   "cell_type": "markdown",
   "id": "7291baaf-48d2-495f-8c8c-ac0bdada2620",
   "metadata": {},
   "source": [
    "Se pide graficar para alguna variable un histograma en donde quede explícito el porcentaje de clientes existentes en cada \"Bin\", junto con gráficos de línea de \"FDO\" y WOE."
   ]
  },
  {
   "cell_type": "code",
   "execution_count": 41,
   "id": "9ef0ddb4-e13e-43d4-be94-b9210e904141",
   "metadata": {},
   "outputs": [],
   "source": [
    "# Seleccionamos una variable para el gráfico y guardamos \n",
    "df_var = df.where(col(\"Variable\")==\"porc_prom_LCA\").orderBy(\"BIN\")"
   ]
  },
  {
   "cell_type": "code",
   "execution_count": 42,
   "id": "71f0aa35-f824-4996-b227-65330a062346",
   "metadata": {},
   "outputs": [
    {
     "name": "stderr",
     "output_type": "stream",
     "text": [
      "                                                                                \r"
     ]
    },
    {
     "data": {
      "text/html": [
       "<div>\n",
       "<style scoped>\n",
       "    .dataframe tbody tr th:only-of-type {\n",
       "        vertical-align: middle;\n",
       "    }\n",
       "\n",
       "    .dataframe tbody tr th {\n",
       "        vertical-align: top;\n",
       "    }\n",
       "\n",
       "    .dataframe thead th {\n",
       "        text-align: right;\n",
       "    }\n",
       "</style>\n",
       "<table border=\"1\" class=\"dataframe\">\n",
       "  <thead>\n",
       "    <tr style=\"text-align: right;\">\n",
       "      <th></th>\n",
       "      <th>Variable</th>\n",
       "      <th>BIN</th>\n",
       "      <th>Lb</th>\n",
       "      <th>Ub</th>\n",
       "      <th>good</th>\n",
       "      <th>bad</th>\n",
       "      <th>TotalGood</th>\n",
       "      <th>TotalBad</th>\n",
       "      <th>Count</th>\n",
       "      <th>good_distr</th>\n",
       "      <th>bad_distr</th>\n",
       "      <th>badprob</th>\n",
       "      <th>woe</th>\n",
       "      <th>iv</th>\n",
       "      <th>iv_total</th>\n",
       "      <th>Tipo_Categ</th>\n",
       "    </tr>\n",
       "  </thead>\n",
       "  <tbody>\n",
       "    <tr>\n",
       "      <th>0</th>\n",
       "      <td>porc_prom_LCA</td>\n",
       "      <td>1</td>\n",
       "      <td>0.00</td>\n",
       "      <td>0.00</td>\n",
       "      <td>14096</td>\n",
       "      <td>2112</td>\n",
       "      <td>313971</td>\n",
       "      <td>19509</td>\n",
       "      <td>16208</td>\n",
       "      <td>0.044896</td>\n",
       "      <td>0.108258</td>\n",
       "      <td>0.130306</td>\n",
       "      <td>-0.880169</td>\n",
       "      <td>0.055769</td>\n",
       "      <td>1.099389</td>\n",
       "      <td>normal_categ</td>\n",
       "    </tr>\n",
       "    <tr>\n",
       "      <th>1</th>\n",
       "      <td>porc_prom_LCA</td>\n",
       "      <td>2</td>\n",
       "      <td>-888889.00</td>\n",
       "      <td>-888889.00</td>\n",
       "      <td>135978</td>\n",
       "      <td>6645</td>\n",
       "      <td>313971</td>\n",
       "      <td>19509</td>\n",
       "      <td>142623</td>\n",
       "      <td>0.433091</td>\n",
       "      <td>0.340612</td>\n",
       "      <td>0.046591</td>\n",
       "      <td>0.240204</td>\n",
       "      <td>0.022214</td>\n",
       "      <td>1.099389</td>\n",
       "      <td>special_categ</td>\n",
       "    </tr>\n",
       "    <tr>\n",
       "      <th>2</th>\n",
       "      <td>porc_prom_LCA</td>\n",
       "      <td>3</td>\n",
       "      <td>-inf</td>\n",
       "      <td>0.01</td>\n",
       "      <td>70543</td>\n",
       "      <td>409</td>\n",
       "      <td>313971</td>\n",
       "      <td>19509</td>\n",
       "      <td>70952</td>\n",
       "      <td>0.224680</td>\n",
       "      <td>0.020965</td>\n",
       "      <td>0.005764</td>\n",
       "      <td>2.371838</td>\n",
       "      <td>0.483180</td>\n",
       "      <td>1.099389</td>\n",
       "      <td>normal_categ</td>\n",
       "    </tr>\n",
       "    <tr>\n",
       "      <th>3</th>\n",
       "      <td>porc_prom_LCA</td>\n",
       "      <td>4</td>\n",
       "      <td>0.01</td>\n",
       "      <td>0.20</td>\n",
       "      <td>27598</td>\n",
       "      <td>489</td>\n",
       "      <td>313971</td>\n",
       "      <td>19509</td>\n",
       "      <td>28087</td>\n",
       "      <td>0.087900</td>\n",
       "      <td>0.025065</td>\n",
       "      <td>0.017410</td>\n",
       "      <td>1.254711</td>\n",
       "      <td>0.078839</td>\n",
       "      <td>1.099389</td>\n",
       "      <td>normal_categ</td>\n",
       "    </tr>\n",
       "    <tr>\n",
       "      <th>4</th>\n",
       "      <td>porc_prom_LCA</td>\n",
       "      <td>5</td>\n",
       "      <td>0.20</td>\n",
       "      <td>0.50</td>\n",
       "      <td>16810</td>\n",
       "      <td>620</td>\n",
       "      <td>313971</td>\n",
       "      <td>19509</td>\n",
       "      <td>17430</td>\n",
       "      <td>0.053540</td>\n",
       "      <td>0.031780</td>\n",
       "      <td>0.035571</td>\n",
       "      <td>0.521585</td>\n",
       "      <td>0.011350</td>\n",
       "      <td>1.099389</td>\n",
       "      <td>normal_categ</td>\n",
       "    </tr>\n",
       "    <tr>\n",
       "      <th>5</th>\n",
       "      <td>porc_prom_LCA</td>\n",
       "      <td>6</td>\n",
       "      <td>0.50</td>\n",
       "      <td>0.80</td>\n",
       "      <td>14374</td>\n",
       "      <td>961</td>\n",
       "      <td>313971</td>\n",
       "      <td>19509</td>\n",
       "      <td>15335</td>\n",
       "      <td>0.045781</td>\n",
       "      <td>0.049259</td>\n",
       "      <td>0.062667</td>\n",
       "      <td>-0.073223</td>\n",
       "      <td>0.000255</td>\n",
       "      <td>1.099389</td>\n",
       "      <td>normal_categ</td>\n",
       "    </tr>\n",
       "    <tr>\n",
       "      <th>6</th>\n",
       "      <td>porc_prom_LCA</td>\n",
       "      <td>7</td>\n",
       "      <td>0.80</td>\n",
       "      <td>0.90</td>\n",
       "      <td>5811</td>\n",
       "      <td>572</td>\n",
       "      <td>313971</td>\n",
       "      <td>19509</td>\n",
       "      <td>6383</td>\n",
       "      <td>0.018508</td>\n",
       "      <td>0.029320</td>\n",
       "      <td>0.089613</td>\n",
       "      <td>-0.460056</td>\n",
       "      <td>0.004974</td>\n",
       "      <td>1.099389</td>\n",
       "      <td>normal_categ</td>\n",
       "    </tr>\n",
       "    <tr>\n",
       "      <th>7</th>\n",
       "      <td>porc_prom_LCA</td>\n",
       "      <td>8</td>\n",
       "      <td>0.90</td>\n",
       "      <td>inf</td>\n",
       "      <td>28761</td>\n",
       "      <td>7701</td>\n",
       "      <td>313971</td>\n",
       "      <td>19509</td>\n",
       "      <td>36462</td>\n",
       "      <td>0.091604</td>\n",
       "      <td>0.394741</td>\n",
       "      <td>0.211206</td>\n",
       "      <td>-1.460755</td>\n",
       "      <td>0.442809</td>\n",
       "      <td>1.099389</td>\n",
       "      <td>normal_categ</td>\n",
       "    </tr>\n",
       "  </tbody>\n",
       "</table>\n",
       "</div>"
      ],
      "text/plain": [
       "        Variable  BIN         Lb         Ub    good   bad  TotalGood  \\\n",
       "0  porc_prom_LCA    1       0.00       0.00   14096  2112     313971   \n",
       "1  porc_prom_LCA    2 -888889.00 -888889.00  135978  6645     313971   \n",
       "2  porc_prom_LCA    3       -inf       0.01   70543   409     313971   \n",
       "3  porc_prom_LCA    4       0.01       0.20   27598   489     313971   \n",
       "4  porc_prom_LCA    5       0.20       0.50   16810   620     313971   \n",
       "5  porc_prom_LCA    6       0.50       0.80   14374   961     313971   \n",
       "6  porc_prom_LCA    7       0.80       0.90    5811   572     313971   \n",
       "7  porc_prom_LCA    8       0.90        inf   28761  7701     313971   \n",
       "\n",
       "   TotalBad   Count  good_distr  bad_distr   badprob       woe        iv  \\\n",
       "0     19509   16208    0.044896   0.108258  0.130306 -0.880169  0.055769   \n",
       "1     19509  142623    0.433091   0.340612  0.046591  0.240204  0.022214   \n",
       "2     19509   70952    0.224680   0.020965  0.005764  2.371838  0.483180   \n",
       "3     19509   28087    0.087900   0.025065  0.017410  1.254711  0.078839   \n",
       "4     19509   17430    0.053540   0.031780  0.035571  0.521585  0.011350   \n",
       "5     19509   15335    0.045781   0.049259  0.062667 -0.073223  0.000255   \n",
       "6     19509    6383    0.018508   0.029320  0.089613 -0.460056  0.004974   \n",
       "7     19509   36462    0.091604   0.394741  0.211206 -1.460755  0.442809   \n",
       "\n",
       "   iv_total     Tipo_Categ  \n",
       "0  1.099389   normal_categ  \n",
       "1  1.099389  special_categ  \n",
       "2  1.099389   normal_categ  \n",
       "3  1.099389   normal_categ  \n",
       "4  1.099389   normal_categ  \n",
       "5  1.099389   normal_categ  \n",
       "6  1.099389   normal_categ  \n",
       "7  1.099389   normal_categ  "
      ]
     },
     "execution_count": 42,
     "metadata": {},
     "output_type": "execute_result"
    }
   ],
   "source": [
    "df_var.toPandas()"
   ]
  },
  {
   "cell_type": "code",
   "execution_count": 43,
   "id": "271fe85d-74a0-4748-94f7-7bd4f8e49539",
   "metadata": {},
   "outputs": [
    {
     "name": "stderr",
     "output_type": "stream",
     "text": [
      "                                                                                \r"
     ]
    }
   ],
   "source": [
    "# Capturamos los datos que nos interesan\n",
    "bins = df_var.rdd.map(lambda x: x.BIN).collect()\n",
    "counts = df_var.rdd.map(lambda x: x.Count).collect()\n",
    "woe = df_var.rdd.map(lambda x: x.woe).collect()\n",
    "FDO = df_var.rdd.map(lambda x: x.badprob).collect()"
   ]
  },
  {
   "cell_type": "code",
   "execution_count": 49,
   "id": "f4baf819-2ee2-485e-b11d-c488c98c2595",
   "metadata": {},
   "outputs": [],
   "source": [
    "# Creamos una lista con porcentajes a partir de la lista Counts\n",
    "counts = np.array(counts)\n",
    "sum_total = counts.sum()\n",
    "\n",
    "percent = [(c/sum_total)*100 for c in counts]"
   ]
  },
  {
   "cell_type": "code",
   "execution_count": 71,
   "id": "543d8d40-098d-4e87-b875-75a97d7176b8",
   "metadata": {},
   "outputs": [
    {
     "data": {
      "image/png": "[encoded data removed]",
      "text/plain": [
       "<Figure size 1296x360 with 2 Axes>"
      ]
     },
     "metadata": {
      "needs_background": "light"
     },
     "output_type": "display_data"
    }
   ],
   "source": [
    "# Ya con toda la información, graficamos \n",
    "fig, ax_1 = plt.subplots(figsize = (18,5))\n",
    "ax_1.set_ylabel(\"Percent\")\n",
    "ax_1.set_xlabel(\"BINS\")\n",
    "plt.bar(bins,percent,color=\"darkgrey\",edgecolor=\"black\")\n",
    "for a,b in zip(bins,percent):\n",
    "    plt.text(a-0.15,b+0.35,str(np.round(b,2))+\"%\")\n",
    "\n",
    "# Añadimos una segunda escala\n",
    "ax_2 = ax_1.twinx()\n",
    "ax_2.set_ylabel(\"WOE\")\n",
    "plt.plot(bins,woe,\"b--\",label=\"WOE\")\n",
    "plt.plot(bins,FDO,label=\"FDO\",color=\"red\",marker=\"^\")\n",
    "for a,b in zip(bins,FDO):\n",
    "    plt.text(a,b+0.1,str(np.round(b*100,2))+\"%\",color='red')\n",
    "\n",
    "plt.title(\"Variable porc_prom_LCA\")\n",
    "plt.legend();"
   ]
  },
  {
   "cell_type": "markdown",
   "id": "c6f87a8a-ea36-43c2-9465-43ced5c778a5",
   "metadata": {},
   "source": [
    "## 3.- Transformación de Datos"
   ]
  },
  {
   "cell_type": "code",
   "execution_count": 72,
   "id": "da1ccc6b-6bb7-442a-a7b7-c6e661453675",
   "metadata": {},
   "outputs": [],
   "source": [
    "import pandas as pd"
   ]
  },
  {
   "cell_type": "code",
   "execution_count": 75,
   "id": "bf7a85e5-58ce-44b5-939b-27f6eb9a2dc3",
   "metadata": {},
   "outputs": [],
   "source": [
    "baseline = pd.read_csv(\"./Tablas_input_pd_loc/Baseline_comp.csv\",sep=\";\") #Lo trae como pandas"
   ]
  },
  {
   "cell_type": "code",
   "execution_count": 77,
   "id": "7e904582-fdcd-47ec-a40b-a6ea6ec5c87a",
   "metadata": {},
   "outputs": [],
   "source": [
    "Baseline = spark.createDataFrame(baseline) # Ahora sí es de spark"
   ]
  },
  {
   "cell_type": "code",
   "execution_count": 79,
   "id": "1c31f992-15fd-44ec-af7f-640b19b283ad",
   "metadata": {},
   "outputs": [
    {
     "name": "stdout",
     "output_type": "stream",
     "text": [
      "root\n",
      " |-- id: long (nullable = true)\n",
      " |-- Segmentos: string (nullable = true)\n",
      " |-- T1: string (nullable = true)\n",
      " |-- T2: string (nullable = true)\n",
      " |-- T3: string (nullable = true)\n",
      " |-- T4: string (nullable = true)\n",
      " |-- T5: string (nullable = true)\n",
      " |-- T6: string (nullable = true)\n",
      " |-- T7: string (nullable = true)\n",
      " |-- T8: string (nullable = true)\n",
      " |-- T9: string (nullable = true)\n",
      " |-- T10: string (nullable = true)\n",
      " |-- T11: string (nullable = true)\n",
      "\n"
     ]
    }
   ],
   "source": [
    "Baseline.printSchema()"
   ]
  },
  {
   "cell_type": "code",
   "execution_count": 80,
   "id": "6520b27f-a0b1-4802-84db-a7b0bfb5b94b",
   "metadata": {},
   "outputs": [
    {
     "data": {
      "text/html": [
       "<div>\n",
       "<style scoped>\n",
       "    .dataframe tbody tr th:only-of-type {\n",
       "        vertical-align: middle;\n",
       "    }\n",
       "\n",
       "    .dataframe tbody tr th {\n",
       "        vertical-align: top;\n",
       "    }\n",
       "\n",
       "    .dataframe thead th {\n",
       "        text-align: right;\n",
       "    }\n",
       "</style>\n",
       "<table border=\"1\" class=\"dataframe\">\n",
       "  <thead>\n",
       "    <tr style=\"text-align: right;\">\n",
       "      <th></th>\n",
       "      <th>id</th>\n",
       "      <th>Segmentos</th>\n",
       "      <th>T1</th>\n",
       "      <th>T2</th>\n",
       "      <th>T3</th>\n",
       "      <th>T4</th>\n",
       "      <th>T5</th>\n",
       "      <th>T6</th>\n",
       "      <th>T7</th>\n",
       "      <th>T8</th>\n",
       "      <th>T9</th>\n",
       "      <th>T10</th>\n",
       "      <th>T11</th>\n",
       "    </tr>\n",
       "  </thead>\n",
       "  <tbody>\n",
       "    <tr>\n",
       "      <th>0</th>\n",
       "      <td>1</td>\n",
       "      <td>MODELO_51  [100-531]</td>\n",
       "      <td>13.6846771000%</td>\n",
       "      <td>16.4740753000%</td>\n",
       "      <td>16.9764058000%</td>\n",
       "      <td>17.3539600000%</td>\n",
       "      <td>11.9964226000%</td>\n",
       "      <td>11.0811236000%</td>\n",
       "      <td>9.9862611814%</td>\n",
       "      <td>9.1651143675%</td>\n",
       "      <td>8.5264446233%</td>\n",
       "      <td>8.0155088280%</td>\n",
       "      <td>7.5974704500%</td>\n",
       "    </tr>\n",
       "    <tr>\n",
       "      <th>1</th>\n",
       "      <td>2</td>\n",
       "      <td>MODELO_51  [532-552]</td>\n",
       "      <td>6.3171784000%</td>\n",
       "      <td>11.2301637000%</td>\n",
       "      <td>12.5518169000%</td>\n",
       "      <td>11.7233724000%</td>\n",
       "      <td>8.9041797000%</td>\n",
       "      <td>8.5049074292%</td>\n",
       "      <td>8.2197129500%</td>\n",
       "      <td>8.0058170906%</td>\n",
       "      <td>7.8394536444%</td>\n",
       "      <td>7.7063628875%</td>\n",
       "      <td>7.5974704500%</td>\n",
       "    </tr>\n",
       "    <tr>\n",
       "      <th>2</th>\n",
       "      <td>3</td>\n",
       "      <td>MODELO_51  [553-581]</td>\n",
       "      <td>3.1230423000%</td>\n",
       "      <td>6.3911417000%</td>\n",
       "      <td>7.8567813000%</td>\n",
       "      <td>9.3483283000%</td>\n",
       "      <td>8.3294994000%</td>\n",
       "      <td>8.1058238875%</td>\n",
       "      <td>7.9460556643%</td>\n",
       "      <td>7.8262294969%</td>\n",
       "      <td>7.7330313667%</td>\n",
       "      <td>7.6584728625%</td>\n",
       "      <td>7.5974704500%</td>\n",
       "    </tr>\n",
       "    <tr>\n",
       "      <th>3</th>\n",
       "      <td>4</td>\n",
       "      <td>MODELO_51  [582-999]</td>\n",
       "      <td>1.1358355000%</td>\n",
       "      <td>3.1009623000%</td>\n",
       "      <td>3.9530173000%</td>\n",
       "      <td>4.4460557000%</td>\n",
       "      <td>4.9780416000%</td>\n",
       "      <td>5.7784226375%</td>\n",
       "      <td>6.3501233786%</td>\n",
       "      <td>6.7788989344%</td>\n",
       "      <td>7.1123910333%</td>\n",
       "      <td>7.3791847125%</td>\n",
       "      <td>7.5974704500%</td>\n",
       "    </tr>\n",
       "    <tr>\n",
       "      <th>4</th>\n",
       "      <td>5</td>\n",
       "      <td>MODELO_961  [100-559]</td>\n",
       "      <td>7.0790607000%</td>\n",
       "      <td>9.4932007000%</td>\n",
       "      <td>10.0613958000%</td>\n",
       "      <td>9.2144214609%</td>\n",
       "      <td>8.7062368575%</td>\n",
       "      <td>8.3674471219%</td>\n",
       "      <td>8.1254544536%</td>\n",
       "      <td>7.9439599523%</td>\n",
       "      <td>7.8027975625%</td>\n",
       "      <td>7.6898676506%</td>\n",
       "      <td>7.5974704500%</td>\n",
       "    </tr>\n",
       "    <tr>\n",
       "      <th>5</th>\n",
       "      <td>6</td>\n",
       "      <td>MODELO_961  [560-999]</td>\n",
       "      <td>4.5087948000%</td>\n",
       "      <td>6.8947868000%</td>\n",
       "      <td>7.2093452000%</td>\n",
       "      <td>7.3427632547%</td>\n",
       "      <td>7.4228140875%</td>\n",
       "      <td>7.4761813094%</td>\n",
       "      <td>7.5143007536%</td>\n",
       "      <td>7.5428903367%</td>\n",
       "      <td>7.5651266792%</td>\n",
       "      <td>7.5829157531%</td>\n",
       "      <td>7.5974704500%</td>\n",
       "    </tr>\n",
       "    <tr>\n",
       "      <th>6</th>\n",
       "      <td>7</td>\n",
       "      <td>MODELO_991  [100-999]</td>\n",
       "      <td>1.2523820000%</td>\n",
       "      <td>2.4901065000%</td>\n",
       "      <td>4.6931690000%</td>\n",
       "      <td>5.5968699000%</td>\n",
       "      <td>4.5054949000%</td>\n",
       "      <td>5.4502652069%</td>\n",
       "      <td>6.1251011405%</td>\n",
       "      <td>6.6312280906%</td>\n",
       "      <td>7.0248823852%</td>\n",
       "      <td>7.3398058208%</td>\n",
       "      <td>7.5974704500%</td>\n",
       "    </tr>\n",
       "    <tr>\n",
       "      <th>7</th>\n",
       "      <td>8</td>\n",
       "      <td>CURA</td>\n",
       "      <td>26.1721908000%</td>\n",
       "      <td>15.9704578000%</td>\n",
       "      <td>13.7623328000%</td>\n",
       "      <td>14.6566818000%</td>\n",
       "      <td>12.2755662000%</td>\n",
       "      <td>11.3654285000%</td>\n",
       "      <td>10.7174492000%</td>\n",
       "      <td>9.6449565047%</td>\n",
       "      <td>8.8107955194%</td>\n",
       "      <td>8.1434667313%</td>\n",
       "      <td>7.5974704500%</td>\n",
       "    </tr>\n",
       "    <tr>\n",
       "      <th>8</th>\n",
       "      <td>9</td>\n",
       "      <td>IRREG_1-30</td>\n",
       "      <td>36.9469928000%</td>\n",
       "      <td>23.8772271000%</td>\n",
       "      <td>26.6400215000%</td>\n",
       "      <td>24.1123235000%</td>\n",
       "      <td>20.9157585000%</td>\n",
       "      <td>16.8462815958%</td>\n",
       "      <td>13.9395123786%</td>\n",
       "      <td>11.7594354656%</td>\n",
       "      <td>10.0638200889%</td>\n",
       "      <td>8.7073277875%</td>\n",
       "      <td>7.5974704500%</td>\n",
       "    </tr>\n",
       "    <tr>\n",
       "      <th>9</th>\n",
       "      <td>10</td>\n",
       "      <td>IRREG_31-60</td>\n",
       "      <td>53.0323750000%</td>\n",
       "      <td>31.0101141000%</td>\n",
       "      <td>30.0318882000%</td>\n",
       "      <td>21.5877710000%</td>\n",
       "      <td>15.6101603000%</td>\n",
       "      <td>13.1618384014%</td>\n",
       "      <td>11.4130370452%</td>\n",
       "      <td>10.1014360281%</td>\n",
       "      <td>9.0813019037%</td>\n",
       "      <td>8.2651946042%</td>\n",
       "      <td>7.5974704500%</td>\n",
       "    </tr>\n",
       "    <tr>\n",
       "      <th>10</th>\n",
       "      <td>11</td>\n",
       "      <td>IRREG_61-89</td>\n",
       "      <td>56.3393416000%</td>\n",
       "      <td>33.3918266000%</td>\n",
       "      <td>26.3541919000%</td>\n",
       "      <td>14.2023585000%</td>\n",
       "      <td>9.8458930000%</td>\n",
       "      <td>9.1588749986%</td>\n",
       "      <td>8.6681478548%</td>\n",
       "      <td>8.3001024969%</td>\n",
       "      <td>8.0138449963%</td>\n",
       "      <td>7.7848389958%</td>\n",
       "      <td>7.5974704500%</td>\n",
       "    </tr>\n",
       "    <tr>\n",
       "      <th>11</th>\n",
       "      <td>12</td>\n",
       "      <td>OTROS</td>\n",
       "      <td>1.6027981000%</td>\n",
       "      <td>1.2827226000%</td>\n",
       "      <td>0.6585000000%</td>\n",
       "      <td>2.3057906000%</td>\n",
       "      <td>3.9688899814%</td>\n",
       "      <td>5.0776229024%</td>\n",
       "      <td>5.8695749888%</td>\n",
       "      <td>6.4635390536%</td>\n",
       "      <td>6.9255111040%</td>\n",
       "      <td>7.2950887443%</td>\n",
       "      <td>7.5974704500%</td>\n",
       "    </tr>\n",
       "    <tr>\n",
       "      <th>12</th>\n",
       "      <td>13</td>\n",
       "      <td>REESTRUCTURAS</td>\n",
       "      <td>12.5714116000%</td>\n",
       "      <td>24.2910771000%</td>\n",
       "      <td>14.2875038000%</td>\n",
       "      <td>10.4995644000%</td>\n",
       "      <td>7.2533423000%</td>\n",
       "      <td>6.2853243000%</td>\n",
       "      <td>6.0876128000%</td>\n",
       "      <td>7.8352941000%</td>\n",
       "      <td>7.7384029833%</td>\n",
       "      <td>7.6608900900%</td>\n",
       "      <td>7.5974704500%</td>\n",
       "    </tr>\n",
       "  </tbody>\n",
       "</table>\n",
       "</div>"
      ],
      "text/plain": [
       "    id              Segmentos              T1              T2              T3  \\\n",
       "0    1   MODELO_51  [100-531]  13.6846771000%  16.4740753000%  16.9764058000%   \n",
       "1    2   MODELO_51  [532-552]   6.3171784000%  11.2301637000%  12.5518169000%   \n",
       "2    3   MODELO_51  [553-581]   3.1230423000%   6.3911417000%   7.8567813000%   \n",
       "3    4   MODELO_51  [582-999]   1.1358355000%   3.1009623000%   3.9530173000%   \n",
       "4    5  MODELO_961  [100-559]   7.0790607000%   9.4932007000%  10.0613958000%   \n",
       "5    6  MODELO_961  [560-999]   4.5087948000%   6.8947868000%   7.2093452000%   \n",
       "6    7  MODELO_991  [100-999]   1.2523820000%   2.4901065000%   4.6931690000%   \n",
       "7    8                   CURA  26.1721908000%  15.9704578000%  13.7623328000%   \n",
       "8    9             IRREG_1-30  36.9469928000%  23.8772271000%  26.6400215000%   \n",
       "9   10            IRREG_31-60  53.0323750000%  31.0101141000%  30.0318882000%   \n",
       "10  11            IRREG_61-89  56.3393416000%  33.3918266000%  26.3541919000%   \n",
       "11  12                  OTROS   1.6027981000%   1.2827226000%   0.6585000000%   \n",
       "12  13          REESTRUCTURAS  12.5714116000%  24.2910771000%  14.2875038000%   \n",
       "\n",
       "                T4              T5              T6              T7  \\\n",
       "0   17.3539600000%  11.9964226000%  11.0811236000%   9.9862611814%   \n",
       "1   11.7233724000%   8.9041797000%   8.5049074292%   8.2197129500%   \n",
       "2    9.3483283000%   8.3294994000%   8.1058238875%   7.9460556643%   \n",
       "3    4.4460557000%   4.9780416000%   5.7784226375%   6.3501233786%   \n",
       "4    9.2144214609%   8.7062368575%   8.3674471219%   8.1254544536%   \n",
       "5    7.3427632547%   7.4228140875%   7.4761813094%   7.5143007536%   \n",
       "6    5.5968699000%   4.5054949000%   5.4502652069%   6.1251011405%   \n",
       "7   14.6566818000%  12.2755662000%  11.3654285000%  10.7174492000%   \n",
       "8   24.1123235000%  20.9157585000%  16.8462815958%  13.9395123786%   \n",
       "9   21.5877710000%  15.6101603000%  13.1618384014%  11.4130370452%   \n",
       "10  14.2023585000%   9.8458930000%   9.1588749986%   8.6681478548%   \n",
       "11   2.3057906000%   3.9688899814%   5.0776229024%   5.8695749888%   \n",
       "12  10.4995644000%   7.2533423000%   6.2853243000%   6.0876128000%   \n",
       "\n",
       "                T8              T9            T10            T11  \n",
       "0    9.1651143675%   8.5264446233%  8.0155088280%  7.5974704500%  \n",
       "1    8.0058170906%   7.8394536444%  7.7063628875%  7.5974704500%  \n",
       "2    7.8262294969%   7.7330313667%  7.6584728625%  7.5974704500%  \n",
       "3    6.7788989344%   7.1123910333%  7.3791847125%  7.5974704500%  \n",
       "4    7.9439599523%   7.8027975625%  7.6898676506%  7.5974704500%  \n",
       "5    7.5428903367%   7.5651266792%  7.5829157531%  7.5974704500%  \n",
       "6    6.6312280906%   7.0248823852%  7.3398058208%  7.5974704500%  \n",
       "7    9.6449565047%   8.8107955194%  8.1434667313%  7.5974704500%  \n",
       "8   11.7594354656%  10.0638200889%  8.7073277875%  7.5974704500%  \n",
       "9   10.1014360281%   9.0813019037%  8.2651946042%  7.5974704500%  \n",
       "10   8.3001024969%   8.0138449963%  7.7848389958%  7.5974704500%  \n",
       "11   6.4635390536%   6.9255111040%  7.2950887443%  7.5974704500%  \n",
       "12   7.8352941000%   7.7384029833%  7.6608900900%  7.5974704500%  "
      ]
     },
     "execution_count": 80,
     "metadata": {},
     "output_type": "execute_result"
    }
   ],
   "source": [
    "baseline"
   ]
  },
  {
   "cell_type": "code",
   "execution_count": 81,
   "id": "4f674e9c-8e4f-43e1-8373-d727b6411186",
   "metadata": {},
   "outputs": [],
   "source": [
    "def transformacion(str):\n",
    "    return str.replace(\"%\",\"\")"
   ]
  },
  {
   "cell_type": "code",
   "execution_count": 82,
   "id": "3a7e6f07-898c-4553-9d83-291679b49a3c",
   "metadata": {},
   "outputs": [],
   "source": [
    "porcentaje = \"18%\""
   ]
  },
  {
   "cell_type": "code",
   "execution_count": 83,
   "id": "631a0f63-d6ac-4126-84a6-a6e58401560b",
   "metadata": {},
   "outputs": [],
   "source": [
    "porcentaje_transformado = transformacion(porcentaje)"
   ]
  },
  {
   "cell_type": "code",
   "execution_count": 85,
   "id": "928a4c56-42ce-4f03-a29b-6f481f37a424",
   "metadata": {},
   "outputs": [
    {
     "data": {
      "text/plain": [
       "18"
      ]
     },
     "execution_count": 85,
     "metadata": {},
     "output_type": "execute_result"
    }
   ],
   "source": [
    "int(porcentaje_transformado)"
   ]
  },
  {
   "cell_type": "code",
   "execution_count": 86,
   "id": "66bf65be-77c3-40a7-b329-46990f413722",
   "metadata": {},
   "outputs": [],
   "source": [
    "# Creamos udf para transformación \n",
    "@udf(returnType=StringType())\n",
    "def percent_transform(percent):\n",
    "    return percent.replace(\"%\",\"\")"
   ]
  },
  {
   "cell_type": "code",
   "execution_count": 87,
   "id": "3210ee96-8851-4dd0-9259-4b547771f418",
   "metadata": {},
   "outputs": [],
   "source": [
    "# Transformamos \n",
    "for columna in Baseline.columns[2:]:\n",
    "    Baseline = Baseline.withColumn(columna,(percent_transform(col(columna))/100).cast(\"Double\"))"
   ]
  },
  {
   "cell_type": "code",
   "execution_count": 88,
   "id": "7d918085-d1a5-4d68-b4c0-5473434f613e",
   "metadata": {},
   "outputs": [
    {
     "name": "stdout",
     "output_type": "stream",
     "text": [
      "root\n",
      " |-- id: long (nullable = true)\n",
      " |-- Segmentos: string (nullable = true)\n",
      " |-- T1: double (nullable = true)\n",
      " |-- T2: double (nullable = true)\n",
      " |-- T3: double (nullable = true)\n",
      " |-- T4: double (nullable = true)\n",
      " |-- T5: double (nullable = true)\n",
      " |-- T6: double (nullable = true)\n",
      " |-- T7: double (nullable = true)\n",
      " |-- T8: double (nullable = true)\n",
      " |-- T9: double (nullable = true)\n",
      " |-- T10: double (nullable = true)\n",
      " |-- T11: double (nullable = true)\n",
      "\n"
     ]
    }
   ],
   "source": [
    "Baseline.printSchema()"
   ]
  },
  {
   "cell_type": "code",
   "execution_count": 89,
   "id": "6beb2756-2241-4375-8758-59efab9ea5e8",
   "metadata": {},
   "outputs": [
    {
     "name": "stderr",
     "output_type": "stream",
     "text": [
      "                                                                                \r"
     ]
    },
    {
     "data": {
      "text/html": [
       "<div>\n",
       "<style scoped>\n",
       "    .dataframe tbody tr th:only-of-type {\n",
       "        vertical-align: middle;\n",
       "    }\n",
       "\n",
       "    .dataframe tbody tr th {\n",
       "        vertical-align: top;\n",
       "    }\n",
       "\n",
       "    .dataframe thead th {\n",
       "        text-align: right;\n",
       "    }\n",
       "</style>\n",
       "<table border=\"1\" class=\"dataframe\">\n",
       "  <thead>\n",
       "    <tr style=\"text-align: right;\">\n",
       "      <th></th>\n",
       "      <th>id</th>\n",
       "      <th>Segmentos</th>\n",
       "      <th>T1</th>\n",
       "      <th>T2</th>\n",
       "      <th>T3</th>\n",
       "      <th>T4</th>\n",
       "      <th>T5</th>\n",
       "      <th>T6</th>\n",
       "      <th>T7</th>\n",
       "      <th>T8</th>\n",
       "      <th>T9</th>\n",
       "      <th>T10</th>\n",
       "      <th>T11</th>\n",
       "    </tr>\n",
       "  </thead>\n",
       "  <tbody>\n",
       "    <tr>\n",
       "      <th>0</th>\n",
       "      <td>1</td>\n",
       "      <td>MODELO_51  [100-531]</td>\n",
       "      <td>0.136847</td>\n",
       "      <td>0.164741</td>\n",
       "      <td>0.169764</td>\n",
       "      <td>0.173540</td>\n",
       "      <td>0.119964</td>\n",
       "      <td>0.110811</td>\n",
       "      <td>0.099863</td>\n",
       "      <td>0.091651</td>\n",
       "      <td>0.085264</td>\n",
       "      <td>0.080155</td>\n",
       "      <td>0.075975</td>\n",
       "    </tr>\n",
       "    <tr>\n",
       "      <th>1</th>\n",
       "      <td>2</td>\n",
       "      <td>MODELO_51  [532-552]</td>\n",
       "      <td>0.063172</td>\n",
       "      <td>0.112302</td>\n",
       "      <td>0.125518</td>\n",
       "      <td>0.117234</td>\n",
       "      <td>0.089042</td>\n",
       "      <td>0.085049</td>\n",
       "      <td>0.082197</td>\n",
       "      <td>0.080058</td>\n",
       "      <td>0.078395</td>\n",
       "      <td>0.077064</td>\n",
       "      <td>0.075975</td>\n",
       "    </tr>\n",
       "    <tr>\n",
       "      <th>2</th>\n",
       "      <td>3</td>\n",
       "      <td>MODELO_51  [553-581]</td>\n",
       "      <td>0.031230</td>\n",
       "      <td>0.063911</td>\n",
       "      <td>0.078568</td>\n",
       "      <td>0.093483</td>\n",
       "      <td>0.083295</td>\n",
       "      <td>0.081058</td>\n",
       "      <td>0.079461</td>\n",
       "      <td>0.078262</td>\n",
       "      <td>0.077330</td>\n",
       "      <td>0.076585</td>\n",
       "      <td>0.075975</td>\n",
       "    </tr>\n",
       "    <tr>\n",
       "      <th>3</th>\n",
       "      <td>4</td>\n",
       "      <td>MODELO_51  [582-999]</td>\n",
       "      <td>0.011358</td>\n",
       "      <td>0.031010</td>\n",
       "      <td>0.039530</td>\n",
       "      <td>0.044461</td>\n",
       "      <td>0.049780</td>\n",
       "      <td>0.057784</td>\n",
       "      <td>0.063501</td>\n",
       "      <td>0.067789</td>\n",
       "      <td>0.071124</td>\n",
       "      <td>0.073792</td>\n",
       "      <td>0.075975</td>\n",
       "    </tr>\n",
       "    <tr>\n",
       "      <th>4</th>\n",
       "      <td>5</td>\n",
       "      <td>MODELO_961  [100-559]</td>\n",
       "      <td>0.070791</td>\n",
       "      <td>0.094932</td>\n",
       "      <td>0.100614</td>\n",
       "      <td>0.092144</td>\n",
       "      <td>0.087062</td>\n",
       "      <td>0.083674</td>\n",
       "      <td>0.081255</td>\n",
       "      <td>0.079440</td>\n",
       "      <td>0.078028</td>\n",
       "      <td>0.076899</td>\n",
       "      <td>0.075975</td>\n",
       "    </tr>\n",
       "    <tr>\n",
       "      <th>5</th>\n",
       "      <td>6</td>\n",
       "      <td>MODELO_961  [560-999]</td>\n",
       "      <td>0.045088</td>\n",
       "      <td>0.068948</td>\n",
       "      <td>0.072093</td>\n",
       "      <td>0.073428</td>\n",
       "      <td>0.074228</td>\n",
       "      <td>0.074762</td>\n",
       "      <td>0.075143</td>\n",
       "      <td>0.075429</td>\n",
       "      <td>0.075651</td>\n",
       "      <td>0.075829</td>\n",
       "      <td>0.075975</td>\n",
       "    </tr>\n",
       "    <tr>\n",
       "      <th>6</th>\n",
       "      <td>7</td>\n",
       "      <td>MODELO_991  [100-999]</td>\n",
       "      <td>0.012524</td>\n",
       "      <td>0.024901</td>\n",
       "      <td>0.046932</td>\n",
       "      <td>0.055969</td>\n",
       "      <td>0.045055</td>\n",
       "      <td>0.054503</td>\n",
       "      <td>0.061251</td>\n",
       "      <td>0.066312</td>\n",
       "      <td>0.070249</td>\n",
       "      <td>0.073398</td>\n",
       "      <td>0.075975</td>\n",
       "    </tr>\n",
       "    <tr>\n",
       "      <th>7</th>\n",
       "      <td>8</td>\n",
       "      <td>CURA</td>\n",
       "      <td>0.261722</td>\n",
       "      <td>0.159705</td>\n",
       "      <td>0.137623</td>\n",
       "      <td>0.146567</td>\n",
       "      <td>0.122756</td>\n",
       "      <td>0.113654</td>\n",
       "      <td>0.107174</td>\n",
       "      <td>0.096450</td>\n",
       "      <td>0.088108</td>\n",
       "      <td>0.081435</td>\n",
       "      <td>0.075975</td>\n",
       "    </tr>\n",
       "    <tr>\n",
       "      <th>8</th>\n",
       "      <td>9</td>\n",
       "      <td>IRREG_1-30</td>\n",
       "      <td>0.369470</td>\n",
       "      <td>0.238772</td>\n",
       "      <td>0.266400</td>\n",
       "      <td>0.241123</td>\n",
       "      <td>0.209158</td>\n",
       "      <td>0.168463</td>\n",
       "      <td>0.139395</td>\n",
       "      <td>0.117594</td>\n",
       "      <td>0.100638</td>\n",
       "      <td>0.087073</td>\n",
       "      <td>0.075975</td>\n",
       "    </tr>\n",
       "    <tr>\n",
       "      <th>9</th>\n",
       "      <td>10</td>\n",
       "      <td>IRREG_31-60</td>\n",
       "      <td>0.530324</td>\n",
       "      <td>0.310101</td>\n",
       "      <td>0.300319</td>\n",
       "      <td>0.215878</td>\n",
       "      <td>0.156102</td>\n",
       "      <td>0.131618</td>\n",
       "      <td>0.114130</td>\n",
       "      <td>0.101014</td>\n",
       "      <td>0.090813</td>\n",
       "      <td>0.082652</td>\n",
       "      <td>0.075975</td>\n",
       "    </tr>\n",
       "    <tr>\n",
       "      <th>10</th>\n",
       "      <td>11</td>\n",
       "      <td>IRREG_61-89</td>\n",
       "      <td>0.563393</td>\n",
       "      <td>0.333918</td>\n",
       "      <td>0.263542</td>\n",
       "      <td>0.142024</td>\n",
       "      <td>0.098459</td>\n",
       "      <td>0.091589</td>\n",
       "      <td>0.086681</td>\n",
       "      <td>0.083001</td>\n",
       "      <td>0.080138</td>\n",
       "      <td>0.077848</td>\n",
       "      <td>0.075975</td>\n",
       "    </tr>\n",
       "    <tr>\n",
       "      <th>11</th>\n",
       "      <td>12</td>\n",
       "      <td>OTROS</td>\n",
       "      <td>0.016028</td>\n",
       "      <td>0.012827</td>\n",
       "      <td>0.006585</td>\n",
       "      <td>0.023058</td>\n",
       "      <td>0.039689</td>\n",
       "      <td>0.050776</td>\n",
       "      <td>0.058696</td>\n",
       "      <td>0.064635</td>\n",
       "      <td>0.069255</td>\n",
       "      <td>0.072951</td>\n",
       "      <td>0.075975</td>\n",
       "    </tr>\n",
       "    <tr>\n",
       "      <th>12</th>\n",
       "      <td>13</td>\n",
       "      <td>REESTRUCTURAS</td>\n",
       "      <td>0.125714</td>\n",
       "      <td>0.242911</td>\n",
       "      <td>0.142875</td>\n",
       "      <td>0.104996</td>\n",
       "      <td>0.072533</td>\n",
       "      <td>0.062853</td>\n",
       "      <td>0.060876</td>\n",
       "      <td>0.078353</td>\n",
       "      <td>0.077384</td>\n",
       "      <td>0.076609</td>\n",
       "      <td>0.075975</td>\n",
       "    </tr>\n",
       "  </tbody>\n",
       "</table>\n",
       "</div>"
      ],
      "text/plain": [
       "    id              Segmentos        T1        T2        T3        T4  \\\n",
       "0    1   MODELO_51  [100-531]  0.136847  0.164741  0.169764  0.173540   \n",
       "1    2   MODELO_51  [532-552]  0.063172  0.112302  0.125518  0.117234   \n",
       "2    3   MODELO_51  [553-581]  0.031230  0.063911  0.078568  0.093483   \n",
       "3    4   MODELO_51  [582-999]  0.011358  0.031010  0.039530  0.044461   \n",
       "4    5  MODELO_961  [100-559]  0.070791  0.094932  0.100614  0.092144   \n",
       "5    6  MODELO_961  [560-999]  0.045088  0.068948  0.072093  0.073428   \n",
       "6    7  MODELO_991  [100-999]  0.012524  0.024901  0.046932  0.055969   \n",
       "7    8                   CURA  0.261722  0.159705  0.137623  0.146567   \n",
       "8    9             IRREG_1-30  0.369470  0.238772  0.266400  0.241123   \n",
       "9   10            IRREG_31-60  0.530324  0.310101  0.300319  0.215878   \n",
       "10  11            IRREG_61-89  0.563393  0.333918  0.263542  0.142024   \n",
       "11  12                  OTROS  0.016028  0.012827  0.006585  0.023058   \n",
       "12  13          REESTRUCTURAS  0.125714  0.242911  0.142875  0.104996   \n",
       "\n",
       "          T5        T6        T7        T8        T9       T10       T11  \n",
       "0   0.119964  0.110811  0.099863  0.091651  0.085264  0.080155  0.075975  \n",
       "1   0.089042  0.085049  0.082197  0.080058  0.078395  0.077064  0.075975  \n",
       "2   0.083295  0.081058  0.079461  0.078262  0.077330  0.076585  0.075975  \n",
       "3   0.049780  0.057784  0.063501  0.067789  0.071124  0.073792  0.075975  \n",
       "4   0.087062  0.083674  0.081255  0.079440  0.078028  0.076899  0.075975  \n",
       "5   0.074228  0.074762  0.075143  0.075429  0.075651  0.075829  0.075975  \n",
       "6   0.045055  0.054503  0.061251  0.066312  0.070249  0.073398  0.075975  \n",
       "7   0.122756  0.113654  0.107174  0.096450  0.088108  0.081435  0.075975  \n",
       "8   0.209158  0.168463  0.139395  0.117594  0.100638  0.087073  0.075975  \n",
       "9   0.156102  0.131618  0.114130  0.101014  0.090813  0.082652  0.075975  \n",
       "10  0.098459  0.091589  0.086681  0.083001  0.080138  0.077848  0.075975  \n",
       "11  0.039689  0.050776  0.058696  0.064635  0.069255  0.072951  0.075975  \n",
       "12  0.072533  0.062853  0.060876  0.078353  0.077384  0.076609  0.075975  "
      ]
     },
     "execution_count": 89,
     "metadata": {},
     "output_type": "execute_result"
    }
   ],
   "source": [
    "Baseline.toPandas()"
   ]
  },
  {
   "cell_type": "markdown",
   "id": "a00bff22-b150-41ba-93b2-d21a5e6cea8b",
   "metadata": {},
   "source": [
    "## Extra : Joins\n",
    "\n",
    "Documentación : https://spark.apache.org/docs/3.1.1/api/python/reference/api/pyspark.sql.DataFrame.join.html\n",
    "\n",
    "pag_ejemplos : https://sparkbyexamples.com/pyspark/pyspark-join-explained-with-examples/"
   ]
  },
  {
   "cell_type": "code",
   "execution_count": null,
   "id": "7c9b1fbe-70d9-49ed-9b25-0d5c7b834434",
   "metadata": {},
   "outputs": [],
   "source": []
  }
 ],
 "metadata": {
  "kernelspec": {
   "display_name": "Python 3 (ipykernel)",
   "language": "python",
   "name": "python3"
  },
  "language_info": {
   "codemirror_mode": {
    "name": "ipython",
    "version": 3
   },
   "file_extension": ".py",
   "mimetype": "text/x-python",
   "name": "python",
   "nbconvert_exporter": "python",
   "pygments_lexer": "ipython3",
   "version": "3.7.11"
  }
 },
 "nbformat": 4,
 "nbformat_minor": 5
}
